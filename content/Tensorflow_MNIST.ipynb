{
 "cells": [
  {
   "cell_type": "markdown",
   "metadata": {},
   "source": [
    "### Multilayer Perceptron"
   ]
  },
  {
   "cell_type": "markdown",
   "metadata": {},
   "source": [
    "So I recently upgraded my desktop and now that I have a gtx 1070 card, I really wanted to get my hands on deep learning using my gpu. The library that I have decided to go with is Tensorflow. Tensorflow is a graph computation/deep learning library developed by Google. Tensorflow also has support for running on the gpu so that we can train larger and faster networks. This notebook will run through will include building a multilayer perceptron model on the classic MNIST dataset. \n",
    "\n",
    "The MNIST dataset includes samples of handwritten digits from 1 - 10. The objective is to train our network so that it can determine the digit in a given image. "
   ]
  },
  {
   "cell_type": "code",
   "execution_count": 1,
   "metadata": {
    "collapsed": false
   },
   "outputs": [],
   "source": [
    "import tensorflow as tf"
   ]
  },
  {
   "cell_type": "code",
   "execution_count": 2,
   "metadata": {
    "collapsed": false
   },
   "outputs": [],
   "source": [
    "import matplotlib.pyplot as plt\n",
    "%matplotlib inline"
   ]
  },
  {
   "cell_type": "code",
   "execution_count": 3,
   "metadata": {
    "collapsed": false
   },
   "outputs": [
    {
     "name": "stdout",
     "output_type": "stream",
     "text": [
      "Extracting /tmp/data/train-images-idx3-ubyte.gz\n",
      "Extracting /tmp/data/train-labels-idx1-ubyte.gz\n",
      "Extracting /tmp/data/t10k-images-idx3-ubyte.gz\n",
      "Extracting /tmp/data/t10k-labels-idx1-ubyte.gz\n"
     ]
    }
   ],
   "source": [
    "from tensorflow.examples.tutorials.mnist import input_data\n",
    "mnist = input_data.read_data_sets(\"/tmp/data/\", one_hot=True)"
   ]
  },
  {
   "cell_type": "markdown",
   "metadata": {},
   "source": [
    "Some examples of what each image looks like in the MNIST dataset:"
   ]
  },
  {
   "cell_type": "code",
   "execution_count": 83,
   "metadata": {
    "collapsed": false
   },
   "outputs": [
    {
     "data": {
      "text/plain": [
       "<matplotlib.image.AxesImage at 0x203e068ec50>"
      ]
     },
     "execution_count": 83,
     "metadata": {},
     "output_type": "execute_result"
    },
    {
     "data": {
      "image/png": "[encoded data removed]",
      "text/plain": [
       "<matplotlib.figure.Figure at 0x203df358198>"
      ]
     },
     "metadata": {},
     "output_type": "display_data"
    }
   ],
   "source": [
    "plt.imshow(mnist.train.images[3].reshape((28,28)))"
   ]
  },
  {
   "cell_type": "code",
   "execution_count": 85,
   "metadata": {
    "collapsed": false
   },
   "outputs": [
    {
     "data": {
      "text/plain": [
       "<matplotlib.image.AxesImage at 0x203e06e63c8>"
      ]
     },
     "execution_count": 85,
     "metadata": {},
     "output_type": "execute_result"
    },
    {
     "data": {
      "image/png": "[encoded data removed]",
      "text/plain": [
       "<matplotlib.figure.Figure at 0x203e2118c50>"
      ]
     },
     "metadata": {},
     "output_type": "display_data"
    }
   ],
   "source": [
    "plt.imshow(mnist.train.images[0].reshape((28,28)))"
   ]
  },
  {
   "cell_type": "markdown",
   "metadata": {},
   "source": [
    "A multilayer perceptron model consists of an input layer, a hidden layer (or multiple hidden layers), and an output layer. \n",
    "\n",
    "<img src = \"https://upload.wikimedia.org/wikipedia/commons/c/c2/MultiLayerNeuralNetworkBigger_english.png\" style = \"width: 550px\" />"
   ]
  },
  {
   "cell_type": "markdown",
   "metadata": {},
   "source": [
    "Our model will contain 3 hidden layers with the rectified linear unit (ReLU) function as our activation function. The ReLU function is defined as:\n",
    "$$\n",
    "f(x) = \n",
    "\\begin{cases} \n",
    "      1 & x > 0 \\\\\n",
    "      0 & otherwise\n",
    "   \\end{cases}\n",
    "$$"
   ]
  },
  {
   "cell_type": "code",
   "execution_count": 76,
   "metadata": {
    "collapsed": true
   },
   "outputs": [],
   "source": [
    "n = 28 * 28\n",
    "num_classes = 10\n",
    "x = tf.placeholder(\"float\", [None, n])\n",
    "y = tf.placeholder(\"float\", [None, num_classes])"
   ]
  },
  {
   "cell_type": "markdown",
   "metadata": {},
   "source": [
    "Define model:"
   ]
  },
  {
   "cell_type": "code",
   "execution_count": 77,
   "metadata": {
    "collapsed": true
   },
   "outputs": [],
   "source": [
    "def mlp(x, weights, bias):\n",
    "    # Hidden Layer 1\n",
    "    layer1 = tf.add(tf.matmul(x, weights['h1']), biases['b1'])\n",
    "    layer1 = tf.nn.relu(layer1)\n",
    "    \n",
    "    # Hidden Layer 2 \n",
    "    layer2 = tf.add(tf.matmul(layer1, weights['h2']), biases['b2'])\n",
    "    layer2 = tf.nn.relu(layer2)\n",
    "    \n",
    "    # Hidden Layer 3 \n",
    "    layer3 = tf.add(tf.matmul(layer2, weights['h3']), biases['b3'])\n",
    "    layer3 = tf.nn.relu(layer3)\n",
    "    \n",
    "    # Output Layer \n",
    "    output_layer = tf.matmul(layer3, weights['out']) + biases['out']\n",
    "    \n",
    "    return output_layer\n",
    "    "
   ]
  },
  {
   "cell_type": "markdown",
   "metadata": {},
   "source": [
    "Define our weights and biases:"
   ]
  },
  {
   "cell_type": "code",
   "execution_count": 90,
   "metadata": {
    "collapsed": false
   },
   "outputs": [],
   "source": [
    "# Define weights and biases\n",
    "n_hidden1 = 256\n",
    "n_hidden2 = 256\n",
    "n_hidden3 = 256\n",
    "\n",
    "weights = {\n",
    "    'h1': tf.Variable(tf.random_normal([n, n_hidden1])), \n",
    "    'h2': tf.Variable(tf.random_normal([n_hidden1, n_hidden2])),\n",
    "    'h3': tf.Variable(tf.random_normal([n_hidden2, n_hidden3])),\n",
    "    'out': tf.Variable(tf.random_normal([n_hidden3, num_classes]))\n",
    "}\n",
    "\n",
    "biases = {\n",
    "    'b1': tf.Variable(tf.random_normal([n_hidden1])), \n",
    "    'b2': tf.Variable(tf.random_normal([n_hidden2])), \n",
    "    'b3': tf.Variable(tf.random_normal([n_hidden3])),\n",
    "    'out': tf.Variable(tf.random_normal([num_classes]))\n",
    "}"
   ]
  },
  {
   "cell_type": "code",
   "execution_count": 97,
   "metadata": {
    "collapsed": false
   },
   "outputs": [],
   "source": [
    "batch_size = 256\n",
    "training_epochs = 50\n",
    "predictions = mlp(x, weights, biases)\n",
    "cost = tf.reduce_mean(tf.nn.softmax_cross_entropy_with_logits(logits = predictions, labels = y))\n",
    "optimizer = tf.train.GradientDescentOptimizer(learning_rate = 0.001).minimize(cost)"
   ]
  },
  {
   "cell_type": "markdown",
   "metadata": {},
   "source": [
    "We will use the stochastic gradient optimization algorithm to optimize our weights and biases with batch size 100. The stochastic gradient descent will randomly sample 100 of the images in our training set and train our model using 50 epochs to update our weights (1 pass forward in the network, and 1 pass backwards using backpropagation). The data has already been split into a training and testing set as part of a built in feature in Tensorflow. We just need to train our model and determine its accuracy by comparing it to the test set. "
   ]
  },
  {
   "cell_type": "code",
   "execution_count": 101,
   "metadata": {
    "collapsed": false
   },
   "outputs": [
    {
     "name": "stdout",
     "output_type": "stream",
     "text": [
      "Epoch: 1 cost= 936.272\n",
      "Epoch: 2 cost= 216.633\n",
      "Epoch: 3 cost= 146.919\n",
      "Epoch: 4 cost= 103.030\n",
      "Epoch: 5 cost= 82.060\n",
      "Epoch: 6 cost= 66.410\n",
      "Epoch: 7 cost= 58.126\n",
      "Epoch: 8 cost= 47.596\n",
      "Epoch: 9 cost= 41.920\n",
      "Epoch: 10 cost= 35.643\n",
      "Epoch: 11 cost= 31.135\n",
      "Epoch: 12 cost= 27.851\n",
      "Epoch: 13 cost= 25.317\n",
      "Epoch: 14 cost= 21.935\n",
      "Epoch: 15 cost= 20.035\n",
      "Epoch: 16 cost= 18.263\n",
      "Epoch: 17 cost= 16.363\n",
      "Epoch: 18 cost= 14.673\n",
      "Epoch: 19 cost= 12.848\n",
      "Epoch: 20 cost= 11.297\n",
      "Epoch: 21 cost= 11.236\n",
      "Epoch: 22 cost= 9.495\n",
      "Epoch: 23 cost= 9.143\n",
      "Epoch: 24 cost= 8.317\n",
      "Epoch: 25 cost= 7.601\n",
      "Epoch: 26 cost= 6.615\n",
      "Epoch: 27 cost= 6.030\n",
      "Epoch: 28 cost= 5.580\n",
      "Epoch: 29 cost= 5.029\n",
      "Epoch: 30 cost= 4.679\n",
      "Epoch: 31 cost= 4.614\n",
      "Epoch: 32 cost= 3.817\n",
      "Epoch: 33 cost= 3.542\n",
      "Epoch: 34 cost= 2.902\n",
      "Epoch: 35 cost= 3.418\n",
      "Epoch: 36 cost= 2.386\n",
      "Epoch: 37 cost= 2.389\n",
      "Epoch: 38 cost= 2.204\n",
      "Epoch: 39 cost= 2.047\n",
      "Epoch: 40 cost= 2.045\n",
      "Epoch: 41 cost= 1.595\n",
      "Epoch: 42 cost= 1.463\n",
      "Epoch: 43 cost= 1.447\n",
      "Epoch: 44 cost= 0.991\n",
      "Epoch: 45 cost= 1.069\n",
      "Epoch: 46 cost= 1.001\n",
      "Epoch: 47 cost= 0.912\n",
      "Epoch: 48 cost= 0.749\n",
      "Epoch: 49 cost= 0.737\n",
      "Epoch: 50 cost= 0.556\n",
      "Accuracy: 91.1700129509\n"
     ]
    }
   ],
   "source": [
    "init = tf.global_variables_initializer()\n",
    "\n",
    "with tf.Session() as sess:\n",
    "    sess.run(init)\n",
    "\n",
    "    \n",
    "    for epoch in range(training_epochs):\n",
    "        avg_cost = 0.\n",
    "        total_batch = int(mnist.train.num_examples/batch_size)\n",
    "        for i in range(total_batch):\n",
    "            \n",
    "            batch_x, batch_y = mnist.train.next_batch(batch_size)\n",
    "                        \n",
    "            _, c = sess.run([optimizer, cost], feed_dict={x: batch_x,\n",
    "                                                          y: batch_y})\n",
    "            \n",
    "            avg_cost += c / total_batch\n",
    "\n",
    "        print (\"Epoch:\", '%0d' % (epoch+1), \"cost=\", \"{:.3f}\".format(avg_cost))\n",
    "\n",
    "    \n",
    "    pred = tf.equal(tf.argmax(predictions, 1), tf.argmax(y, 1))\n",
    "    acc = tf.reduce_mean(tf.cast(pred, \"float\"))\n",
    "    print (\"Accuracy:\", acc.eval({x: mnist.test.images, y: mnist.test.labels}) * 100)"
   ]
  },
  {
   "cell_type": "markdown",
   "metadata": {},
   "source": [
    "With 50 epochs, a 3 hidden layer multilayer perceptron optimized with stochastic gradient descent, we achieve a 91% accuracy. This accuracy is actually not that great compared to what other models can do. One way to improve on this model is introduce convolution and pooling layers, more commonly known as a convolutional neural network, which is what I will be working on next to get a better accuracy."
   ]
  }
 ],
 "metadata": {
  "kernelspec": {
   "display_name": "Python 2",
   "language": "python",
   "name": "python2"
  },
  "language_info": {
   "codemirror_mode": {
    "name": "ipython",
    "version": 2
   },
   "file_extension": ".py",
   "mimetype": "text/x-python",
   "name": "python",
   "nbconvert_exporter": "python",
   "pygments_lexer": "ipython2",
   "version": "2.7.13"
  }
 },
 "nbformat": 4,
 "nbformat_minor": 2
}

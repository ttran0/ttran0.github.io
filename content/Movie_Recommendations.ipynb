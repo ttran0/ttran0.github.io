{
 "cells": [
  {
   "cell_type": "markdown",
   "metadata": {},
   "source": [
    "## Motivation\n",
    "\n",
    "It has been a year or two since I have done any analysis involving recommendation systems so I wanted to shake off the rust and dive into building a recommendation system for movies. At the end of the day, it will let me practice. Since I am on break and have some free time, it doesn't hurt to have a working recommendation system so I know what to watch movies to watch next.\n",
    "\n",
    "Additionally, since my girlfriend and I never know what to watch after we finish our Netflix and Hulu queues, I can use this model to aid with our problem."
   ]
  },
  {
   "cell_type": "code",
   "execution_count": 47,
   "metadata": {
    "collapsed": false
   },
   "outputs": [],
   "source": [
    "import graphlab as gl\n",
    "import pandas as pd\n",
    "import numpy as np"
   ]
  },
  {
   "cell_type": "markdown",
   "metadata": {},
   "source": [
    "## Dataset"
   ]
  },
  {
   "cell_type": "markdown",
   "metadata": {},
   "source": [
    "The dataset was downloaded from MovieLens via http://grouplens.org/datasets/movielens/. It is the most recent dataset published on the site, updated in October 2016. There are 24,404,096 total ratings by 259,137 different users in this dataset for 40,110 movies. \n",
    "\n",
    "I will be using Graphlab Create to build the models for this analysis. Graphlab Create is a machine learning tool created by Turi, formerly known as Dato."
   ]
  },
  {
   "cell_type": "code",
   "execution_count": 48,
   "metadata": {
    "collapsed": false
   },
   "outputs": [
    {
     "data": {
      "text/html": [
       "<pre>Finished parsing file /home/truong/google_drive/cf_movie/ratings.csv</pre>"
      ],
      "text/plain": [
       "Finished parsing file /home/truong/google_drive/cf_movie/ratings.csv"
      ]
     },
     "metadata": {},
     "output_type": "display_data"
    },
    {
     "data": {
      "text/html": [
       "<pre>Parsing completed. Parsed 100 lines in 0.544938 secs.</pre>"
      ],
      "text/plain": [
       "Parsing completed. Parsed 100 lines in 0.544938 secs."
      ]
     },
     "metadata": {},
     "output_type": "display_data"
    },
    {
     "name": "stdout",
     "output_type": "stream",
     "text": [
      "------------------------------------------------------\n",
      "Inferred types from first 100 line(s) of file as \n",
      "column_type_hints=[int,int,float,int]\n",
      "If parsing fails due to incorrect types, you can correct\n",
      "the inferred type list above and pass it to read_csv in\n",
      "the column_type_hints argument\n",
      "------------------------------------------------------\n"
     ]
    },
    {
     "data": {
      "text/html": [
       "<pre>Read 2008883 lines. Lines per second: 2.03851e+06</pre>"
      ],
      "text/plain": [
       "Read 2008883 lines. Lines per second: 2.03851e+06"
      ]
     },
     "metadata": {},
     "output_type": "display_data"
    },
    {
     "data": {
      "text/html": [
       "<pre>Read 23162339 lines. Lines per second: 3.83319e+06</pre>"
      ],
      "text/plain": [
       "Read 23162339 lines. Lines per second: 3.83319e+06"
      ]
     },
     "metadata": {},
     "output_type": "display_data"
    },
    {
     "data": {
      "text/html": [
       "<pre>Finished parsing file /home/truong/google_drive/cf_movie/ratings.csv</pre>"
      ],
      "text/plain": [
       "Finished parsing file /home/truong/google_drive/cf_movie/ratings.csv"
      ]
     },
     "metadata": {},
     "output_type": "display_data"
    },
    {
     "data": {
      "text/html": [
       "<pre>Parsing completed. Parsed 24404096 lines in 6.2078 secs.</pre>"
      ],
      "text/plain": [
       "Parsing completed. Parsed 24404096 lines in 6.2078 secs."
      ]
     },
     "metadata": {},
     "output_type": "display_data"
    }
   ],
   "source": [
    "# ratings = pd.read_csv('ratings.csv')\n",
    "movies = pd.read_csv('movies.csv')\n",
    "ratings = gl.SFrame.read_csv('ratings.csv')\n",
    "# movies = gl.SFrame.read_csv('movies.csv')"
   ]
  },
  {
   "cell_type": "code",
   "execution_count": 49,
   "metadata": {
    "collapsed": false
   },
   "outputs": [
    {
     "data": {
      "text/html": [
       "<div style=\"max-height:1000px;max-width:1500px;overflow:auto;\"><table frame=\"box\" rules=\"cols\">\n",
       "    <tr>\n",
       "        <th style=\"padding-left: 1em; padding-right: 1em; text-align: center\">userId</th>\n",
       "        <th style=\"padding-left: 1em; padding-right: 1em; text-align: center\">movieId</th>\n",
       "        <th style=\"padding-left: 1em; padding-right: 1em; text-align: center\">rating</th>\n",
       "        <th style=\"padding-left: 1em; padding-right: 1em; text-align: center\">timestamp</th>\n",
       "    </tr>\n",
       "    <tr>\n",
       "        <td style=\"padding-left: 1em; padding-right: 1em; text-align: center; vertical-align: top\">1</td>\n",
       "        <td style=\"padding-left: 1em; padding-right: 1em; text-align: center; vertical-align: top\">122</td>\n",
       "        <td style=\"padding-left: 1em; padding-right: 1em; text-align: center; vertical-align: top\">2.0</td>\n",
       "        <td style=\"padding-left: 1em; padding-right: 1em; text-align: center; vertical-align: top\">945544824</td>\n",
       "    </tr>\n",
       "    <tr>\n",
       "        <td style=\"padding-left: 1em; padding-right: 1em; text-align: center; vertical-align: top\">1</td>\n",
       "        <td style=\"padding-left: 1em; padding-right: 1em; text-align: center; vertical-align: top\">172</td>\n",
       "        <td style=\"padding-left: 1em; padding-right: 1em; text-align: center; vertical-align: top\">1.0</td>\n",
       "        <td style=\"padding-left: 1em; padding-right: 1em; text-align: center; vertical-align: top\">945544871</td>\n",
       "    </tr>\n",
       "    <tr>\n",
       "        <td style=\"padding-left: 1em; padding-right: 1em; text-align: center; vertical-align: top\">1</td>\n",
       "        <td style=\"padding-left: 1em; padding-right: 1em; text-align: center; vertical-align: top\">1221</td>\n",
       "        <td style=\"padding-left: 1em; padding-right: 1em; text-align: center; vertical-align: top\">5.0</td>\n",
       "        <td style=\"padding-left: 1em; padding-right: 1em; text-align: center; vertical-align: top\">945544788</td>\n",
       "    </tr>\n",
       "    <tr>\n",
       "        <td style=\"padding-left: 1em; padding-right: 1em; text-align: center; vertical-align: top\">1</td>\n",
       "        <td style=\"padding-left: 1em; padding-right: 1em; text-align: center; vertical-align: top\">1441</td>\n",
       "        <td style=\"padding-left: 1em; padding-right: 1em; text-align: center; vertical-align: top\">4.0</td>\n",
       "        <td style=\"padding-left: 1em; padding-right: 1em; text-align: center; vertical-align: top\">945544871</td>\n",
       "    </tr>\n",
       "</table>\n",
       "[4 rows x 4 columns]<br/>\n",
       "</div>"
      ],
      "text/plain": [
       "Columns:\n",
       "\tuserId\tint\n",
       "\tmovieId\tint\n",
       "\trating\tfloat\n",
       "\ttimestamp\tint\n",
       "\n",
       "Rows: 4\n",
       "\n",
       "Data:\n",
       "+--------+---------+--------+-----------+\n",
       "| userId | movieId | rating | timestamp |\n",
       "+--------+---------+--------+-----------+\n",
       "|   1    |   122   |  2.0   | 945544824 |\n",
       "|   1    |   172   |  1.0   | 945544871 |\n",
       "|   1    |   1221  |  5.0   | 945544788 |\n",
       "|   1    |   1441  |  4.0   | 945544871 |\n",
       "+--------+---------+--------+-----------+\n",
       "[4 rows x 4 columns]"
      ]
     },
     "execution_count": 49,
     "metadata": {},
     "output_type": "execute_result"
    }
   ],
   "source": [
    "ratings.head(4)"
   ]
  },
  {
   "cell_type": "code",
   "execution_count": 50,
   "metadata": {
    "collapsed": false
   },
   "outputs": [
    {
     "data": {
      "text/html": [
       "<div>\n",
       "<table border=\"1\" class=\"dataframe\">\n",
       "  <thead>\n",
       "    <tr style=\"text-align: right;\">\n",
       "      <th></th>\n",
       "      <th>movieId</th>\n",
       "      <th>title</th>\n",
       "      <th>genres</th>\n",
       "    </tr>\n",
       "  </thead>\n",
       "  <tbody>\n",
       "    <tr>\n",
       "      <th>0</th>\n",
       "      <td>1</td>\n",
       "      <td>Toy Story (1995)</td>\n",
       "      <td>Adventure|Animation|Children|Comedy|Fantasy</td>\n",
       "    </tr>\n",
       "    <tr>\n",
       "      <th>1</th>\n",
       "      <td>2</td>\n",
       "      <td>Jumanji (1995)</td>\n",
       "      <td>Adventure|Children|Fantasy</td>\n",
       "    </tr>\n",
       "    <tr>\n",
       "      <th>2</th>\n",
       "      <td>3</td>\n",
       "      <td>Grumpier Old Men (1995)</td>\n",
       "      <td>Comedy|Romance</td>\n",
       "    </tr>\n",
       "    <tr>\n",
       "      <th>3</th>\n",
       "      <td>4</td>\n",
       "      <td>Waiting to Exhale (1995)</td>\n",
       "      <td>Comedy|Drama|Romance</td>\n",
       "    </tr>\n",
       "  </tbody>\n",
       "</table>\n",
       "</div>"
      ],
      "text/plain": [
       "   movieId                     title  \\\n",
       "0        1          Toy Story (1995)   \n",
       "1        2            Jumanji (1995)   \n",
       "2        3   Grumpier Old Men (1995)   \n",
       "3        4  Waiting to Exhale (1995)   \n",
       "\n",
       "                                        genres  \n",
       "0  Adventure|Animation|Children|Comedy|Fantasy  \n",
       "1                   Adventure|Children|Fantasy  \n",
       "2                               Comedy|Romance  \n",
       "3                         Comedy|Drama|Romance  "
      ]
     },
     "execution_count": 50,
     "metadata": {},
     "output_type": "execute_result"
    }
   ],
   "source": [
    "movies.head(4)"
   ]
  },
  {
   "cell_type": "code",
   "execution_count": 51,
   "metadata": {
    "collapsed": false
   },
   "outputs": [
    {
     "name": "stdout",
     "output_type": "stream",
     "text": [
      "(24404096, 4) (40110, 3)\n"
     ]
    }
   ],
   "source": [
    "print ratings.shape, movies.shape"
   ]
  },
  {
   "cell_type": "code",
   "execution_count": 52,
   "metadata": {
    "collapsed": false
   },
   "outputs": [
    {
     "data": {
      "text/plain": [
       "259137"
      ]
     },
     "execution_count": 52,
     "metadata": {},
     "output_type": "execute_result"
    }
   ],
   "source": [
    "len(ratings['userId'].unique())"
   ]
  },
  {
   "cell_type": "code",
   "execution_count": 53,
   "metadata": {
    "collapsed": false
   },
   "outputs": [],
   "source": [
    "ratings['genres'] = str(movies['genres'])"
   ]
  },
  {
   "cell_type": "markdown",
   "metadata": {},
   "source": [
    "### Collaborative Filtering\n",
    "I will use two algorithms under the category of collaborative filtering algorithms, **Cosine Similarity** and **Non-negative Matrix Factorization**. Let's take a quick look at the two algorithms before we build the models.\n",
    "\n",
    "The Cosine Similarity simply takes in the matrix of users and their ratings and calculates the vector orientations of either user to user, or item to item, measuring similarity. Let's take an example user-movie rating matrix:\n",
    "\n",
    "|      | movie 1 | movie 2| movie 3| movie 4|\n",
    "|------|:--------|:--------|:------|:-------|\n",
    "|user 1|    3    |   5     |       |    1   |\n",
    "|user 2|         |   1     |   2   |        |\n",
    "|user 3|         |   5     |   4   |    1   |\n",
    "\n",
    "\n",
    "** Cosine Similarity: **\n",
    "\n",
    "\n",
    "The cosine similarity measures the  is defined as:\n",
    "\n",
    "$$\\displaystyle \\cos(\\pmb x, \\pmb y) = \\frac {\\pmb x \\cdot \\pmb y}{||\\pmb x|| \\cdot ||\\pmb y||}, \\quad ||\\pmb x|| = \\sqrt{\\sum_{i}^{n} x_i^2}$$\n",
    "The larger $\\displaystyle \\cos(\\pmb x, \\pmb y)$ is, the closer the vectors are, implying that the two vectors are more similar. The less $\\displaystyle \\cos(\\pmb x, \\pmb y)$ is, the less similar the vectors are. \n",
    "To measure similarity between users, we take the values corresponding to their rows and calculate their cosine similarity value. To measure similarity between movies, we do the same but take the values corresponding to the movie's column. In either case, we fill in the missing values with a 0. \n",
    "\n",
    "Let's say we want to measure how similar user 1 is to user 2 compared to user 1 to user 3.\n",
    "\n",
    "\n",
    "** User 1 - User 2: **\n",
    "\n",
    "Using the formula above, we will let $\\pmb x$ = (3, 5, 0 , 1) and $\\pmb y$ = (0, 1, 2, 0), then:\n",
    "\n",
    "$\\displaystyle \\cos (\\pmb x, \\pmb y) = \\frac{3 \\times 0 + 5 \\times 1 + 0 \\times 2 + 1 \\times 0}{\\sqrt{3^2 + 5^2 + 0^2 + 1^2} + \\sqrt{0^2 + 1^2 + 2^2 + 0^2}}$ = 0.6133\n",
    "\n",
    "** User 1 - User 3:**\n",
    "\n",
    "\n",
    "Let $\\pmb x$ = (3, 5, 0 , 1) and $\\pmb y$ = (0, 5, 4, 1), then:\n",
    "\n",
    "$\\displaystyle \\cos (\\pmb x, \\pmb y) = \\frac{3 \\times 0 + 5 \\times 5 + 0 \\times 4 + 1 \\times 1}{\\sqrt{3^2 + 5^2 + 0^2 + 1^2} + \\sqrt{0^2 + 5^2 + 4^2 + 1^2}}$ = 2.097\n",
    "\n",
    "From the calculations, we can see that User 1 is more similar to User 3 than User 2 by comparing the similarity values. We can also observe this from the table/matrix. User 1 and User 3 gave exactly the same rating for movie 2 and movie 4, while User 1 and User 2 gave opposite ratings for movie 2. We can use this result to recommend User 1 a movie or multiple movies that User 2 rated highly. \n",
    "\n",
    "Above is a user based recommender. We can go though the same process to do a item based recommender: find items/movies that are closest in similarity and recommend users movies that are most similar to the ones they rated highly. \n"
   ]
  },
  {
   "cell_type": "markdown",
   "metadata": {},
   "source": [
    "### Non-Negative Matrix Factorization\n",
    "\n",
    "Cosider the same matrix/table:\n",
    "\n",
    "\n",
    "|      | movie 1 | movie 2| movie 3| movie 4|\n",
    "|------|:--------|:--------|:------|:-------|\n",
    "|user 1|    3    |   5     |       |    1   |\n",
    "|user 2|         |   1     |   2   |        |\n",
    "|user 3|         |   5     |   4   |    1   |\n",
    "\n",
    "Let **A** be the matrix of values from the table\n",
    "\n",
    "$\n",
    "A = \\begin{bmatrix}\n",
    "       3 & 5 &   & 1           \\\\\n",
    "         & 1 & 2 &             \\\\\n",
    "         & 5 & 4 & 1\n",
    "     \\end{bmatrix}\n",
    "$\n",
    "\n",
    "The fundamental idea of this process is as its name states, it takes the data matrix and factors it into a product of two matrices that best approximates the data matrix **A**:\n",
    "\n",
    "$\n",
    "A = \\begin{bmatrix}\n",
    "       3 & 5 &   & 1           \\\\\n",
    "         & 1 & 2 &             \\\\\n",
    "         & 5 & 4 & 1\n",
    "     \\end{bmatrix}\n",
    "$\n",
    "= \n",
    "$\n",
    "\\begin{bmatrix}\n",
    "      & & \\\\\n",
    "      & & \\\\\n",
    "      & &\n",
    "     \\end{bmatrix}\n",
    "$\n",
    "$\n",
    "\\begin{bmatrix}\n",
    "      & & & & \\\\\n",
    "      & & & &\n",
    "     \\end{bmatrix}\n",
    "$\n",
    "\n",
    "The goal here is if we find the two matrices that best approximates **A**, then we can use the values from the product as approximations for the missing values in **A**. Therefore, we can use these approximations to recommend or not recommend movies to users. The model Graphlab uses is fundamentally this process described above. However, Graphlab adds in bias and weight terms to account for either user bias or item bias."
   ]
  },
  {
   "cell_type": "markdown",
   "metadata": {},
   "source": [
    "We'll get started now. First I will split the data into a train and test set then I will add my movies and ratings along with my girlfriend's movies and ratings so we can get recommendations from our models."
   ]
  },
  {
   "cell_type": "code",
   "execution_count": 54,
   "metadata": {
    "collapsed": false
   },
   "outputs": [],
   "source": [
    "# Create train and test set\n",
    "train, test = gl.recommender.util.random_split_by_user(ratings, user_id = 'userId', item_id = 'movieId')"
   ]
  },
  {
   "cell_type": "code",
   "execution_count": 55,
   "metadata": {
    "collapsed": false
   },
   "outputs": [
    {
     "data": {
      "text/html": [
       "<pre>Recsys training: model = item_similarity</pre>"
      ],
      "text/plain": [
       "Recsys training: model = item_similarity"
      ]
     },
     "metadata": {},
     "output_type": "display_data"
    }
   ],
   "source": [
    "cos_rec = gl.item_similarity_recommender.create(train, user_id='userId',\n",
    "                                                item_id='movieId', target='rating', \n",
    "                                                similarity_type='cosine', verbose = False)"
   ]
  },
  {
   "cell_type": "code",
   "execution_count": 56,
   "metadata": {
    "collapsed": false
   },
   "outputs": [],
   "source": [
    "my_id = ratings['userId'][-1] + 1"
   ]
  },
  {
   "cell_type": "code",
   "execution_count": 57,
   "metadata": {
    "collapsed": false
   },
   "outputs": [],
   "source": [
    "def search_title(movie_title):\n",
    "    x = np.array([1 if movie_title in movie else 0 for movie in movies['title']])\n",
    "    index = np.where(x == 1)[0].tolist()\n",
    "    print movies['title'][index]"
   ]
  },
  {
   "cell_type": "code",
   "execution_count": 58,
   "metadata": {
    "collapsed": false
   },
   "outputs": [
    {
     "name": "stdout",
     "output_type": "stream",
     "text": [
      "2070                                  Avengers, The (1998)\n",
      "10886                             Ultimate Avengers (2006)\n",
      "17935                                 Avengers, The (2012)\n",
      "23288    Avengers Confidential: Black Widow & Punisher ...\n",
      "24716    Crippled Avengers (Can que) (Return of the 5 D...\n",
      "26705                       Avengers: Age of Ultron (2015)\n",
      "30595             Next Avengers: Heroes of Tomorrow (2008)\n",
      "30677                                Avengers Grimm (2015)\n",
      "34339    The New Adventures of the Elusive Avengers (1968)\n",
      "38519                          The Shaolin Avengers (1976)\n",
      "Name: title, dtype: object\n"
     ]
    }
   ],
   "source": [
    "search_title('Avengers')"
   ]
  },
  {
   "cell_type": "code",
   "execution_count": 59,
   "metadata": {
    "collapsed": false
   },
   "outputs": [],
   "source": [
    "my_movies = ['Hitch (2005)', 'Iron Man (2008)', 'Everybody\\'s Fine (2009)', 'Horrible Bosses 2 (2014)', \n",
    "            'Other Woman, The (2014)', 'Think Like a Man Too (2014)',\n",
    "            'Seeking a Friend for the End of the World (2012)', 'Iron Man 2 (2010)', 'Iron Man 3 (2013)',\n",
    "            'Avengers, The (2012)', 'Avengers: Age of Ultron (2015)']\n",
    "my_ratings = [5., 5, 2, 3, 2, 3, 3, 5, 4, 5, 5]\n",
    "\n",
    "my_genres = list(movies[movies.title.isin(my_movies)].genres)\n",
    "\n",
    "my_matrix = pd.DataFrame({'userId':[my_id] * len(my_ratings),\n",
    "                          'rating':my_ratings,\n",
    "                          'movieId':list(movies[movies.title.isin(my_movies)].movieId),\n",
    "                          'genres': my_genres,\n",
    "                          'timestamp':[1484126312] * len(my_ratings)})\n",
    "\n",
    "my_matrix = gl.SFrame(my_matrix)"
   ]
  },
  {
   "cell_type": "code",
   "execution_count": 82,
   "metadata": {
    "collapsed": false
   },
   "outputs": [
    {
     "name": "stdout",
     "output_type": "stream",
     "text": [
      "List of Recommended Movies from Cosine Similarity:\n"
     ]
    },
    {
     "data": {
      "text/plain": [
       "['Captain America: The First Avenger (2011)',\n",
       " 'X-Men: First Class (2011)',\n",
       " 'Guardians of the Galaxy (2014)',\n",
       " 'Thor (2011)',\n",
       " 'Dark Knight Rises, The (2012)',\n",
       " 'Captain America: The Winter Soldier (2014)',\n",
       " 'Thor: The Dark World (2013)',\n",
       " 'Avatar (2009)',\n",
       " 'Star Trek Into Darkness (2013)',\n",
       " 'Amazing Spider-Man, The (2012)',\n",
       " 'Looper (2012)',\n",
       " 'Hobbit: An Unexpected Journey, The (2012)',\n",
       " 'Kick-Ass (2010)',\n",
       " 'Hobbit: The Desolation of Smaug, The (2013)',\n",
       " 'Skyfall (2012)',\n",
       " 'The Hunger Games: Catching Fire (2013)',\n",
       " 'Dark Knight, The (2008)',\n",
       " 'Mission: Impossible - Ghost Protocol (2011)',\n",
       " 'I Am Legend (2007)',\n",
       " 'Rise of the Planet of the Apes (2011)',\n",
       " 'Harry Potter and the Deathly Hallows: Part 2 (2011)',\n",
       " 'Harry Potter and the Deathly Hallows: Part 1 (2010)',\n",
       " 'Batman Begins (2005)',\n",
       " 'WALL\\xc2\\xb7E (2008)',\n",
       " 'Up (2009)',\n",
       " 'Jurassic World (2015)',\n",
       " 'Incredible Hulk, The (2008)',\n",
       " 'Zombieland (2009)',\n",
       " 'The Amazing Spider-Man 2 (2014)',\n",
       " 'Incredibles, The (2004)']"
      ]
     },
     "execution_count": 82,
     "metadata": {},
     "output_type": "execute_result"
    }
   ],
   "source": [
    "myrec_movies = cos_rec.recommend(users = [my_id], \n",
    "                                              new_observation_data = my_matrix, k = 30, diversity = 1)\n",
    "my_index = list(myrec_movies['movieId'])\n",
    "print 'List of Recommended Movies from Cosine Similarity:'\n",
    "list(myrec_movies.join(gl.SFrame(movies), on = 'movieId', how = 'left').sort('rank')['title'])\n"
   ]
  },
  {
   "cell_type": "markdown",
   "metadata": {},
   "source": [
    "## Matrix Factorization"
   ]
  },
  {
   "cell_type": "code",
   "execution_count": 62,
   "metadata": {
    "collapsed": false
   },
   "outputs": [
    {
     "data": {
      "text/html": [
       "<pre>Recsys training: model = factorization_recommender</pre>"
      ],
      "text/plain": [
       "Recsys training: model = factorization_recommender"
      ]
     },
     "metadata": {},
     "output_type": "display_data"
    }
   ],
   "source": [
    "nmf_model = gl.factorization_recommender.create(train, user_id = 'userId', item_id = 'movieId',\n",
    "                                                 target = 'rating', verbose = False, \n",
    "                                               side_data_factorization = True\n",
    "                                                )"
   ]
  },
  {
   "cell_type": "code",
   "execution_count": 83,
   "metadata": {
    "collapsed": false
   },
   "outputs": [
    {
     "name": "stdout",
     "output_type": "stream",
     "text": [
      "List of Recommended Movies from Matrix Factorization:\n"
     ]
    },
    {
     "data": {
      "text/plain": [
       "['The Hunger Games: Catching Fire (2013)',\n",
       " 'Frozen (2013)',\n",
       " 'Gravity (2013)',\n",
       " 'Star Wars: Episode VII - The Force Awakens (2015)',\n",
       " 'Silver Linings Playbook (2012)',\n",
       " 'American Hustle (2013)',\n",
       " 'Man of Steel (2013)',\n",
       " 'X-Men: Days of Future Past (2014)',\n",
       " 'Hobbit: The Desolation of Smaug, The (2013)',\n",
       " 'Band of Brothers (2001)',\n",
       " 'Intouchables (2011)',\n",
       " 'Thor: The Dark World (2013)',\n",
       " 'Despicable Me 2 (2013)',\n",
       " 'Argo (2012)',\n",
       " 'Monsters University (2013)',\n",
       " 'Toy Story 3 (2010)',\n",
       " \"Dr. Horrible's Sing-Along Blog (2008)\",\n",
       " 'Divergent (2014)',\n",
       " 'Cosmos (1980)',\n",
       " 'Senna (2010)',\n",
       " 'Wreck-It Ralph (2012)',\n",
       " 'Inside Out (2015)',\n",
       " 'Life of Pi (2012)',\n",
       " 'Louis C.K.: Live at the Beacon Theater (2011)',\n",
       " 'Shawshank Redemption, The (1994)',\n",
       " 'Rush (2013)',\n",
       " 'Amazing Spider-Man, The (2012)',\n",
       " 'Alone in the Wilderness (2004)',\n",
       " \"King's Speech, The (2010)\",\n",
       " 'Hobbit: An Unexpected Journey, The (2012)']"
      ]
     },
     "execution_count": 83,
     "metadata": {},
     "output_type": "execute_result"
    }
   ],
   "source": [
    "myrec_movies = nmf_model.recommend(users = [my_id], \n",
    "                                              new_observation_data = my_matrix, k = 30)\n",
    "my_index = list(myrec_movies['movieId'])\n",
    "print 'List of Recommended Movies from Matrix Factorization:'\n",
    "list(myrec_movies.join(gl.SFrame(movies), on = 'movieId', how = 'left').sort('rank')['title'])"
   ]
  },
  {
   "cell_type": "markdown",
   "metadata": {},
   "source": [
    "### Girlfriend's Recommendations"
   ]
  },
  {
   "cell_type": "code",
   "execution_count": 64,
   "metadata": {
    "collapsed": false
   },
   "outputs": [
    {
     "name": "stdout",
     "output_type": "stream",
     "text": [
      "12365    27 Dresses (2008)\n",
      "Name: title, dtype: object\n"
     ]
    }
   ],
   "source": [
    "search_title('27 Dresses')"
   ]
  },
  {
   "cell_type": "code",
   "execution_count": 65,
   "metadata": {
    "collapsed": true
   },
   "outputs": [],
   "source": [
    "gf_movies = ['Hitch (2005)', 'Chef (2014)', 'Juno (2007)', 'How to Lose a Guy in 10 Days (2003)', \n",
    "                'Devil Wears Prada, The (2006)', 'Proposal, The (2009)',\n",
    "                'Flight (2012)', 'Avengers, The (2012)', 'Friends with Kids (2011)',\n",
    "               'Legally Blonde (2001)', 'Princess Diaries, The (2001)', 'Finding Nemo (2003)', 'Elf (2003)',\n",
    "               'Along Came Polly (2004)', 'Notebook, The (2004)', 'Ratatouille (2007)', 'Knocked Up (2007)', \n",
    "                'Iron Man (2008)', 'Up (2009)', 'Zombieland (2009)', 'Avatar (2009)', 'Thor (2011)', \n",
    "                'Horrible Bosses (2011)', 'Captain America: The Winter Soldier (2014)', 'Mean Girls (2004)', 'WALL·E (2008)',\n",
    "               'Leap Year (2010)','27 Dresses (2008)']\n",
    "gf_ratings = [5., 4, 4, 4, 4, 5, 2, 5, 3, 4, 4, 5, 5, 3, 4, 3, 4, 4, 4, 1, 4, 3, 3, 4, 5, 4, 4, 4]\n",
    "\n",
    "gf_genres = list(movies[movies.title.isin(gf_movies)].genres)\n",
    "\n",
    "gf_id = my_id + 1"
   ]
  },
  {
   "cell_type": "code",
   "execution_count": 66,
   "metadata": {
    "collapsed": false
   },
   "outputs": [],
   "source": [
    "gf_matrix = pd.DataFrame({'userId':[gf_id] * len(gf_ratings),\n",
    "                          'rating':gf_ratings,\n",
    "                          'movieId':list(movies[movies.title.isin(gf_movies)].movieId),\n",
    "                          'genres': gf_genres,\n",
    "                          'timestamp':[1484126312] * len(gf_ratings)})\n",
    "gf_matrix = gl.SFrame(gf_matrix)"
   ]
  },
  {
   "cell_type": "code",
   "execution_count": 84,
   "metadata": {
    "collapsed": false
   },
   "outputs": [
    {
     "name": "stdout",
     "output_type": "stream",
     "text": [
      "List of Recommended Movies from Cosine Similarity:\n"
     ]
    },
    {
     "data": {
      "text/plain": [
       "['Hangover, The (2009)',\n",
       " 'Pirates of the Caribbean: The Curse of the Black Pearl (2003)',\n",
       " 'Batman Begins (2005)',\n",
       " 'V for Vendetta (2006)',\n",
       " '50 First Dates (2004)',\n",
       " 'Dark Knight, The (2008)',\n",
       " 'Harry Potter and the Prisoner of Azkaban (2004)',\n",
       " 'Incredibles, The (2004)',\n",
       " 'Bruce Almighty (2003)',\n",
       " 'Inception (2010)',\n",
       " 'Star Trek (2009)',\n",
       " 'Monsters, Inc. (2001)',\n",
       " 'Prestige, The (2006)',\n",
       " 'Casino Royale (2006)',\n",
       " 'Iron Man 2 (2010)',\n",
       " 'Sherlock Holmes (2009)',\n",
       " 'Dark Knight Rises, The (2012)',\n",
       " 'How to Train Your Dragon (2010)',\n",
       " 'District 9 (2009)',\n",
       " 'Inglourious Basterds (2009)',\n",
       " 'Catch Me If You Can (2002)',\n",
       " 'X-Men: First Class (2011)',\n",
       " 'Shrek (2001)',\n",
       " 'Little Miss Sunshine (2006)',\n",
       " 'Hot Fuzz (2007)',\n",
       " 'Departed, The (2006)',\n",
       " 'The Hunger Games (2012)',\n",
       " \"Pirates of the Caribbean: Dead Man's Chest (2006)\",\n",
       " 'Slumdog Millionaire (2008)',\n",
       " 'Guardians of the Galaxy (2014)']"
      ]
     },
     "execution_count": 84,
     "metadata": {},
     "output_type": "execute_result"
    }
   ],
   "source": [
    "gfrec_movies = cos_rec.recommend(users = [gf_id], new_observation_data = gf_matrix, k = 30)\n",
    "gf_index = list(gfrec_movies['movieId'])\n",
    "print 'List of Recommended Movies from Cosine Similarity:'\n",
    "list(gfrec_movies.join(gl.SFrame(movies), on = 'movieId', how = 'left').sort('rank')['title'])"
   ]
  },
  {
   "cell_type": "code",
   "execution_count": 85,
   "metadata": {
    "collapsed": false
   },
   "outputs": [
    {
     "name": "stdout",
     "output_type": "stream",
     "text": [
      "List of Recommended Movies from Matrix Factorization:\n"
     ]
    },
    {
     "data": {
      "text/plain": [
       "['The Hunger Games: Catching Fire (2013)',\n",
       " 'Frozen (2013)',\n",
       " 'Gravity (2013)',\n",
       " 'Star Wars: Episode VII - The Force Awakens (2015)',\n",
       " 'Silver Linings Playbook (2012)',\n",
       " 'American Hustle (2013)',\n",
       " 'Man of Steel (2013)',\n",
       " 'X-Men: Days of Future Past (2014)',\n",
       " 'Hobbit: The Desolation of Smaug, The (2013)',\n",
       " 'Band of Brothers (2001)',\n",
       " 'Intouchables (2011)',\n",
       " 'Iron Man 3 (2013)',\n",
       " 'Thor: The Dark World (2013)',\n",
       " 'Despicable Me 2 (2013)',\n",
       " 'Argo (2012)',\n",
       " 'Monsters University (2013)',\n",
       " 'Toy Story 3 (2010)',\n",
       " \"Dr. Horrible's Sing-Along Blog (2008)\",\n",
       " 'Divergent (2014)',\n",
       " 'Cosmos (1980)',\n",
       " 'Senna (2010)',\n",
       " 'Wreck-It Ralph (2012)',\n",
       " 'Inside Out (2015)',\n",
       " 'Life of Pi (2012)',\n",
       " 'Louis C.K.: Live at the Beacon Theater (2011)',\n",
       " 'Shawshank Redemption, The (1994)',\n",
       " 'Rush (2013)',\n",
       " 'Amazing Spider-Man, The (2012)',\n",
       " 'Avengers: Age of Ultron (2015)',\n",
       " 'Alone in the Wilderness (2004)']"
      ]
     },
     "execution_count": 85,
     "metadata": {},
     "output_type": "execute_result"
    }
   ],
   "source": [
    "gfrec_movies = nmf_model.recommend(users = [gf_id], new_observation_data = gf_matrix, k = 30)\n",
    "gf_index = list(gfrec_movies['movieId'])\n",
    "print 'List of Recommended Movies from Matrix Factorization:'\n",
    "list(gfrec_movies.join(gl.SFrame(movies), on = 'movieId', how = 'left').sort('rank')['title'])\n"
   ]
  },
  {
   "cell_type": "code",
   "execution_count": 86,
   "metadata": {
    "collapsed": false
   },
   "outputs": [
    {
     "name": "stdout",
     "output_type": "stream",
     "text": [
      "List of Recommended Movies from Matrix Factorization:\n"
     ]
    },
    {
     "data": {
      "text/plain": [
       "['The Hunger Games: Catching Fire (2013)',\n",
       " 'Frozen (2013)',\n",
       " 'Gravity (2013)',\n",
       " 'Avengers, The (2012)',\n",
       " 'Star Wars: Episode VII - The Force Awakens (2015)',\n",
       " 'Silver Linings Playbook (2012)',\n",
       " 'American Hustle (2013)',\n",
       " 'Man of Steel (2013)',\n",
       " 'X-Men: Days of Future Past (2014)',\n",
       " 'Hobbit: The Desolation of Smaug, The (2013)',\n",
       " 'Band of Brothers (2001)',\n",
       " 'Intouchables (2011)',\n",
       " 'Iron Man 3 (2013)',\n",
       " 'Thor: The Dark World (2013)',\n",
       " 'Despicable Me 2 (2013)',\n",
       " 'Argo (2012)',\n",
       " 'Monsters University (2013)',\n",
       " 'Toy Story 3 (2010)',\n",
       " \"Dr. Horrible's Sing-Along Blog (2008)\",\n",
       " 'Divergent (2014)',\n",
       " 'Cosmos (1980)',\n",
       " 'Senna (2010)',\n",
       " 'Wreck-It Ralph (2012)',\n",
       " 'Inside Out (2015)',\n",
       " 'Life of Pi (2012)',\n",
       " 'Louis C.K.: Live at the Beacon Theater (2011)',\n",
       " 'Shawshank Redemption, The (1994)',\n",
       " 'Rush (2013)',\n",
       " 'Amazing Spider-Man, The (2012)',\n",
       " 'Avengers: Age of Ultron (2015)']"
      ]
     },
     "execution_count": 86,
     "metadata": {},
     "output_type": "execute_result"
    }
   ],
   "source": [
    "gfrec_movies = nmf_model.recommend(users = [gf_id + 2000], new_observation_data = gf_matrix, k = 30)\n",
    "gf_index = list(gfrec_movies['movieId'])\n",
    "print 'List of Recommended Movies from Matrix Factorization:'\n",
    "list(gfrec_movies.join(gl.SFrame(movies), on = 'movieId', how = 'left').sort('rank')['title'])\n"
   ]
  },
  {
   "cell_type": "markdown",
   "metadata": {},
   "source": [
    "There seems to be a slight problem with the matrix factorization model. It recommended almost the exact same movies for my girlfriend and me. I also ran the recommendation again for a user that is not in the dataset that have no ratings whatsoever and the recommendations are almost the same. Looking into their github, it seems that the recommendation only works if the user was originally in the training set. They state that the recommendation for new users with observations works best with item similarities such as the cosine similarity we used. My theory is the recommendation defaults to most popular movies which is the case if we input a new user not in the dataset with no data. Thus, the movies that were recommended my girlfriend and I recieved were probably the most popular movies in the set.\n",
    "\n",
    "I am still curious of which movies are recommended to us from the matrix model so I wil train another factorization model using a dataset that has our movies and ratings appended to the original dataset. "
   ]
  },
  {
   "cell_type": "markdown",
   "metadata": {},
   "source": [
    "## Train new matrix model"
   ]
  },
  {
   "cell_type": "code",
   "execution_count": 72,
   "metadata": {
    "collapsed": false
   },
   "outputs": [],
   "source": [
    "new_ratings = ratings.append(gf_matrix)\n",
    "new_ratings = new_ratings.append(my_matrix)\n",
    "train2, test2 = gl.recommender.util.random_split_by_user(new_ratings, user_id = 'userId', item_id = 'movieId')"
   ]
  },
  {
   "cell_type": "code",
   "execution_count": 100,
   "metadata": {
    "collapsed": false
   },
   "outputs": [
    {
     "data": {
      "text/html": [
       "<pre>Recsys training: model = factorization_recommender</pre>"
      ],
      "text/plain": [
       "Recsys training: model = factorization_recommender"
      ]
     },
     "metadata": {},
     "output_type": "display_data"
    }
   ],
   "source": [
    "nmf_model2 = gl.factorization_recommender.create(train2, user_id = 'userId', item_id = 'movieId',\n",
    "                                                 target = 'rating', verbose = False,                                                  \n",
    "                                                )"
   ]
  },
  {
   "cell_type": "code",
   "execution_count": 101,
   "metadata": {
    "collapsed": false
   },
   "outputs": [
    {
     "data": {
      "text/plain": [
       "['Lord of the Rings: The Return of the King, The (2003)',\n",
       " 'Lord of the Rings: The Two Towers, The (2002)',\n",
       " 'Lord of the Rings: The Fellowship of the Ring, The (2001)',\n",
       " 'Band of Brothers (2001)',\n",
       " 'Intouchables (2011)',\n",
       " \"Dr. Horrible's Sing-Along Blog (2008)\",\n",
       " 'Amazing Spider-Man, The (2012)',\n",
       " 'The Hunger Games: Catching Fire (2013)',\n",
       " 'Hobbit: An Unexpected Journey, The (2012)',\n",
       " '50/50 (2011)',\n",
       " 'Dark Knight, The (2008)',\n",
       " 'Star Wars: Episode V - The Empire Strikes Back (1980)',\n",
       " 'Argo (2012)',\n",
       " 'Spirited Away (Sen to Chihiro no kamikakushi) (2001)',\n",
       " 'Shawshank Redemption, The (1994)',\n",
       " 'Django Unchained (2012)',\n",
       " 'Pirates of the Caribbean: The Curse of the Black Pearl (2003)',\n",
       " 'Fight Club (1999)',\n",
       " 'Silver Linings Playbook (2012)',\n",
       " 'Cosmos (1980)',\n",
       " 'Matrix, The (1999)',\n",
       " 'Star Wars: Episode IV - A New Hope (1977)',\n",
       " 'Monty Python and the Holy Grail (1975)',\n",
       " 'Dark Knight Rises, The (2012)',\n",
       " 'Pulp Fiction (1994)',\n",
       " \"Amelie (Fabuleux destin d'Am\\xc3\\xa9lie Poulain, Le) (2001)\",\n",
       " 'Looper (2012)',\n",
       " \"King's Speech, The (2010)\",\n",
       " 'Senna (2010)',\n",
       " 'Princess Bride, The (1987)']"
      ]
     },
     "execution_count": 101,
     "metadata": {},
     "output_type": "execute_result"
    }
   ],
   "source": [
    "myrec_movies = nmf_model2.recommend(users = [my_id], k = 30)\n",
    "my_index = list(myrec_movies['movieId'])\n",
    "list(myrec_movies.join(gl.SFrame(movies), on = 'movieId', how = 'left').sort('rank')['title'])"
   ]
  },
  {
   "cell_type": "code",
   "execution_count": 102,
   "metadata": {
    "collapsed": false
   },
   "outputs": [
    {
     "data": {
      "text/plain": [
       "['Lord of the Rings: The Fellowship of the Ring, The (2001)',\n",
       " 'Lord of the Rings: The Return of the King, The (2003)',\n",
       " 'Lord of the Rings: The Two Towers, The (2002)',\n",
       " 'Pulp Fiction (1994)',\n",
       " 'Band of Brothers (2001)',\n",
       " 'Spirited Away (Sen to Chihiro no kamikakushi) (2001)',\n",
       " 'Godfather, The (1972)',\n",
       " 'Cosmos (1980)',\n",
       " \"Amelie (Fabuleux destin d'Am\\xc3\\xa9lie Poulain, Le) (2001)\",\n",
       " \"Dr. Horrible's Sing-Along Blog (2008)\",\n",
       " 'Fight Club (1999)',\n",
       " 'Monty Python and the Holy Grail (1975)',\n",
       " 'Eternal Sunshine of the Spotless Mind (2004)',\n",
       " 'Lives of Others, The (Das leben der Anderen) (2006)',\n",
       " 'City of God (Cidade de Deus) (2002)',\n",
       " 'Godfather: Part II, The (1974)',\n",
       " 'My Neighbor Totoro (Tonari no Totoro) (1988)',\n",
       " 'Star Wars: Episode V - The Empire Strikes Back (1980)',\n",
       " 'Memento (2000)',\n",
       " 'Intouchables (2011)',\n",
       " 'Exit Through the Gift Shop (2010)',\n",
       " 'Blade Runner (1982)',\n",
       " 'Django Unchained (2012)',\n",
       " 'Dark Knight, The (2008)',\n",
       " 'Dr. Strangelove or: How I Learned to Stop Worrying and Love the Bomb (1964)',\n",
       " 'Black Swan (2010)',\n",
       " 'Fargo (1996)',\n",
       " 'Shawshank Redemption, The (1994)',\n",
       " 'Reservoir Dogs (1992)',\n",
       " 'Seven Samurai (Shichinin no samurai) (1954)']"
      ]
     },
     "execution_count": 102,
     "metadata": {},
     "output_type": "execute_result"
    }
   ],
   "source": [
    "gfrec_movies = nmf_model2.recommend(users = [gf_id], k = 30)\n",
    "gf_index = list(gfrec_movies['movieId'])\n",
    "list(gfrec_movies.join(gl.SFrame(movies), on = 'movieId', how = 'left').sort('rank')['title'])"
   ]
  },
  {
   "cell_type": "markdown",
   "metadata": {},
   "source": [
    "These recommendations are much better. We can tell that they are different and the model is not just suggesting the most popular movies as the prior model did. "
   ]
  },
  {
   "cell_type": "markdown",
   "metadata": {},
   "source": [
    "## Compare Models"
   ]
  },
  {
   "cell_type": "markdown",
   "metadata": {},
   "source": [
    "There are two metrics that are commonly used to evaluate a model, the Root Mean Squared Error (RMSE) and the Precision-Recall.\n",
    "\n",
    "The root mean squared error value determines the average error for a typical prediction. The cosine similarity recommender has a RMSE of 3.5. Using this recommender, the typical prediction rating would be off by 3.5 stars. This is not a good RMSE for prediction purposes. \n",
    "\n",
    "The factorization model on the other hand, has a RMSE of 0.86 (first factorization model) and 0.83 (second factorization model). This is much better than the cosine similarity as we are only 0.86 stars in error for the typical rating prediction.\n",
    "\n",
    "If we are tasked to use RMSE as the evaluation metric, then the choice is as obvious as possible; the matrix factorization model is the model to use. However, RMSE is not the only metric that can be used. We can also use precision and recall as evaluation metrics.\n",
    "\n",
    "Precision and recall in terms of this problem can be thought of:\n",
    "- Precision:\n",
    "    - If our recommender suggested 5 movies and the user liked 3 of them, then the precision is 0.6.\n",
    "- Recall:\n",
    "    - If the user likes 4 movies, and our recommender recommended 2 of those movies, then the recall is 0.5.\n",
    "    \n",
    "The tables below show the precision and recall for each model for each cutoff. The cutoff value simply just indicates the number of movies we recommend the user, i.e. if the cutoff is 2, then the recommender recommends 2 movies to the user.\n",
    "\n",
    "If we look closer at the precision and recall tables, we can see how poorly the factorization model does in terms of precision and recall. The factorization model doesn't even reach the double digits in percentage for either precision or recall. On the other hand, the cosine similarity recommender's precision and recall are much better. For a cutoff of 10 movies, the cosine similarity recommender has a precision of 17.3% and recall of 13.9%. "
   ]
  },
  {
   "cell_type": "code",
   "execution_count": 89,
   "metadata": {
    "collapsed": false
   },
   "outputs": [
    {
     "name": "stdout",
     "output_type": "stream",
     "text": [
      "Cosine Similarity\n",
      "RMSE: 3.50478891273\n",
      "+--------+----------------+-----------------+\n",
      "| cutoff |   precision    |      recall     |\n",
      "+--------+----------------+-----------------+\n",
      "|   1    | 0.275711159737 | 0.0290355806205 |\n",
      "|   2    | 0.248905908096 | 0.0486596248692 |\n",
      "|   3    | 0.231218088986 | 0.0660589020785 |\n",
      "|   4    | 0.214989059081 | 0.0812204458642 |\n",
      "|   5    | 0.205032822757 | 0.0922294367758 |\n",
      "|   6    | 0.195842450766 |  0.103395551506 |\n",
      "|   7    | 0.192716473898 |  0.116094148417 |\n",
      "|   8    | 0.185585339168 |  0.125649133811 |\n",
      "|   9    | 0.179187940676 |  0.13254804937  |\n",
      "|   10   | 0.17352297593  |  0.139067757904 |\n",
      "+--------+----------------+-----------------+\n",
      "[18 rows x 3 columns]\n",
      "Note: Only the head of the SFrame is printed.\n",
      "You can use print_rows(num_rows=m, num_columns=n) to print more rows and columns.\n"
     ]
    }
   ],
   "source": [
    "print 'Cosine Similarity'\n",
    "print 'RMSE:', cos_rec.evaluate_rmse(test, target = 'rating')['rmse_overall']\n",
    "print cos_rec.evaluate_precision_recall(test)['precision_recall_overall']"
   ]
  },
  {
   "cell_type": "code",
   "execution_count": 98,
   "metadata": {
    "collapsed": false
   },
   "outputs": [
    {
     "name": "stdout",
     "output_type": "stream",
     "text": [
      "Factorization (First Model):\n",
      "RMSE: 0.861800711168\n",
      "+--------+-----------------+-------------------+\n",
      "| cutoff |    precision    |       recall      |\n",
      "+--------+-----------------+-------------------+\n",
      "|   1    | 0.0120350109409 | 0.000287193391834 |\n",
      "|   2    | 0.0131291028446 | 0.000728116959314 |\n",
      "|   3    | 0.0142231947484 |  0.00131827751338 |\n",
      "|   4    | 0.0158643326039 |  0.00215368607086 |\n",
      "|   5    | 0.0168490153173 |  0.00281102144757 |\n",
      "|   6    | 0.0178701677608 |  0.00389621205826 |\n",
      "|   7    | 0.0175054704595 |  0.00473111554365 |\n",
      "|   8    | 0.0179157549234 |  0.00596288647235 |\n",
      "|   9    | 0.0181132992949 |  0.0067348204396  |\n",
      "|   10   | 0.0175054704595 |  0.00715749768078 |\n",
      "+--------+-----------------+-------------------+\n",
      "[18 rows x 3 columns]\n",
      "Note: Only the head of the SFrame is printed.\n",
      "You can use print_rows(num_rows=m, num_columns=n) to print more rows and columns.\n"
     ]
    }
   ],
   "source": [
    "print 'Factorization (First Model):'\n",
    "print 'RMSE:', nmf_model.evaluate_rmse(test, target = 'rating')['rmse_overall']\n",
    "print nmf_model.evaluate_precision_recall(test)['precision_recall_overall']"
   ]
  },
  {
   "cell_type": "code",
   "execution_count": 103,
   "metadata": {
    "collapsed": false
   },
   "outputs": [
    {
     "name": "stdout",
     "output_type": "stream",
     "text": [
      "Factorization (Second Model):\n",
      "RMSE: 0.837355564173\n",
      "+--------+-----------------+------------------+\n",
      "| cutoff |    precision    |      recall      |\n",
      "+--------+-----------------+------------------+\n",
      "|   1    | 0.0929487179487 | 0.00566837041854 |\n",
      "|   2    | 0.0731837606838 | 0.00832224084472 |\n",
      "|   3    | 0.0580484330484 | 0.0100003399032  |\n",
      "|   4    | 0.0542200854701 | 0.0126242738625  |\n",
      "|   5    | 0.0497863247863 | 0.0149520099196  |\n",
      "|   6    | 0.0486111111111 | 0.0167753069417  |\n",
      "|   7    | 0.0460927960928 | 0.0188217071248  |\n",
      "|   8    | 0.0438034188034 | 0.0198864556307  |\n",
      "|   9    | 0.0430911680912 | 0.0231613636804  |\n",
      "|   10   | 0.0418803418803 |  0.025327997889  |\n",
      "+--------+-----------------+------------------+\n",
      "[18 rows x 3 columns]\n",
      "Note: Only the head of the SFrame is printed.\n",
      "You can use print_rows(num_rows=m, num_columns=n) to print more rows and columns.\n"
     ]
    }
   ],
   "source": [
    "print 'Factorization (Second Model):'\n",
    "print 'RMSE:', nmf_model2.evaluate_rmse(test2, target = 'rating')['rmse_overall']\n",
    "print nmf_model2.evaluate_precision_recall(test2)['precision_recall_overall']"
   ]
  },
  {
   "cell_type": "code",
   "execution_count": 104,
   "metadata": {
    "collapsed": false
   },
   "outputs": [],
   "source": [
    "# Save Models\n",
    "cos_rec.save('cosine_model')\n",
    "nmf_model.save('matrix_fac_model')\n",
    "nmf_model2.save('matrix_fac_us_model')"
   ]
  },
  {
   "cell_type": "markdown",
   "metadata": {},
   "source": [
    "### Which Model to Choose?\n",
    "\n",
    "Choosing a particular model here is not obvious. While the factorization model dominates the cosine similarity recommender in terms of RMSE, the roles are flipped when we consider precision and recall. My take on this question is that it depends on what question and what problem you're trying to solve. Let's take Netflix for example, if I am just scrolling through a list of movies and wonder what my predicted rating would be for those movies, then the factorization model is the one to use. If all I want is a list of movies listed for me as recommended movies when I sign in, then the cosine simiarlity model is the one to use. Although, we can also use a combination of both methods to highlight the strengths of each model.\n",
    "\n",
    "At the end of the day, I now have a recommender to help my girlfriend and I decide what movie to watch next. To make sure we will both enjoy our next movie, I will find the intersection of our two recommended lists. Something I am actually suprised Netflix and Hulu do not implement as a feature for couples or even families especially with the new addition to their profiles: predict ratings for a movies viewed by multiple people such a couple, or family."
   ]
  }
 ],
 "metadata": {
  "anaconda-cloud": {},
  "kernelspec": {
   "display_name": "Python [default]",
   "language": "python",
   "name": "python2"
  },
  "language_info": {
   "codemirror_mode": {
    "name": "ipython",
    "version": 2
   },
   "file_extension": ".py",
   "mimetype": "text/x-python",
   "name": "python",
   "nbconvert_exporter": "python",
   "pygments_lexer": "ipython2",
   "version": "2.7.13"
  }
 },
 "nbformat": 4,
 "nbformat_minor": 1
}

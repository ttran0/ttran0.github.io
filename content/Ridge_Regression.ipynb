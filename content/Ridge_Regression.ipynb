{
 "cells": [
  {
   "cell_type": "code",
   "execution_count": 43,
   "metadata": {
    "collapsed": false
   },
   "outputs": [],
   "source": [
    "from sklearn.datasets import load_boston\n",
    "from sklearn.linear_model import Ridge\n",
    "from sklearn.preprocessing import normalize\n",
    "import numpy as np\n",
    "from copy import copy\n",
    "\n",
    "import plotly.plotly as py\n",
    "from plotly.graph_objs import *\n",
    "import plotly.graph_objs as go"
   ]
  },
  {
   "cell_type": "markdown",
   "metadata": {},
   "source": [
    "This tutorial will include setting up the Ridge Regression and going through the optimization to determine the best weights using gradient descent. I plan to introduce this topic to my numerical class as we go through the linear regression chapter and letting them use the Ridge Regression for handwritting recognition and image recognition as a fun exercise for them to enjoy. "
   ]
  },
  {
   "cell_type": "markdown",
   "metadata": {},
   "source": [
    "## Data\n",
    "\n",
    "The data used for this tutorial is from the UCI Machine Learning Repository. The dataset is for median value of homes in Boston that includes 13 features. The goal is to predict the value of each home given the 13 features. The features in the dataset are as follows:"
   ]
  },
  {
   "cell_type": "markdown",
   "metadata": {},
   "source": [
    "\n",
    "1. CRIM: per capita crime rate by town \n",
    "2. ZN: proportion of residential land zoned for lots over 25,000 sq.ft. \n",
    "3. INDUS: proportion of non-retail business acres per town \n",
    "4. CHAS: Charles River dummy variable (= 1 if tract bounds river; 0 otherwise) \n",
    "5. NOX: nitric oxides concentration (parts per 10 million) \n",
    "6. RM: average number of rooms per dwelling \n",
    "7. AGE: proportion of owner-occupied units built prior to 1940 \n",
    "8. DIS: weighted distances to five Boston employment centres \n",
    "9. RAD: index of accessibility to radial highways \n",
    "10. TAX: full-value property-tax rate per \\$10,000 \n",
    "11. PTRATIO: pupil-teacher ratio by town \n",
    "12. B: 1000(Bk - 0.63)^2 where Bk is the proportion of blacks by town \n",
    "13. LSTAT: % lower status of the population \n",
    "14. MEDV: Median value of owner-occupied homes in \\$1000's"
   ]
  },
  {
   "cell_type": "code",
   "execution_count": 2,
   "metadata": {
    "collapsed": true
   },
   "outputs": [],
   "source": [
    "X = load_boston().data\n",
    "\n",
    "y = load_boston().target\n",
    "\n",
    "load_boston().feature_names\n",
    "\n",
    "X = normalize(X, axis =1)"
   ]
  },
  {
   "cell_type": "markdown",
   "metadata": {},
   "source": [
    "The Ridge Regression is a linear regression with a l-2 penalty. The l-2 penalty allows us to deal with overfitting issues and penalize large values of $\\beta$ in our model. First, we will set up a cost/energy function that describes the \"cost\" to us, how much error our model has with the parameters $\\alpha$ and $\\beta$."
   ]
  },
  {
   "cell_type": "markdown",
   "metadata": {},
   "source": [
    "$$\n",
    "\\displaystyle E(x) =  \\sum_{i = 1}^{n} (y_i - \\alpha - <\\beta, x_i>)^2 + \\lambda ||\\beta||^2\n",
    "$$"
   ]
  },
  {
   "cell_type": "markdown",
   "metadata": {},
   "source": [
    "The goal is to minimize this function by determining the best weights, $\\alpha$, $\\beta$. Since this energy function is convex, gradient descent will work just fine for this model."
   ]
  },
  {
   "cell_type": "markdown",
   "metadata": {},
   "source": [
    "The gradient descent is simply an iterative method that updates each parameter so that we take a step opposite of the direction of the gradient. This allows us to take a step \"down hill\" so we reach the minimum. First, we will find the gradient with respect to the parameters $\\alpha$ and $\\beta_j$"
   ]
  },
  {
   "cell_type": "markdown",
   "metadata": {},
   "source": [
    "\n",
    "$$\n",
    "\\frac{\\partial E}{\\partial \\alpha} = -2\\sum_{i = 1}^{n} (y_i - \\alpha - <\\beta, x_i>) \\\\\n",
    "\\frac{\\partial E}{\\partial \\beta_j} = -2 \\sum_{i = 1}^{n} (y_i - \\alpha - <\\beta, x_i>)x_{i}^j + 2\\lambda \\beta_j\n",
    "$$"
   ]
  },
  {
   "cell_type": "markdown",
   "metadata": {},
   "source": [
    "Now that we have the gradients, we simply update each parameter:\n",
    "$$\n",
    "\\alpha \\rightarrow \\alpha - \\eta \\frac{\\partial E}{\\partial \\alpha} \\\\\n",
    "\\beta_j \\rightarrow \\beta_j - \\eta \\frac{\\partial E}{\\partial \\beta_j}\n",
    "$$\n",
    "where $\\eta$ is the learning rate of the descent"
   ]
  },
  {
   "cell_type": "code",
   "execution_count": 14,
   "metadata": {
    "collapsed": true
   },
   "outputs": [],
   "source": [
    "def E(X, y, alpha, beta, lam):\n",
    "    n = X.shape[0]\n",
    "    s = 0\n",
    "    for i in range(X.shape[0]):\n",
    "        s += (y[i] - alpha - np.dot(beta, X[i, :]))**2  \n",
    "    return  s + lam * pow(np.linalg.norm(beta), 2)\n"
   ]
  },
  {
   "cell_type": "code",
   "execution_count": 15,
   "metadata": {
    "collapsed": true
   },
   "outputs": [],
   "source": [
    "def approx(X, alpha, beta):\n",
    "    return alpha + np.dot(beta, X)"
   ]
  },
  {
   "cell_type": "code",
   "execution_count": 34,
   "metadata": {
    "collapsed": false
   },
   "outputs": [],
   "source": [
    "def ridge_gradient_descent(X, y, alpha, beta, lam):\n",
    "    learning_rate = 0.001\n",
    "    max_iter = 10000\n",
    "    E_new = []\n",
    "    for i in range(max_iter):\n",
    "        E_old = E(X, y, alpha, beta, lam)\n",
    "        for j in range(len(beta)):\n",
    "                    \n",
    "            grad_alpha = -2.0 * np.sum(y - np.repeat(alpha, len(X)) - np.dot(X, beta))\n",
    "            grad_beta = -2.0 * np.sum( (y - np.repeat(alpha, len(X)) - np.dot(X, beta)) * X[:, j]) + 2 * lam * beta[j] \n",
    "    \n",
    "            beta[j] = beta[j] - learning_rate * grad_beta\n",
    "        alpha = alpha - learning_rate * grad_alpha\n",
    "#         E_new = E(X, y, alpha, beta, lam)\n",
    "        E_new.append(E(X, y, alpha, beta, lam))\n",
    "        if abs(E_old - E_new[i]) < 1e-5:\n",
    "            print 'iteration: ', i\n",
    "            break\n",
    "    return alpha, beta, E_new\n",
    "        "
   ]
  },
  {
   "cell_type": "code",
   "execution_count": 35,
   "metadata": {
    "collapsed": false
   },
   "outputs": [
    {
     "name": "stdout",
     "output_type": "stream",
     "text": [
      "iteration:  3032\n"
     ]
    }
   ],
   "source": [
    "beta = np.zeros(X.shape[1])\n",
    "alpha = 0\n",
    "lam = 1.0\n",
    "\n",
    "alpha, beta, E_new = ridge_gradient_descent(X, y, alpha, beta, lam)"
   ]
  },
  {
   "cell_type": "code",
   "execution_count": 36,
   "metadata": {
    "collapsed": false
   },
   "outputs": [
    {
     "data": {
      "text/plain": [
       "28.49951422421243"
      ]
     },
     "execution_count": 36,
     "metadata": {},
     "output_type": "execute_result"
    }
   ],
   "source": [
    "alpha"
   ]
  },
  {
   "cell_type": "code",
   "execution_count": 37,
   "metadata": {
    "collapsed": false
   },
   "outputs": [
    {
     "data": {
      "text/plain": [
       "array([ -5.59242568e+00,   2.03416956e+01,  -5.91858062e+00,\n",
       "         3.12994788e-01,  -1.13987685e-02,   3.59101705e+00,\n",
       "        -8.00988747e+00,  -1.44749801e+00,   1.49396985e+00,\n",
       "        -1.48264899e+01,  -4.89212948e+00,   8.41809286e+00,\n",
       "        -2.30274683e+01])"
      ]
     },
     "execution_count": 37,
     "metadata": {},
     "output_type": "execute_result"
    }
   ],
   "source": [
    "beta"
   ]
  },
  {
   "cell_type": "code",
   "execution_count": 38,
   "metadata": {
    "collapsed": false
   },
   "outputs": [
    {
     "data": {
      "text/plain": [
       "30603.651496179838"
      ]
     },
     "execution_count": 38,
     "metadata": {},
     "output_type": "execute_result"
    }
   ],
   "source": [
    "E(X, y, alpha, beta, lam)"
   ]
  },
  {
   "cell_type": "code",
   "execution_count": 47,
   "metadata": {
    "collapsed": false
   },
   "outputs": [
    {
     "data": {
      "text/html": [
       "<iframe id=\"igraph\" scrolling=\"no\" style=\"border:none;\" seamless=\"seamless\" src=\"https://plot.ly/~ttran0/214.embed\" height=\"525px\" width=\"100%\"></iframe>"
      ],
      "text/plain": [
       "<plotly.tools.PlotlyDisplay object>"
      ]
     },
     "execution_count": 47,
     "metadata": {},
     "output_type": "execute_result"
    }
   ],
   "source": [
    "trace = go.Scatter(\n",
    "    x = range(len(E_new)),\n",
    "    y = E_new\n",
    ")\n",
    "layout = go.Layout(\n",
    "    title = 'Energy Function Over Iterations',\n",
    "    xaxis = dict(title = 'iteration'),\n",
    "    yaxis = dict(title = 'Energy Function')\n",
    ")\n",
    "data = [trace]\n",
    "figure = Figure(data = data, layout = layout)\n",
    "py.iplot(figure)"
   ]
  },
  {
   "cell_type": "markdown",
   "metadata": {},
   "source": [
    "From the plot above, we can see that the energy function decreases over the number of times we iterate through gradient descent, which is exactly what we want when we are minimizing a function. "
   ]
  },
  {
   "cell_type": "markdown",
   "metadata": {},
   "source": [
    "Now, to make sure we did the gradient descent and found the parameters correctly, I will use scikit-learn's Ridge Regression model to compare our result."
   ]
  },
  {
   "cell_type": "markdown",
   "metadata": {},
   "source": [
    "## Sklearn Ridge Model"
   ]
  },
  {
   "cell_type": "code",
   "execution_count": 22,
   "metadata": {
    "collapsed": false
   },
   "outputs": [],
   "source": [
    "ridge_model = Ridge(alpha = 1.0)\n",
    "ridge_model.fit(X,y)\n",
    "\n",
    "beta_r =  ridge_model.coef_\n",
    "\n",
    "alpha_r = ridge_model.intercept_\n",
    "\n",
    "ridge_model.n_iter_"
   ]
  },
  {
   "cell_type": "code",
   "execution_count": 23,
   "metadata": {
    "collapsed": false
   },
   "outputs": [
    {
     "data": {
      "text/plain": [
       "28.506452621239482"
      ]
     },
     "execution_count": 23,
     "metadata": {},
     "output_type": "execute_result"
    }
   ],
   "source": [
    "alpha_r"
   ]
  },
  {
   "cell_type": "code",
   "execution_count": 24,
   "metadata": {
    "collapsed": false
   },
   "outputs": [
    {
     "data": {
      "text/plain": [
       "array([ -5.60378835e+00,   2.03384767e+01,  -5.92328692e+00,\n",
       "         3.13700771e-01,  -1.14427211e-02,   3.59527073e+00,\n",
       "        -8.00729670e+00,  -1.45451294e+00,   1.49519768e+00,\n",
       "        -1.48310035e+01,  -4.91024958e+00,   8.41440672e+00,\n",
       "        -2.30684236e+01])"
      ]
     },
     "execution_count": 24,
     "metadata": {},
     "output_type": "execute_result"
    }
   ],
   "source": [
    "beta_r"
   ]
  },
  {
   "cell_type": "code",
   "execution_count": 25,
   "metadata": {
    "collapsed": false
   },
   "outputs": [
    {
     "data": {
      "text/plain": [
       "30603.649105510798"
      ]
     },
     "execution_count": 25,
     "metadata": {},
     "output_type": "execute_result"
    }
   ],
   "source": [
    "E(X, y, alpha_r, beta_r, 1.0)"
   ]
  },
  {
   "cell_type": "markdown",
   "metadata": {},
   "source": [
    "### Conclusion\n",
    "We get the same results from our code and scikit-learn's model. This is a good indicator that we are on the right track and found the correct parameters. "
   ]
  }
 ],
 "metadata": {
  "kernelspec": {
   "display_name": "Python 2",
   "language": "python",
   "name": "python2"
  },
  "language_info": {
   "codemirror_mode": {
    "name": "ipython",
    "version": 2
   },
   "file_extension": ".py",
   "mimetype": "text/x-python",
   "name": "python",
   "nbconvert_exporter": "python",
   "pygments_lexer": "ipython2",
   "version": "2.7.12"
  }
 },
 "nbformat": 4,
 "nbformat_minor": 0
}

{
 "cells": [
  {
   "cell_type": "markdown",
   "metadata": {},
   "source": [
    "One of the first notebooks I uploaded was my analysis on the animal outcome dataset for the Austin Animal Shelter. Recently, I ran across their open data set on Austin's open data government website: https://data.austintexas.gov/. The dataset on this site included both intake and outcome data which the dataset hosted on Kaggle did not have. The data on Kaggle was only the outcome dataset. I was very interested in how much the intake data would help improve results so we will run a similar analysis but now integrate both the intake and outcome data and also add some data visualizations. Both the intake and outcome dataset contain data from 2013 to 2017. "
   ]
  },
  {
   "cell_type": "code",
   "execution_count": 144,
   "metadata": {
    "collapsed": false
   },
   "outputs": [],
   "source": [
    "from sqlalchemy import create_engine\n",
    "import psycopg2\n",
    "import pandas as pd\n",
    "from datetime import datetime\n",
    "import numpy as np\n",
    "import re\n",
    "\n",
    "import category_encoders as ce\n",
    "from sklearn.preprocessing import LabelEncoder\n",
    "from sklearn.preprocessing import normalize\n",
    "from sklearn.model_selection import train_test_split\n",
    "from sklearn.ensemble import GradientBoostingClassifier\n",
    "from sklearn.metrics import log_loss\n",
    "from sklearn.metrics import confusion_matrix\n",
    "from sklearn.model_selection import GridSearchCV\n",
    "\n",
    "\n",
    "import matplotlib.pyplot as plt\n",
    "# import plotly.plotly\n",
    "# plotly.offline.init_notebook_mode()\n",
    "import plotly.plotly as py\n",
    "import plotly.graph_objs as go\n",
    "\n",
    "import seaborn as sns\n",
    "\n",
    "%matplotlib inline\n",
    "\n",
    "\n",
    "pd.set_option('display.max_columns', 100)"
   ]
  },
  {
   "cell_type": "code",
   "execution_count": 56,
   "metadata": {
    "collapsed": true
   },
   "outputs": [],
   "source": [
    "import plotly \n",
    "plotly.tools.set_credentials_file(username='****', api_key='*****')"
   ]
  },
  {
   "cell_type": "code",
   "execution_count": 57,
   "metadata": {
    "collapsed": false
   },
   "outputs": [],
   "source": [
    "intake = pd.read_csv('intakes.csv')\n",
    "outcome = pd.read_csv('outcomes.csv')"
   ]
  },
  {
   "cell_type": "code",
   "execution_count": 58,
   "metadata": {
    "collapsed": false
   },
   "outputs": [
    {
     "data": {
      "text/plain": [
       "Index(['Animal ID', 'Name', 'DateTime', 'MonthYear', 'Found Location',\n",
       "       'Intake Type', 'Intake Condition', 'Animal Type', 'Sex upon Intake',\n",
       "       'Age upon Intake', 'Breed', 'Color'],\n",
       "      dtype='object')"
      ]
     },
     "execution_count": 58,
     "metadata": {},
     "output_type": "execute_result"
    }
   ],
   "source": [
    "intake.columns"
   ]
  },
  {
   "cell_type": "code",
   "execution_count": 59,
   "metadata": {
    "collapsed": false
   },
   "outputs": [
    {
     "data": {
      "text/plain": [
       "Index(['Animal ID', 'Name', 'DateTime', 'MonthYear', 'Date of Birth',\n",
       "       'Outcome Type', 'Outcome Subtype', 'Animal Type', 'Sex upon Outcome',\n",
       "       'Age upon Outcome', 'Breed', 'Color'],\n",
       "      dtype='object')"
      ]
     },
     "execution_count": 59,
     "metadata": {},
     "output_type": "execute_result"
    }
   ],
   "source": [
    "outcome.columns"
   ]
  },
  {
   "cell_type": "code",
   "execution_count": 60,
   "metadata": {
    "collapsed": true
   },
   "outputs": [],
   "source": [
    "intake = intake[intake['Animal Type'].isin(['Dog', 'Cat'])]\n",
    "outcome = outcome[outcome['Animal Type'].isin(['Dog', 'Cat'])]"
   ]
  },
  {
   "cell_type": "code",
   "execution_count": 61,
   "metadata": {
    "collapsed": true
   },
   "outputs": [],
   "source": [
    "intake = intake.rename(columns = {'Animal ID': 'ID', 'Found Location': 'Found_Location', 'Intake Type': 'Intake_Type',\n",
    "                                 'Intake Condition': 'Intake_Condition', 'Animal Type': 'Animal_Type',\n",
    "                                 'Sex upon Intake':'Sex_Intake','Age upon Intake': 'Age_Intake'})"
   ]
  },
  {
   "cell_type": "code",
   "execution_count": 62,
   "metadata": {
    "collapsed": true
   },
   "outputs": [],
   "source": [
    "outcome = outcome.rename(columns = {'Animal ID': 'ID', 'Date of Birth': 'Birth_Date', 'Outcome Type': 'Outcome',\n",
    "                                   'Outcome Subtype': 'Outcome_Subtype','Animal Type': 'Animal_Type',\n",
    "                                    'Sex upon Outcome': 'Sex_Outcome', 'Age upon Outcome': 'Outcome_Age'})"
   ]
  },
  {
   "cell_type": "markdown",
   "metadata": {},
   "source": [
    "### Preview Data"
   ]
  },
  {
   "cell_type": "markdown",
   "metadata": {},
   "source": [
    "Taking a look at the intake dataset, we can see that there are several features that should be quite valuable to this analysis such as the condition of the animal when it first enters the shelter (Intake_Condition), the age of the animal on intake (Age_Intake), the way the animal was found: stray, surrendered by owner, etc (Intake_Type), and the month and day of when the animal entered the shelter. I thin its safe to assume that all of these features are quite important on the outcome of an animal. "
   ]
  },
  {
   "cell_type": "code",
   "execution_count": 63,
   "metadata": {
    "collapsed": false,
    "scrolled": true
   },
   "outputs": [
    {
     "data": {
      "text/html": [
       "<div>\n",
       "<table border=\"1\" class=\"dataframe\">\n",
       "  <thead>\n",
       "    <tr style=\"text-align: right;\">\n",
       "      <th></th>\n",
       "      <th>ID</th>\n",
       "      <th>Name</th>\n",
       "      <th>DateTime</th>\n",
       "      <th>MonthYear</th>\n",
       "      <th>Found_Location</th>\n",
       "      <th>Intake_Type</th>\n",
       "      <th>Intake_Condition</th>\n",
       "      <th>Animal_Type</th>\n",
       "      <th>Sex_Intake</th>\n",
       "      <th>Age_Intake</th>\n",
       "      <th>Breed</th>\n",
       "      <th>Color</th>\n",
       "    </tr>\n",
       "  </thead>\n",
       "  <tbody>\n",
       "    <tr>\n",
       "      <th>0</th>\n",
       "      <td>A730601</td>\n",
       "      <td>NaN</td>\n",
       "      <td>07/07/2016 12:11:00 PM</td>\n",
       "      <td>07/07/2016 12:11:00 PM</td>\n",
       "      <td>1109 Shady Ln in Austin (TX)</td>\n",
       "      <td>Stray</td>\n",
       "      <td>Normal</td>\n",
       "      <td>Cat</td>\n",
       "      <td>Intact Male</td>\n",
       "      <td>7 months</td>\n",
       "      <td>Domestic Shorthair Mix</td>\n",
       "      <td>Blue Tabby</td>\n",
       "    </tr>\n",
       "    <tr>\n",
       "      <th>1</th>\n",
       "      <td>A683644</td>\n",
       "      <td>*Zoey</td>\n",
       "      <td>07/13/2014 11:02:00 AM</td>\n",
       "      <td>07/13/2014 11:02:00 AM</td>\n",
       "      <td>Austin (TX)</td>\n",
       "      <td>Owner Surrender</td>\n",
       "      <td>Nursing</td>\n",
       "      <td>Dog</td>\n",
       "      <td>Intact Female</td>\n",
       "      <td>4 weeks</td>\n",
       "      <td>Border Collie Mix</td>\n",
       "      <td>Brown/White</td>\n",
       "    </tr>\n",
       "    <tr>\n",
       "      <th>2</th>\n",
       "      <td>A676515</td>\n",
       "      <td>Rico</td>\n",
       "      <td>04/11/2014 08:45:00 AM</td>\n",
       "      <td>04/11/2014 08:45:00 AM</td>\n",
       "      <td>615 E. Wonsley in Austin (TX)</td>\n",
       "      <td>Stray</td>\n",
       "      <td>Normal</td>\n",
       "      <td>Dog</td>\n",
       "      <td>Intact Male</td>\n",
       "      <td>2 months</td>\n",
       "      <td>Pit Bull Mix</td>\n",
       "      <td>White/Brown</td>\n",
       "    </tr>\n",
       "    <tr>\n",
       "      <th>3</th>\n",
       "      <td>A742953</td>\n",
       "      <td>NaN</td>\n",
       "      <td>01/31/2017 01:30:00 PM</td>\n",
       "      <td>01/31/2017 01:30:00 PM</td>\n",
       "      <td>S Hwy 183 And Thompson Lane in Austin (TX)</td>\n",
       "      <td>Stray</td>\n",
       "      <td>Normal</td>\n",
       "      <td>Dog</td>\n",
       "      <td>Intact Male</td>\n",
       "      <td>2 years</td>\n",
       "      <td>Saluki</td>\n",
       "      <td>Sable/Cream</td>\n",
       "    </tr>\n",
       "    <tr>\n",
       "      <th>4</th>\n",
       "      <td>A679549</td>\n",
       "      <td>*Gilbert</td>\n",
       "      <td>05/22/2014 03:43:00 PM</td>\n",
       "      <td>05/22/2014 03:43:00 PM</td>\n",
       "      <td>124 W Anderson in Austin (TX)</td>\n",
       "      <td>Stray</td>\n",
       "      <td>Normal</td>\n",
       "      <td>Cat</td>\n",
       "      <td>Intact Male</td>\n",
       "      <td>1 month</td>\n",
       "      <td>Domestic Shorthair Mix</td>\n",
       "      <td>Black/White</td>\n",
       "    </tr>\n",
       "  </tbody>\n",
       "</table>\n",
       "</div>"
      ],
      "text/plain": [
       "        ID      Name                DateTime               MonthYear  \\\n",
       "0  A730601       NaN  07/07/2016 12:11:00 PM  07/07/2016 12:11:00 PM   \n",
       "1  A683644     *Zoey  07/13/2014 11:02:00 AM  07/13/2014 11:02:00 AM   \n",
       "2  A676515      Rico  04/11/2014 08:45:00 AM  04/11/2014 08:45:00 AM   \n",
       "3  A742953       NaN  01/31/2017 01:30:00 PM  01/31/2017 01:30:00 PM   \n",
       "4  A679549  *Gilbert  05/22/2014 03:43:00 PM  05/22/2014 03:43:00 PM   \n",
       "\n",
       "                               Found_Location      Intake_Type  \\\n",
       "0                1109 Shady Ln in Austin (TX)            Stray   \n",
       "1                                 Austin (TX)  Owner Surrender   \n",
       "2               615 E. Wonsley in Austin (TX)            Stray   \n",
       "3  S Hwy 183 And Thompson Lane in Austin (TX)            Stray   \n",
       "4               124 W Anderson in Austin (TX)            Stray   \n",
       "\n",
       "  Intake_Condition Animal_Type     Sex_Intake Age_Intake  \\\n",
       "0           Normal         Cat    Intact Male   7 months   \n",
       "1          Nursing         Dog  Intact Female    4 weeks   \n",
       "2           Normal         Dog    Intact Male   2 months   \n",
       "3           Normal         Dog    Intact Male    2 years   \n",
       "4           Normal         Cat    Intact Male    1 month   \n",
       "\n",
       "                    Breed        Color  \n",
       "0  Domestic Shorthair Mix   Blue Tabby  \n",
       "1       Border Collie Mix  Brown/White  \n",
       "2            Pit Bull Mix  White/Brown  \n",
       "3                  Saluki  Sable/Cream  \n",
       "4  Domestic Shorthair Mix  Black/White  "
      ]
     },
     "execution_count": 63,
     "metadata": {},
     "output_type": "execute_result"
    }
   ],
   "source": [
    "intake.head()"
   ]
  },
  {
   "cell_type": "markdown",
   "metadata": {},
   "source": [
    "The outcome table is very similar with no additions compared to the other outcome dataset hosted on Kaggle. "
   ]
  },
  {
   "cell_type": "code",
   "execution_count": 64,
   "metadata": {
    "collapsed": false,
    "scrolled": true
   },
   "outputs": [
    {
     "data": {
      "text/html": [
       "<div>\n",
       "<table border=\"1\" class=\"dataframe\">\n",
       "  <thead>\n",
       "    <tr style=\"text-align: right;\">\n",
       "      <th></th>\n",
       "      <th>ID</th>\n",
       "      <th>Name</th>\n",
       "      <th>DateTime</th>\n",
       "      <th>MonthYear</th>\n",
       "      <th>Birth_Date</th>\n",
       "      <th>Outcome</th>\n",
       "      <th>Outcome_Subtype</th>\n",
       "      <th>Animal_Type</th>\n",
       "      <th>Sex_Outcome</th>\n",
       "      <th>Outcome_Age</th>\n",
       "      <th>Breed</th>\n",
       "      <th>Color</th>\n",
       "    </tr>\n",
       "  </thead>\n",
       "  <tbody>\n",
       "    <tr>\n",
       "      <th>0</th>\n",
       "      <td>A741715</td>\n",
       "      <td>*Pebbles</td>\n",
       "      <td>01/11/2017 06:17:00 PM</td>\n",
       "      <td>01/11/2017 06:17:00 PM</td>\n",
       "      <td>03/07/2016</td>\n",
       "      <td>Adoption</td>\n",
       "      <td>NaN</td>\n",
       "      <td>Cat</td>\n",
       "      <td>Spayed Female</td>\n",
       "      <td>10 months</td>\n",
       "      <td>Domestic Shorthair Mix</td>\n",
       "      <td>Calico</td>\n",
       "    </tr>\n",
       "    <tr>\n",
       "      <th>1</th>\n",
       "      <td>A658751</td>\n",
       "      <td>Benji</td>\n",
       "      <td>11/13/2016 01:38:00 PM</td>\n",
       "      <td>11/13/2016 01:38:00 PM</td>\n",
       "      <td>07/14/2011</td>\n",
       "      <td>Return to Owner</td>\n",
       "      <td>NaN</td>\n",
       "      <td>Dog</td>\n",
       "      <td>Neutered Male</td>\n",
       "      <td>5 years</td>\n",
       "      <td>Border Terrier Mix</td>\n",
       "      <td>Tan</td>\n",
       "    </tr>\n",
       "    <tr>\n",
       "      <th>3</th>\n",
       "      <td>A707443</td>\n",
       "      <td>NaN</td>\n",
       "      <td>07/13/2015 01:50:00 PM</td>\n",
       "      <td>07/13/2015 01:50:00 PM</td>\n",
       "      <td>06/21/2015</td>\n",
       "      <td>Transfer</td>\n",
       "      <td>Partner</td>\n",
       "      <td>Cat</td>\n",
       "      <td>Intact Female</td>\n",
       "      <td>3 weeks</td>\n",
       "      <td>Domestic Longhair Mix</td>\n",
       "      <td>Black Smoke</td>\n",
       "    </tr>\n",
       "    <tr>\n",
       "      <th>4</th>\n",
       "      <td>A684346</td>\n",
       "      <td>NaN</td>\n",
       "      <td>07/22/2014 04:04:00 PM</td>\n",
       "      <td>07/22/2014 04:04:00 PM</td>\n",
       "      <td>07/07/2014</td>\n",
       "      <td>Transfer</td>\n",
       "      <td>Partner</td>\n",
       "      <td>Cat</td>\n",
       "      <td>Intact Male</td>\n",
       "      <td>2 weeks</td>\n",
       "      <td>Domestic Shorthair Mix</td>\n",
       "      <td>Orange Tabby</td>\n",
       "    </tr>\n",
       "    <tr>\n",
       "      <th>5</th>\n",
       "      <td>A666430</td>\n",
       "      <td>Lucy</td>\n",
       "      <td>11/07/2013 11:47:00 AM</td>\n",
       "      <td>11/07/2013 11:47:00 AM</td>\n",
       "      <td>11/06/2012</td>\n",
       "      <td>Transfer</td>\n",
       "      <td>Partner</td>\n",
       "      <td>Dog</td>\n",
       "      <td>Spayed Female</td>\n",
       "      <td>1 year</td>\n",
       "      <td>Beagle Mix</td>\n",
       "      <td>White/Brown</td>\n",
       "    </tr>\n",
       "  </tbody>\n",
       "</table>\n",
       "</div>"
      ],
      "text/plain": [
       "        ID      Name                DateTime               MonthYear  \\\n",
       "0  A741715  *Pebbles  01/11/2017 06:17:00 PM  01/11/2017 06:17:00 PM   \n",
       "1  A658751     Benji  11/13/2016 01:38:00 PM  11/13/2016 01:38:00 PM   \n",
       "3  A707443       NaN  07/13/2015 01:50:00 PM  07/13/2015 01:50:00 PM   \n",
       "4  A684346       NaN  07/22/2014 04:04:00 PM  07/22/2014 04:04:00 PM   \n",
       "5  A666430      Lucy  11/07/2013 11:47:00 AM  11/07/2013 11:47:00 AM   \n",
       "\n",
       "   Birth_Date          Outcome Outcome_Subtype Animal_Type    Sex_Outcome  \\\n",
       "0  03/07/2016         Adoption             NaN         Cat  Spayed Female   \n",
       "1  07/14/2011  Return to Owner             NaN         Dog  Neutered Male   \n",
       "3  06/21/2015         Transfer         Partner         Cat  Intact Female   \n",
       "4  07/07/2014         Transfer         Partner         Cat    Intact Male   \n",
       "5  11/06/2012         Transfer         Partner         Dog  Spayed Female   \n",
       "\n",
       "  Outcome_Age                   Breed         Color  \n",
       "0   10 months  Domestic Shorthair Mix        Calico  \n",
       "1     5 years      Border Terrier Mix           Tan  \n",
       "3     3 weeks   Domestic Longhair Mix   Black Smoke  \n",
       "4     2 weeks  Domestic Shorthair Mix  Orange Tabby  \n",
       "5      1 year              Beagle Mix   White/Brown  "
      ]
     },
     "execution_count": 64,
     "metadata": {},
     "output_type": "execute_result"
    }
   ],
   "source": [
    "outcome.head()"
   ]
  },
  {
   "cell_type": "markdown",
   "metadata": {},
   "source": [
    "We will no merge the intake and outcome dataset and start cleaning and preparing the set to do some exploratory and predictive data analysis."
   ]
  },
  {
   "cell_type": "code",
   "execution_count": 65,
   "metadata": {
    "collapsed": true
   },
   "outputs": [],
   "source": [
    "df = pd.merge(intake, outcome, on = 'ID', how = 'inner', suffixes = ('_intake', '_outcome'))"
   ]
  },
  {
   "cell_type": "code",
   "execution_count": 66,
   "metadata": {
    "collapsed": false
   },
   "outputs": [
    {
     "data": {
      "text/html": [
       "<div>\n",
       "<table border=\"1\" class=\"dataframe\">\n",
       "  <thead>\n",
       "    <tr style=\"text-align: right;\">\n",
       "      <th></th>\n",
       "      <th>ID</th>\n",
       "      <th>Name_intake</th>\n",
       "      <th>DateTime_intake</th>\n",
       "      <th>MonthYear_intake</th>\n",
       "      <th>Found_Location</th>\n",
       "      <th>Intake_Type</th>\n",
       "      <th>Intake_Condition</th>\n",
       "      <th>Animal_Type_intake</th>\n",
       "      <th>Sex_Intake</th>\n",
       "      <th>Age_Intake</th>\n",
       "      <th>Breed_intake</th>\n",
       "      <th>Color_intake</th>\n",
       "      <th>Name_outcome</th>\n",
       "      <th>DateTime_outcome</th>\n",
       "      <th>MonthYear_outcome</th>\n",
       "      <th>Birth_Date</th>\n",
       "      <th>Outcome</th>\n",
       "      <th>Outcome_Subtype</th>\n",
       "      <th>Animal_Type_outcome</th>\n",
       "      <th>Sex_Outcome</th>\n",
       "      <th>Outcome_Age</th>\n",
       "      <th>Breed_outcome</th>\n",
       "      <th>Color_outcome</th>\n",
       "    </tr>\n",
       "  </thead>\n",
       "  <tbody>\n",
       "    <tr>\n",
       "      <th>2411</th>\n",
       "      <td>A683782</td>\n",
       "      <td>NaN</td>\n",
       "      <td>07/19/2014 03:55:00 PM</td>\n",
       "      <td>07/19/2014 03:55:00 PM</td>\n",
       "      <td>11411 Research Blvd in Austin (TX)</td>\n",
       "      <td>Stray</td>\n",
       "      <td>Normal</td>\n",
       "      <td>Cat</td>\n",
       "      <td>Neutered Male</td>\n",
       "      <td>5 months</td>\n",
       "      <td>Domestic Shorthair Mix</td>\n",
       "      <td>Brown Tabby</td>\n",
       "      <td>NaN</td>\n",
       "      <td>07/16/2014 09:00:00 AM</td>\n",
       "      <td>07/16/2014 09:00:00 AM</td>\n",
       "      <td>02/15/2014</td>\n",
       "      <td>Transfer</td>\n",
       "      <td>SCRP</td>\n",
       "      <td>Cat</td>\n",
       "      <td>Neutered Male</td>\n",
       "      <td>4 months</td>\n",
       "      <td>Domestic Shorthair Mix</td>\n",
       "      <td>Brown Tabby</td>\n",
       "    </tr>\n",
       "    <tr>\n",
       "      <th>2413</th>\n",
       "      <td>A683782</td>\n",
       "      <td>NaN</td>\n",
       "      <td>07/15/2014 01:49:00 PM</td>\n",
       "      <td>07/15/2014 01:49:00 PM</td>\n",
       "      <td>11411 Research Blvd in Austin (TX)</td>\n",
       "      <td>Stray</td>\n",
       "      <td>Normal</td>\n",
       "      <td>Cat</td>\n",
       "      <td>Neutered Male</td>\n",
       "      <td>4 months</td>\n",
       "      <td>Domestic Shorthair Mix</td>\n",
       "      <td>Brown Tabby</td>\n",
       "      <td>NaN</td>\n",
       "      <td>07/16/2014 09:00:00 AM</td>\n",
       "      <td>07/16/2014 09:00:00 AM</td>\n",
       "      <td>02/15/2014</td>\n",
       "      <td>Transfer</td>\n",
       "      <td>SCRP</td>\n",
       "      <td>Cat</td>\n",
       "      <td>Neutered Male</td>\n",
       "      <td>4 months</td>\n",
       "      <td>Domestic Shorthair Mix</td>\n",
       "      <td>Brown Tabby</td>\n",
       "    </tr>\n",
       "    <tr>\n",
       "      <th>17191</th>\n",
       "      <td>A715083</td>\n",
       "      <td>Daisy</td>\n",
       "      <td>10/31/2015 11:39:00 AM</td>\n",
       "      <td>10/31/2015 11:39:00 AM</td>\n",
       "      <td>Ipswixh Bay Dr &amp; Kedington St in Austin (TX)</td>\n",
       "      <td>Stray</td>\n",
       "      <td>Normal</td>\n",
       "      <td>Dog</td>\n",
       "      <td>Intact Female</td>\n",
       "      <td>5 months</td>\n",
       "      <td>Cairn Terrier Mix</td>\n",
       "      <td>Brown/Black</td>\n",
       "      <td>Daisy</td>\n",
       "      <td>11/03/2015 06:27:00 PM</td>\n",
       "      <td>11/03/2015 06:27:00 PM</td>\n",
       "      <td>05/02/2015</td>\n",
       "      <td>Return to Owner</td>\n",
       "      <td>NaN</td>\n",
       "      <td>Dog</td>\n",
       "      <td>Spayed Female</td>\n",
       "      <td>6 months</td>\n",
       "      <td>Cairn Terrier Mix</td>\n",
       "      <td>Brown/Black</td>\n",
       "    </tr>\n",
       "    <tr>\n",
       "      <th>17192</th>\n",
       "      <td>A715083</td>\n",
       "      <td>Daisy</td>\n",
       "      <td>10/31/2015 11:39:00 AM</td>\n",
       "      <td>10/31/2015 11:39:00 AM</td>\n",
       "      <td>Ipswixh Bay Dr &amp; Kedington St in Austin (TX)</td>\n",
       "      <td>Stray</td>\n",
       "      <td>Normal</td>\n",
       "      <td>Dog</td>\n",
       "      <td>Intact Female</td>\n",
       "      <td>5 months</td>\n",
       "      <td>Cairn Terrier Mix</td>\n",
       "      <td>Brown/Black</td>\n",
       "      <td>Daisy</td>\n",
       "      <td>11/03/2015 06:27:00 PM</td>\n",
       "      <td>11/03/2015 06:27:00 PM</td>\n",
       "      <td>05/02/2015</td>\n",
       "      <td>Return to Owner</td>\n",
       "      <td>NaN</td>\n",
       "      <td>Dog</td>\n",
       "      <td>Spayed Female</td>\n",
       "      <td>6 months</td>\n",
       "      <td>Cairn Terrier Mix</td>\n",
       "      <td>Brown/Black</td>\n",
       "    </tr>\n",
       "    <tr>\n",
       "      <th>17193</th>\n",
       "      <td>A715083</td>\n",
       "      <td>Daisy</td>\n",
       "      <td>10/31/2015 11:39:00 AM</td>\n",
       "      <td>10/31/2015 11:39:00 AM</td>\n",
       "      <td>Ipswixh Bay Dr &amp; Kedington St in Austin (TX)</td>\n",
       "      <td>Stray</td>\n",
       "      <td>Normal</td>\n",
       "      <td>Dog</td>\n",
       "      <td>Intact Female</td>\n",
       "      <td>5 months</td>\n",
       "      <td>Cairn Terrier Mix</td>\n",
       "      <td>Brown/Black</td>\n",
       "      <td>Daisy</td>\n",
       "      <td>11/03/2015 06:27:00 PM</td>\n",
       "      <td>11/03/2015 06:27:00 PM</td>\n",
       "      <td>05/02/2015</td>\n",
       "      <td>Return to Owner</td>\n",
       "      <td>NaN</td>\n",
       "      <td>Dog</td>\n",
       "      <td>Spayed Female</td>\n",
       "      <td>6 months</td>\n",
       "      <td>Cairn Terrier Mix</td>\n",
       "      <td>Brown/Black</td>\n",
       "    </tr>\n",
       "  </tbody>\n",
       "</table>\n",
       "</div>"
      ],
      "text/plain": [
       "            ID Name_intake         DateTime_intake        MonthYear_intake  \\\n",
       "2411   A683782         NaN  07/19/2014 03:55:00 PM  07/19/2014 03:55:00 PM   \n",
       "2413   A683782         NaN  07/15/2014 01:49:00 PM  07/15/2014 01:49:00 PM   \n",
       "17191  A715083       Daisy  10/31/2015 11:39:00 AM  10/31/2015 11:39:00 AM   \n",
       "17192  A715083       Daisy  10/31/2015 11:39:00 AM  10/31/2015 11:39:00 AM   \n",
       "17193  A715083       Daisy  10/31/2015 11:39:00 AM  10/31/2015 11:39:00 AM   \n",
       "\n",
       "                                     Found_Location Intake_Type  \\\n",
       "2411             11411 Research Blvd in Austin (TX)       Stray   \n",
       "2413             11411 Research Blvd in Austin (TX)       Stray   \n",
       "17191  Ipswixh Bay Dr & Kedington St in Austin (TX)       Stray   \n",
       "17192  Ipswixh Bay Dr & Kedington St in Austin (TX)       Stray   \n",
       "17193  Ipswixh Bay Dr & Kedington St in Austin (TX)       Stray   \n",
       "\n",
       "      Intake_Condition Animal_Type_intake     Sex_Intake Age_Intake  \\\n",
       "2411            Normal                Cat  Neutered Male   5 months   \n",
       "2413            Normal                Cat  Neutered Male   4 months   \n",
       "17191           Normal                Dog  Intact Female   5 months   \n",
       "17192           Normal                Dog  Intact Female   5 months   \n",
       "17193           Normal                Dog  Intact Female   5 months   \n",
       "\n",
       "                 Breed_intake Color_intake Name_outcome  \\\n",
       "2411   Domestic Shorthair Mix  Brown Tabby          NaN   \n",
       "2413   Domestic Shorthair Mix  Brown Tabby          NaN   \n",
       "17191       Cairn Terrier Mix  Brown/Black        Daisy   \n",
       "17192       Cairn Terrier Mix  Brown/Black        Daisy   \n",
       "17193       Cairn Terrier Mix  Brown/Black        Daisy   \n",
       "\n",
       "             DateTime_outcome       MonthYear_outcome  Birth_Date  \\\n",
       "2411   07/16/2014 09:00:00 AM  07/16/2014 09:00:00 AM  02/15/2014   \n",
       "2413   07/16/2014 09:00:00 AM  07/16/2014 09:00:00 AM  02/15/2014   \n",
       "17191  11/03/2015 06:27:00 PM  11/03/2015 06:27:00 PM  05/02/2015   \n",
       "17192  11/03/2015 06:27:00 PM  11/03/2015 06:27:00 PM  05/02/2015   \n",
       "17193  11/03/2015 06:27:00 PM  11/03/2015 06:27:00 PM  05/02/2015   \n",
       "\n",
       "               Outcome Outcome_Subtype Animal_Type_outcome    Sex_Outcome  \\\n",
       "2411          Transfer            SCRP                 Cat  Neutered Male   \n",
       "2413          Transfer            SCRP                 Cat  Neutered Male   \n",
       "17191  Return to Owner             NaN                 Dog  Spayed Female   \n",
       "17192  Return to Owner             NaN                 Dog  Spayed Female   \n",
       "17193  Return to Owner             NaN                 Dog  Spayed Female   \n",
       "\n",
       "      Outcome_Age           Breed_outcome Color_outcome  \n",
       "2411     4 months  Domestic Shorthair Mix   Brown Tabby  \n",
       "2413     4 months  Domestic Shorthair Mix   Brown Tabby  \n",
       "17191    6 months       Cairn Terrier Mix   Brown/Black  \n",
       "17192    6 months       Cairn Terrier Mix   Brown/Black  \n",
       "17193    6 months       Cairn Terrier Mix   Brown/Black  "
      ]
     },
     "execution_count": 66,
     "metadata": {},
     "output_type": "execute_result"
    }
   ],
   "source": [
    "df[df.duplicated()].head()"
   ]
  },
  {
   "cell_type": "code",
   "execution_count": 67,
   "metadata": {
    "collapsed": false
   },
   "outputs": [
    {
     "data": {
      "text/plain": [
       "(52354, 23)"
      ]
     },
     "execution_count": 67,
     "metadata": {},
     "output_type": "execute_result"
    }
   ],
   "source": [
    "df = df.drop_duplicates('ID')\n",
    "df.shape"
   ]
  },
  {
   "cell_type": "code",
   "execution_count": 68,
   "metadata": {
    "collapsed": false
   },
   "outputs": [
    {
     "data": {
      "text/html": [
       "<div>\n",
       "<table border=\"1\" class=\"dataframe\">\n",
       "  <thead>\n",
       "    <tr style=\"text-align: right;\">\n",
       "      <th></th>\n",
       "      <th>ID</th>\n",
       "      <th>Name_intake</th>\n",
       "      <th>DateTime_intake</th>\n",
       "      <th>MonthYear_intake</th>\n",
       "      <th>Found_Location</th>\n",
       "      <th>Intake_Type</th>\n",
       "      <th>Intake_Condition</th>\n",
       "      <th>Animal_Type_intake</th>\n",
       "      <th>Sex_Intake</th>\n",
       "      <th>Age_Intake</th>\n",
       "      <th>Breed_intake</th>\n",
       "      <th>Color_intake</th>\n",
       "      <th>Name_outcome</th>\n",
       "      <th>DateTime_outcome</th>\n",
       "      <th>MonthYear_outcome</th>\n",
       "      <th>Birth_Date</th>\n",
       "      <th>Outcome</th>\n",
       "      <th>Outcome_Subtype</th>\n",
       "      <th>Animal_Type_outcome</th>\n",
       "      <th>Sex_Outcome</th>\n",
       "      <th>Outcome_Age</th>\n",
       "      <th>Breed_outcome</th>\n",
       "      <th>Color_outcome</th>\n",
       "    </tr>\n",
       "  </thead>\n",
       "  <tbody>\n",
       "    <tr>\n",
       "      <th>0</th>\n",
       "      <td>A730601</td>\n",
       "      <td>NaN</td>\n",
       "      <td>07/07/2016 12:11:00 PM</td>\n",
       "      <td>07/07/2016 12:11:00 PM</td>\n",
       "      <td>1109 Shady Ln in Austin (TX)</td>\n",
       "      <td>Stray</td>\n",
       "      <td>Normal</td>\n",
       "      <td>Cat</td>\n",
       "      <td>Intact Male</td>\n",
       "      <td>7 months</td>\n",
       "      <td>Domestic Shorthair Mix</td>\n",
       "      <td>Blue Tabby</td>\n",
       "      <td>NaN</td>\n",
       "      <td>07/08/2016 09:00:00 AM</td>\n",
       "      <td>07/08/2016 09:00:00 AM</td>\n",
       "      <td>12/07/2015</td>\n",
       "      <td>Transfer</td>\n",
       "      <td>SCRP</td>\n",
       "      <td>Cat</td>\n",
       "      <td>Neutered Male</td>\n",
       "      <td>7 months</td>\n",
       "      <td>Domestic Shorthair Mix</td>\n",
       "      <td>Blue Tabby</td>\n",
       "    </tr>\n",
       "    <tr>\n",
       "      <th>1</th>\n",
       "      <td>A683644</td>\n",
       "      <td>*Zoey</td>\n",
       "      <td>07/13/2014 11:02:00 AM</td>\n",
       "      <td>07/13/2014 11:02:00 AM</td>\n",
       "      <td>Austin (TX)</td>\n",
       "      <td>Owner Surrender</td>\n",
       "      <td>Nursing</td>\n",
       "      <td>Dog</td>\n",
       "      <td>Intact Female</td>\n",
       "      <td>4 weeks</td>\n",
       "      <td>Border Collie Mix</td>\n",
       "      <td>Brown/White</td>\n",
       "      <td>*Zoey</td>\n",
       "      <td>11/06/2014 10:06:00 AM</td>\n",
       "      <td>11/06/2014 10:06:00 AM</td>\n",
       "      <td>06/13/2014</td>\n",
       "      <td>Adoption</td>\n",
       "      <td>Foster</td>\n",
       "      <td>Dog</td>\n",
       "      <td>Spayed Female</td>\n",
       "      <td>4 months</td>\n",
       "      <td>Border Collie Mix</td>\n",
       "      <td>Brown/White</td>\n",
       "    </tr>\n",
       "    <tr>\n",
       "      <th>2</th>\n",
       "      <td>A676515</td>\n",
       "      <td>Rico</td>\n",
       "      <td>04/11/2014 08:45:00 AM</td>\n",
       "      <td>04/11/2014 08:45:00 AM</td>\n",
       "      <td>615 E. Wonsley in Austin (TX)</td>\n",
       "      <td>Stray</td>\n",
       "      <td>Normal</td>\n",
       "      <td>Dog</td>\n",
       "      <td>Intact Male</td>\n",
       "      <td>2 months</td>\n",
       "      <td>Pit Bull Mix</td>\n",
       "      <td>White/Brown</td>\n",
       "      <td>Rico</td>\n",
       "      <td>04/14/2014 06:38:00 PM</td>\n",
       "      <td>04/14/2014 06:38:00 PM</td>\n",
       "      <td>01/11/2014</td>\n",
       "      <td>Return to Owner</td>\n",
       "      <td>NaN</td>\n",
       "      <td>Dog</td>\n",
       "      <td>Neutered Male</td>\n",
       "      <td>3 months</td>\n",
       "      <td>Pit Bull Mix</td>\n",
       "      <td>White/Brown</td>\n",
       "    </tr>\n",
       "    <tr>\n",
       "      <th>3</th>\n",
       "      <td>A742953</td>\n",
       "      <td>NaN</td>\n",
       "      <td>01/31/2017 01:30:00 PM</td>\n",
       "      <td>01/31/2017 01:30:00 PM</td>\n",
       "      <td>S Hwy 183 And Thompson Lane in Austin (TX)</td>\n",
       "      <td>Stray</td>\n",
       "      <td>Normal</td>\n",
       "      <td>Dog</td>\n",
       "      <td>Intact Male</td>\n",
       "      <td>2 years</td>\n",
       "      <td>Saluki</td>\n",
       "      <td>Sable/Cream</td>\n",
       "      <td>NaN</td>\n",
       "      <td>02/04/2017 02:17:00 PM</td>\n",
       "      <td>02/04/2017 02:17:00 PM</td>\n",
       "      <td>01/31/2015</td>\n",
       "      <td>Transfer</td>\n",
       "      <td>Partner</td>\n",
       "      <td>Dog</td>\n",
       "      <td>Intact Male</td>\n",
       "      <td>2 years</td>\n",
       "      <td>Saluki</td>\n",
       "      <td>Sable/Cream</td>\n",
       "    </tr>\n",
       "    <tr>\n",
       "      <th>4</th>\n",
       "      <td>A679549</td>\n",
       "      <td>*Gilbert</td>\n",
       "      <td>05/22/2014 03:43:00 PM</td>\n",
       "      <td>05/22/2014 03:43:00 PM</td>\n",
       "      <td>124 W Anderson in Austin (TX)</td>\n",
       "      <td>Stray</td>\n",
       "      <td>Normal</td>\n",
       "      <td>Cat</td>\n",
       "      <td>Intact Male</td>\n",
       "      <td>1 month</td>\n",
       "      <td>Domestic Shorthair Mix</td>\n",
       "      <td>Black/White</td>\n",
       "      <td>*Gilbert</td>\n",
       "      <td>06/16/2014 01:54:00 PM</td>\n",
       "      <td>06/16/2014 01:54:00 PM</td>\n",
       "      <td>03/31/2014</td>\n",
       "      <td>Transfer</td>\n",
       "      <td>Partner</td>\n",
       "      <td>Cat</td>\n",
       "      <td>Neutered Male</td>\n",
       "      <td>2 months</td>\n",
       "      <td>Domestic Shorthair Mix</td>\n",
       "      <td>Black/White</td>\n",
       "    </tr>\n",
       "  </tbody>\n",
       "</table>\n",
       "</div>"
      ],
      "text/plain": [
       "        ID Name_intake         DateTime_intake        MonthYear_intake  \\\n",
       "0  A730601         NaN  07/07/2016 12:11:00 PM  07/07/2016 12:11:00 PM   \n",
       "1  A683644       *Zoey  07/13/2014 11:02:00 AM  07/13/2014 11:02:00 AM   \n",
       "2  A676515        Rico  04/11/2014 08:45:00 AM  04/11/2014 08:45:00 AM   \n",
       "3  A742953         NaN  01/31/2017 01:30:00 PM  01/31/2017 01:30:00 PM   \n",
       "4  A679549    *Gilbert  05/22/2014 03:43:00 PM  05/22/2014 03:43:00 PM   \n",
       "\n",
       "                               Found_Location      Intake_Type  \\\n",
       "0                1109 Shady Ln in Austin (TX)            Stray   \n",
       "1                                 Austin (TX)  Owner Surrender   \n",
       "2               615 E. Wonsley in Austin (TX)            Stray   \n",
       "3  S Hwy 183 And Thompson Lane in Austin (TX)            Stray   \n",
       "4               124 W Anderson in Austin (TX)            Stray   \n",
       "\n",
       "  Intake_Condition Animal_Type_intake     Sex_Intake Age_Intake  \\\n",
       "0           Normal                Cat    Intact Male   7 months   \n",
       "1          Nursing                Dog  Intact Female    4 weeks   \n",
       "2           Normal                Dog    Intact Male   2 months   \n",
       "3           Normal                Dog    Intact Male    2 years   \n",
       "4           Normal                Cat    Intact Male    1 month   \n",
       "\n",
       "             Breed_intake Color_intake Name_outcome        DateTime_outcome  \\\n",
       "0  Domestic Shorthair Mix   Blue Tabby          NaN  07/08/2016 09:00:00 AM   \n",
       "1       Border Collie Mix  Brown/White        *Zoey  11/06/2014 10:06:00 AM   \n",
       "2            Pit Bull Mix  White/Brown         Rico  04/14/2014 06:38:00 PM   \n",
       "3                  Saluki  Sable/Cream          NaN  02/04/2017 02:17:00 PM   \n",
       "4  Domestic Shorthair Mix  Black/White     *Gilbert  06/16/2014 01:54:00 PM   \n",
       "\n",
       "        MonthYear_outcome  Birth_Date          Outcome Outcome_Subtype  \\\n",
       "0  07/08/2016 09:00:00 AM  12/07/2015         Transfer            SCRP   \n",
       "1  11/06/2014 10:06:00 AM  06/13/2014         Adoption          Foster   \n",
       "2  04/14/2014 06:38:00 PM  01/11/2014  Return to Owner             NaN   \n",
       "3  02/04/2017 02:17:00 PM  01/31/2015         Transfer         Partner   \n",
       "4  06/16/2014 01:54:00 PM  03/31/2014         Transfer         Partner   \n",
       "\n",
       "  Animal_Type_outcome    Sex_Outcome Outcome_Age           Breed_outcome  \\\n",
       "0                 Cat  Neutered Male    7 months  Domestic Shorthair Mix   \n",
       "1                 Dog  Spayed Female    4 months       Border Collie Mix   \n",
       "2                 Dog  Neutered Male    3 months            Pit Bull Mix   \n",
       "3                 Dog    Intact Male     2 years                  Saluki   \n",
       "4                 Cat  Neutered Male    2 months  Domestic Shorthair Mix   \n",
       "\n",
       "  Color_outcome  \n",
       "0    Blue Tabby  \n",
       "1   Brown/White  \n",
       "2   White/Brown  \n",
       "3   Sable/Cream  \n",
       "4   Black/White  "
      ]
     },
     "execution_count": 68,
     "metadata": {},
     "output_type": "execute_result"
    }
   ],
   "source": [
    "df.head()"
   ]
  },
  {
   "cell_type": "code",
   "execution_count": 69,
   "metadata": {
    "collapsed": false
   },
   "outputs": [
    {
     "data": {
      "text/plain": [
       "Index(['ID', 'Name_intake', 'DateTime_intake', 'MonthYear_intake',\n",
       "       'Found_Location', 'Intake_Type', 'Intake_Condition',\n",
       "       'Animal_Type_intake', 'Sex_Intake', 'Age_Intake', 'Breed_intake',\n",
       "       'Color_intake', 'Name_outcome', 'DateTime_outcome', 'MonthYear_outcome',\n",
       "       'Birth_Date', 'Outcome', 'Outcome_Subtype', 'Animal_Type_outcome',\n",
       "       'Sex_Outcome', 'Outcome_Age', 'Breed_outcome', 'Color_outcome'],\n",
       "      dtype='object')"
      ]
     },
     "execution_count": 69,
     "metadata": {},
     "output_type": "execute_result"
    }
   ],
   "source": [
    "df.columns"
   ]
  },
  {
   "cell_type": "code",
   "execution_count": 70,
   "metadata": {
    "collapsed": true
   },
   "outputs": [],
   "source": [
    "df = df.drop(['Name_intake', 'Animal_Type_intake', 'Breed_intake', 'Color_intake'], axis = 1).reset_index(drop = True)"
   ]
  },
  {
   "cell_type": "code",
   "execution_count": 71,
   "metadata": {
    "collapsed": false
   },
   "outputs": [
    {
     "data": {
      "text/html": [
       "<div>\n",
       "<table border=\"1\" class=\"dataframe\">\n",
       "  <thead>\n",
       "    <tr style=\"text-align: right;\">\n",
       "      <th></th>\n",
       "      <th>ID</th>\n",
       "      <th>DateTime_intake</th>\n",
       "      <th>MonthYear_intake</th>\n",
       "      <th>Found_Location</th>\n",
       "      <th>Intake_Type</th>\n",
       "      <th>Intake_Condition</th>\n",
       "      <th>Sex_Intake</th>\n",
       "      <th>Age_Intake</th>\n",
       "      <th>Name_outcome</th>\n",
       "      <th>DateTime_outcome</th>\n",
       "      <th>MonthYear_outcome</th>\n",
       "      <th>Birth_Date</th>\n",
       "      <th>Outcome</th>\n",
       "      <th>Outcome_Subtype</th>\n",
       "      <th>Animal_Type_outcome</th>\n",
       "      <th>Sex_Outcome</th>\n",
       "      <th>Outcome_Age</th>\n",
       "      <th>Breed_outcome</th>\n",
       "      <th>Color_outcome</th>\n",
       "    </tr>\n",
       "  </thead>\n",
       "  <tbody>\n",
       "    <tr>\n",
       "      <th>0</th>\n",
       "      <td>A730601</td>\n",
       "      <td>07/07/2016 12:11:00 PM</td>\n",
       "      <td>07/07/2016 12:11:00 PM</td>\n",
       "      <td>1109 Shady Ln in Austin (TX)</td>\n",
       "      <td>Stray</td>\n",
       "      <td>Normal</td>\n",
       "      <td>Intact Male</td>\n",
       "      <td>7 months</td>\n",
       "      <td>NaN</td>\n",
       "      <td>07/08/2016 09:00:00 AM</td>\n",
       "      <td>07/08/2016 09:00:00 AM</td>\n",
       "      <td>12/07/2015</td>\n",
       "      <td>Transfer</td>\n",
       "      <td>SCRP</td>\n",
       "      <td>Cat</td>\n",
       "      <td>Neutered Male</td>\n",
       "      <td>7 months</td>\n",
       "      <td>Domestic Shorthair Mix</td>\n",
       "      <td>Blue Tabby</td>\n",
       "    </tr>\n",
       "    <tr>\n",
       "      <th>1</th>\n",
       "      <td>A683644</td>\n",
       "      <td>07/13/2014 11:02:00 AM</td>\n",
       "      <td>07/13/2014 11:02:00 AM</td>\n",
       "      <td>Austin (TX)</td>\n",
       "      <td>Owner Surrender</td>\n",
       "      <td>Nursing</td>\n",
       "      <td>Intact Female</td>\n",
       "      <td>4 weeks</td>\n",
       "      <td>*Zoey</td>\n",
       "      <td>11/06/2014 10:06:00 AM</td>\n",
       "      <td>11/06/2014 10:06:00 AM</td>\n",
       "      <td>06/13/2014</td>\n",
       "      <td>Adoption</td>\n",
       "      <td>Foster</td>\n",
       "      <td>Dog</td>\n",
       "      <td>Spayed Female</td>\n",
       "      <td>4 months</td>\n",
       "      <td>Border Collie Mix</td>\n",
       "      <td>Brown/White</td>\n",
       "    </tr>\n",
       "    <tr>\n",
       "      <th>2</th>\n",
       "      <td>A676515</td>\n",
       "      <td>04/11/2014 08:45:00 AM</td>\n",
       "      <td>04/11/2014 08:45:00 AM</td>\n",
       "      <td>615 E. Wonsley in Austin (TX)</td>\n",
       "      <td>Stray</td>\n",
       "      <td>Normal</td>\n",
       "      <td>Intact Male</td>\n",
       "      <td>2 months</td>\n",
       "      <td>Rico</td>\n",
       "      <td>04/14/2014 06:38:00 PM</td>\n",
       "      <td>04/14/2014 06:38:00 PM</td>\n",
       "      <td>01/11/2014</td>\n",
       "      <td>Return to Owner</td>\n",
       "      <td>NaN</td>\n",
       "      <td>Dog</td>\n",
       "      <td>Neutered Male</td>\n",
       "      <td>3 months</td>\n",
       "      <td>Pit Bull Mix</td>\n",
       "      <td>White/Brown</td>\n",
       "    </tr>\n",
       "    <tr>\n",
       "      <th>3</th>\n",
       "      <td>A742953</td>\n",
       "      <td>01/31/2017 01:30:00 PM</td>\n",
       "      <td>01/31/2017 01:30:00 PM</td>\n",
       "      <td>S Hwy 183 And Thompson Lane in Austin (TX)</td>\n",
       "      <td>Stray</td>\n",
       "      <td>Normal</td>\n",
       "      <td>Intact Male</td>\n",
       "      <td>2 years</td>\n",
       "      <td>NaN</td>\n",
       "      <td>02/04/2017 02:17:00 PM</td>\n",
       "      <td>02/04/2017 02:17:00 PM</td>\n",
       "      <td>01/31/2015</td>\n",
       "      <td>Transfer</td>\n",
       "      <td>Partner</td>\n",
       "      <td>Dog</td>\n",
       "      <td>Intact Male</td>\n",
       "      <td>2 years</td>\n",
       "      <td>Saluki</td>\n",
       "      <td>Sable/Cream</td>\n",
       "    </tr>\n",
       "    <tr>\n",
       "      <th>4</th>\n",
       "      <td>A679549</td>\n",
       "      <td>05/22/2014 03:43:00 PM</td>\n",
       "      <td>05/22/2014 03:43:00 PM</td>\n",
       "      <td>124 W Anderson in Austin (TX)</td>\n",
       "      <td>Stray</td>\n",
       "      <td>Normal</td>\n",
       "      <td>Intact Male</td>\n",
       "      <td>1 month</td>\n",
       "      <td>*Gilbert</td>\n",
       "      <td>06/16/2014 01:54:00 PM</td>\n",
       "      <td>06/16/2014 01:54:00 PM</td>\n",
       "      <td>03/31/2014</td>\n",
       "      <td>Transfer</td>\n",
       "      <td>Partner</td>\n",
       "      <td>Cat</td>\n",
       "      <td>Neutered Male</td>\n",
       "      <td>2 months</td>\n",
       "      <td>Domestic Shorthair Mix</td>\n",
       "      <td>Black/White</td>\n",
       "    </tr>\n",
       "    <tr>\n",
       "      <th>5</th>\n",
       "      <td>A683798</td>\n",
       "      <td>07/21/2016 12:16:00 PM</td>\n",
       "      <td>07/21/2016 12:16:00 PM</td>\n",
       "      <td>3118 Windsor Rd in Austin (TX)</td>\n",
       "      <td>Stray</td>\n",
       "      <td>Normal</td>\n",
       "      <td>Spayed Female</td>\n",
       "      <td>3 years</td>\n",
       "      <td>Mustachala</td>\n",
       "      <td>10/18/2016 10:55:00 AM</td>\n",
       "      <td>10/18/2016 10:55:00 AM</td>\n",
       "      <td>01/15/2013</td>\n",
       "      <td>Adoption</td>\n",
       "      <td>Foster</td>\n",
       "      <td>Cat</td>\n",
       "      <td>Spayed Female</td>\n",
       "      <td>3 years</td>\n",
       "      <td>Domestic Medium Hair Mix</td>\n",
       "      <td>White/Black</td>\n",
       "    </tr>\n",
       "    <tr>\n",
       "      <th>6</th>\n",
       "      <td>A683656</td>\n",
       "      <td>07/13/2014 01:20:00 PM</td>\n",
       "      <td>07/13/2014 01:20:00 PM</td>\n",
       "      <td>8238 Research Blvd in Austin (TX)</td>\n",
       "      <td>Stray</td>\n",
       "      <td>Normal</td>\n",
       "      <td>Intact Male</td>\n",
       "      <td>2 months</td>\n",
       "      <td>NaN</td>\n",
       "      <td>07/17/2014 04:57:00 PM</td>\n",
       "      <td>07/17/2014 04:57:00 PM</td>\n",
       "      <td>04/13/2014</td>\n",
       "      <td>Adoption</td>\n",
       "      <td>NaN</td>\n",
       "      <td>Cat</td>\n",
       "      <td>Neutered Male</td>\n",
       "      <td>3 months</td>\n",
       "      <td>Snowshoe Mix</td>\n",
       "      <td>Lynx Point</td>\n",
       "    </tr>\n",
       "    <tr>\n",
       "      <th>7</th>\n",
       "      <td>A709749</td>\n",
       "      <td>08/12/2015 06:29:00 PM</td>\n",
       "      <td>08/12/2015 06:29:00 PM</td>\n",
       "      <td>4800 Weletka Dr in Austin (TX)</td>\n",
       "      <td>Stray</td>\n",
       "      <td>Normal</td>\n",
       "      <td>Intact Female</td>\n",
       "      <td>1 year</td>\n",
       "      <td>*Janeane</td>\n",
       "      <td>09/22/2015 12:49:00 PM</td>\n",
       "      <td>09/22/2015 12:49:00 PM</td>\n",
       "      <td>08/12/2014</td>\n",
       "      <td>Transfer</td>\n",
       "      <td>Partner</td>\n",
       "      <td>Cat</td>\n",
       "      <td>Spayed Female</td>\n",
       "      <td>1 year</td>\n",
       "      <td>Domestic Shorthair Mix</td>\n",
       "      <td>Calico</td>\n",
       "    </tr>\n",
       "    <tr>\n",
       "      <th>8</th>\n",
       "      <td>A692161</td>\n",
       "      <td>11/15/2014 03:18:00 PM</td>\n",
       "      <td>11/15/2014 03:18:00 PM</td>\n",
       "      <td>Avenue G/42Nd in Austin (TX)</td>\n",
       "      <td>Owner Surrender</td>\n",
       "      <td>Normal</td>\n",
       "      <td>Intact Male</td>\n",
       "      <td>5 months</td>\n",
       "      <td>George</td>\n",
       "      <td>11/21/2014 06:55:00 PM</td>\n",
       "      <td>11/21/2014 06:55:00 PM</td>\n",
       "      <td>06/15/2014</td>\n",
       "      <td>Adoption</td>\n",
       "      <td>NaN</td>\n",
       "      <td>Dog</td>\n",
       "      <td>Neutered Male</td>\n",
       "      <td>5 months</td>\n",
       "      <td>Pit Bull Mix</td>\n",
       "      <td>Brown/White</td>\n",
       "    </tr>\n",
       "    <tr>\n",
       "      <th>9</th>\n",
       "      <td>A733551</td>\n",
       "      <td>08/23/2016 02:35:00 PM</td>\n",
       "      <td>08/23/2016 02:35:00 PM</td>\n",
       "      <td>183 And Cameron in Austin (TX)</td>\n",
       "      <td>Stray</td>\n",
       "      <td>Normal</td>\n",
       "      <td>Intact Male</td>\n",
       "      <td>1 month</td>\n",
       "      <td>*Phillip</td>\n",
       "      <td>09/01/2016 12:00:00 AM</td>\n",
       "      <td>09/01/2016 12:00:00 AM</td>\n",
       "      <td>06/23/2016</td>\n",
       "      <td>Transfer</td>\n",
       "      <td>Partner</td>\n",
       "      <td>Cat</td>\n",
       "      <td>Intact Male</td>\n",
       "      <td>2 months</td>\n",
       "      <td>Domestic Shorthair Mix</td>\n",
       "      <td>Brown Tabby/White</td>\n",
       "    </tr>\n",
       "  </tbody>\n",
       "</table>\n",
       "</div>"
      ],
      "text/plain": [
       "        ID         DateTime_intake        MonthYear_intake  \\\n",
       "0  A730601  07/07/2016 12:11:00 PM  07/07/2016 12:11:00 PM   \n",
       "1  A683644  07/13/2014 11:02:00 AM  07/13/2014 11:02:00 AM   \n",
       "2  A676515  04/11/2014 08:45:00 AM  04/11/2014 08:45:00 AM   \n",
       "3  A742953  01/31/2017 01:30:00 PM  01/31/2017 01:30:00 PM   \n",
       "4  A679549  05/22/2014 03:43:00 PM  05/22/2014 03:43:00 PM   \n",
       "5  A683798  07/21/2016 12:16:00 PM  07/21/2016 12:16:00 PM   \n",
       "6  A683656  07/13/2014 01:20:00 PM  07/13/2014 01:20:00 PM   \n",
       "7  A709749  08/12/2015 06:29:00 PM  08/12/2015 06:29:00 PM   \n",
       "8  A692161  11/15/2014 03:18:00 PM  11/15/2014 03:18:00 PM   \n",
       "9  A733551  08/23/2016 02:35:00 PM  08/23/2016 02:35:00 PM   \n",
       "\n",
       "                               Found_Location      Intake_Type  \\\n",
       "0                1109 Shady Ln in Austin (TX)            Stray   \n",
       "1                                 Austin (TX)  Owner Surrender   \n",
       "2               615 E. Wonsley in Austin (TX)            Stray   \n",
       "3  S Hwy 183 And Thompson Lane in Austin (TX)            Stray   \n",
       "4               124 W Anderson in Austin (TX)            Stray   \n",
       "5              3118 Windsor Rd in Austin (TX)            Stray   \n",
       "6           8238 Research Blvd in Austin (TX)            Stray   \n",
       "7              4800 Weletka Dr in Austin (TX)            Stray   \n",
       "8                Avenue G/42Nd in Austin (TX)  Owner Surrender   \n",
       "9              183 And Cameron in Austin (TX)            Stray   \n",
       "\n",
       "  Intake_Condition     Sex_Intake Age_Intake Name_outcome  \\\n",
       "0           Normal    Intact Male   7 months          NaN   \n",
       "1          Nursing  Intact Female    4 weeks        *Zoey   \n",
       "2           Normal    Intact Male   2 months         Rico   \n",
       "3           Normal    Intact Male    2 years          NaN   \n",
       "4           Normal    Intact Male    1 month     *Gilbert   \n",
       "5           Normal  Spayed Female    3 years   Mustachala   \n",
       "6           Normal    Intact Male   2 months          NaN   \n",
       "7           Normal  Intact Female     1 year     *Janeane   \n",
       "8           Normal    Intact Male   5 months       George   \n",
       "9           Normal    Intact Male    1 month     *Phillip   \n",
       "\n",
       "         DateTime_outcome       MonthYear_outcome  Birth_Date  \\\n",
       "0  07/08/2016 09:00:00 AM  07/08/2016 09:00:00 AM  12/07/2015   \n",
       "1  11/06/2014 10:06:00 AM  11/06/2014 10:06:00 AM  06/13/2014   \n",
       "2  04/14/2014 06:38:00 PM  04/14/2014 06:38:00 PM  01/11/2014   \n",
       "3  02/04/2017 02:17:00 PM  02/04/2017 02:17:00 PM  01/31/2015   \n",
       "4  06/16/2014 01:54:00 PM  06/16/2014 01:54:00 PM  03/31/2014   \n",
       "5  10/18/2016 10:55:00 AM  10/18/2016 10:55:00 AM  01/15/2013   \n",
       "6  07/17/2014 04:57:00 PM  07/17/2014 04:57:00 PM  04/13/2014   \n",
       "7  09/22/2015 12:49:00 PM  09/22/2015 12:49:00 PM  08/12/2014   \n",
       "8  11/21/2014 06:55:00 PM  11/21/2014 06:55:00 PM  06/15/2014   \n",
       "9  09/01/2016 12:00:00 AM  09/01/2016 12:00:00 AM  06/23/2016   \n",
       "\n",
       "           Outcome Outcome_Subtype Animal_Type_outcome    Sex_Outcome  \\\n",
       "0         Transfer            SCRP                 Cat  Neutered Male   \n",
       "1         Adoption          Foster                 Dog  Spayed Female   \n",
       "2  Return to Owner             NaN                 Dog  Neutered Male   \n",
       "3         Transfer         Partner                 Dog    Intact Male   \n",
       "4         Transfer         Partner                 Cat  Neutered Male   \n",
       "5         Adoption          Foster                 Cat  Spayed Female   \n",
       "6         Adoption             NaN                 Cat  Neutered Male   \n",
       "7         Transfer         Partner                 Cat  Spayed Female   \n",
       "8         Adoption             NaN                 Dog  Neutered Male   \n",
       "9         Transfer         Partner                 Cat    Intact Male   \n",
       "\n",
       "  Outcome_Age             Breed_outcome      Color_outcome  \n",
       "0    7 months    Domestic Shorthair Mix         Blue Tabby  \n",
       "1    4 months         Border Collie Mix        Brown/White  \n",
       "2    3 months              Pit Bull Mix        White/Brown  \n",
       "3     2 years                    Saluki        Sable/Cream  \n",
       "4    2 months    Domestic Shorthair Mix        Black/White  \n",
       "5     3 years  Domestic Medium Hair Mix        White/Black  \n",
       "6    3 months              Snowshoe Mix         Lynx Point  \n",
       "7      1 year    Domestic Shorthair Mix             Calico  \n",
       "8    5 months              Pit Bull Mix        Brown/White  \n",
       "9    2 months    Domestic Shorthair Mix  Brown Tabby/White  "
      ]
     },
     "execution_count": 71,
     "metadata": {},
     "output_type": "execute_result"
    }
   ],
   "source": [
    "df.head(10)"
   ]
  },
  {
   "cell_type": "markdown",
   "metadata": {},
   "source": [
    "### Determine duration in shelter"
   ]
  },
  {
   "cell_type": "markdown",
   "metadata": {},
   "source": [
    "Let's put the date time column in our data set into python format so we can calculate the duration that an animal spends in the shelter from intake to outcome"
   ]
  },
  {
   "cell_type": "code",
   "execution_count": 72,
   "metadata": {
    "collapsed": false
   },
   "outputs": [],
   "source": [
    "intake_dates = [df.DateTime_intake[i].split()[0] for i in range(len(df.DateTime_intake))]\n",
    "intake_date = [datetime.strptime(d,'%m/%d/%Y') for d in intake_dates]\n",
    "\n",
    "outcome_dates = [df.DateTime_outcome[i].split()[0] for i in range(len(df.DateTime_outcome))]\n",
    "outcome_date = [datetime.strptime(d,'%m/%d/%Y') for d in outcome_dates]"
   ]
  },
  {
   "cell_type": "code",
   "execution_count": 73,
   "metadata": {
    "collapsed": false
   },
   "outputs": [],
   "source": [
    "days_in = [abs(intake_date[i] - outcome_date[i]).days for i in range(len(intake_date))]"
   ]
  },
  {
   "cell_type": "code",
   "execution_count": 74,
   "metadata": {
    "collapsed": true
   },
   "outputs": [],
   "source": [
    "df['Days_In'] = days_in"
   ]
  },
  {
   "cell_type": "markdown",
   "metadata": {},
   "source": [
    "### Convert age\n",
    "The age column contains different units (years, months, weeks) so we will convert the age in terms of years old. "
   ]
  },
  {
   "cell_type": "code",
   "execution_count": 75,
   "metadata": {
    "collapsed": true
   },
   "outputs": [],
   "source": [
    "def convert_age(ages):\n",
    "    Ages = ages.astype(str)\n",
    "    y = np.asarray([float(age.split()[0]) if 'year' in age\n",
    "     else float(age.split()[0])/52. if 'week' in age\n",
    "     else float(age.split()[0])/12. if 'month' in age\n",
    "     else float(age.split()[0])/352. if 'week' in age\n",
    "     else -99.0\n",
    "     for age in Ages])\n",
    "    y[y == -99] = np.mean(y[y != -99])\n",
    "    return y"
   ]
  },
  {
   "cell_type": "code",
   "execution_count": 76,
   "metadata": {
    "collapsed": true
   },
   "outputs": [],
   "source": [
    "df['Age_Intake'] = convert_age(df.Age_Intake)"
   ]
  },
  {
   "cell_type": "code",
   "execution_count": 77,
   "metadata": {
    "collapsed": false
   },
   "outputs": [],
   "source": [
    "df['Outcome_Age'] = convert_age(df.Outcome_Age)"
   ]
  },
  {
   "cell_type": "code",
   "execution_count": 78,
   "metadata": {
    "collapsed": false
   },
   "outputs": [
    {
     "data": {
      "text/html": [
       "<div>\n",
       "<table border=\"1\" class=\"dataframe\">\n",
       "  <thead>\n",
       "    <tr style=\"text-align: right;\">\n",
       "      <th></th>\n",
       "      <th>ID</th>\n",
       "      <th>DateTime_intake</th>\n",
       "      <th>MonthYear_intake</th>\n",
       "      <th>Found_Location</th>\n",
       "      <th>Intake_Type</th>\n",
       "      <th>Intake_Condition</th>\n",
       "      <th>Sex_Intake</th>\n",
       "      <th>Age_Intake</th>\n",
       "      <th>Name_outcome</th>\n",
       "      <th>DateTime_outcome</th>\n",
       "      <th>MonthYear_outcome</th>\n",
       "      <th>Birth_Date</th>\n",
       "      <th>Outcome</th>\n",
       "      <th>Outcome_Subtype</th>\n",
       "      <th>Animal_Type_outcome</th>\n",
       "      <th>Sex_Outcome</th>\n",
       "      <th>Outcome_Age</th>\n",
       "      <th>Breed_outcome</th>\n",
       "      <th>Color_outcome</th>\n",
       "      <th>Days_In</th>\n",
       "    </tr>\n",
       "  </thead>\n",
       "  <tbody>\n",
       "    <tr>\n",
       "      <th>0</th>\n",
       "      <td>A730601</td>\n",
       "      <td>07/07/2016 12:11:00 PM</td>\n",
       "      <td>07/07/2016 12:11:00 PM</td>\n",
       "      <td>1109 Shady Ln in Austin (TX)</td>\n",
       "      <td>Stray</td>\n",
       "      <td>Normal</td>\n",
       "      <td>Intact Male</td>\n",
       "      <td>0.583333</td>\n",
       "      <td>NaN</td>\n",
       "      <td>07/08/2016 09:00:00 AM</td>\n",
       "      <td>07/08/2016 09:00:00 AM</td>\n",
       "      <td>12/07/2015</td>\n",
       "      <td>Transfer</td>\n",
       "      <td>SCRP</td>\n",
       "      <td>Cat</td>\n",
       "      <td>Neutered Male</td>\n",
       "      <td>0.583333</td>\n",
       "      <td>Domestic Shorthair Mix</td>\n",
       "      <td>Blue Tabby</td>\n",
       "      <td>1</td>\n",
       "    </tr>\n",
       "    <tr>\n",
       "      <th>1</th>\n",
       "      <td>A683644</td>\n",
       "      <td>07/13/2014 11:02:00 AM</td>\n",
       "      <td>07/13/2014 11:02:00 AM</td>\n",
       "      <td>Austin (TX)</td>\n",
       "      <td>Owner Surrender</td>\n",
       "      <td>Nursing</td>\n",
       "      <td>Intact Female</td>\n",
       "      <td>0.076923</td>\n",
       "      <td>*Zoey</td>\n",
       "      <td>11/06/2014 10:06:00 AM</td>\n",
       "      <td>11/06/2014 10:06:00 AM</td>\n",
       "      <td>06/13/2014</td>\n",
       "      <td>Adoption</td>\n",
       "      <td>Foster</td>\n",
       "      <td>Dog</td>\n",
       "      <td>Spayed Female</td>\n",
       "      <td>0.333333</td>\n",
       "      <td>Border Collie Mix</td>\n",
       "      <td>Brown/White</td>\n",
       "      <td>116</td>\n",
       "    </tr>\n",
       "    <tr>\n",
       "      <th>2</th>\n",
       "      <td>A676515</td>\n",
       "      <td>04/11/2014 08:45:00 AM</td>\n",
       "      <td>04/11/2014 08:45:00 AM</td>\n",
       "      <td>615 E. Wonsley in Austin (TX)</td>\n",
       "      <td>Stray</td>\n",
       "      <td>Normal</td>\n",
       "      <td>Intact Male</td>\n",
       "      <td>0.166667</td>\n",
       "      <td>Rico</td>\n",
       "      <td>04/14/2014 06:38:00 PM</td>\n",
       "      <td>04/14/2014 06:38:00 PM</td>\n",
       "      <td>01/11/2014</td>\n",
       "      <td>Return to Owner</td>\n",
       "      <td>NaN</td>\n",
       "      <td>Dog</td>\n",
       "      <td>Neutered Male</td>\n",
       "      <td>0.250000</td>\n",
       "      <td>Pit Bull Mix</td>\n",
       "      <td>White/Brown</td>\n",
       "      <td>3</td>\n",
       "    </tr>\n",
       "    <tr>\n",
       "      <th>3</th>\n",
       "      <td>A742953</td>\n",
       "      <td>01/31/2017 01:30:00 PM</td>\n",
       "      <td>01/31/2017 01:30:00 PM</td>\n",
       "      <td>S Hwy 183 And Thompson Lane in Austin (TX)</td>\n",
       "      <td>Stray</td>\n",
       "      <td>Normal</td>\n",
       "      <td>Intact Male</td>\n",
       "      <td>2.000000</td>\n",
       "      <td>NaN</td>\n",
       "      <td>02/04/2017 02:17:00 PM</td>\n",
       "      <td>02/04/2017 02:17:00 PM</td>\n",
       "      <td>01/31/2015</td>\n",
       "      <td>Transfer</td>\n",
       "      <td>Partner</td>\n",
       "      <td>Dog</td>\n",
       "      <td>Intact Male</td>\n",
       "      <td>2.000000</td>\n",
       "      <td>Saluki</td>\n",
       "      <td>Sable/Cream</td>\n",
       "      <td>4</td>\n",
       "    </tr>\n",
       "    <tr>\n",
       "      <th>4</th>\n",
       "      <td>A679549</td>\n",
       "      <td>05/22/2014 03:43:00 PM</td>\n",
       "      <td>05/22/2014 03:43:00 PM</td>\n",
       "      <td>124 W Anderson in Austin (TX)</td>\n",
       "      <td>Stray</td>\n",
       "      <td>Normal</td>\n",
       "      <td>Intact Male</td>\n",
       "      <td>0.083333</td>\n",
       "      <td>*Gilbert</td>\n",
       "      <td>06/16/2014 01:54:00 PM</td>\n",
       "      <td>06/16/2014 01:54:00 PM</td>\n",
       "      <td>03/31/2014</td>\n",
       "      <td>Transfer</td>\n",
       "      <td>Partner</td>\n",
       "      <td>Cat</td>\n",
       "      <td>Neutered Male</td>\n",
       "      <td>0.166667</td>\n",
       "      <td>Domestic Shorthair Mix</td>\n",
       "      <td>Black/White</td>\n",
       "      <td>25</td>\n",
       "    </tr>\n",
       "  </tbody>\n",
       "</table>\n",
       "</div>"
      ],
      "text/plain": [
       "        ID         DateTime_intake        MonthYear_intake  \\\n",
       "0  A730601  07/07/2016 12:11:00 PM  07/07/2016 12:11:00 PM   \n",
       "1  A683644  07/13/2014 11:02:00 AM  07/13/2014 11:02:00 AM   \n",
       "2  A676515  04/11/2014 08:45:00 AM  04/11/2014 08:45:00 AM   \n",
       "3  A742953  01/31/2017 01:30:00 PM  01/31/2017 01:30:00 PM   \n",
       "4  A679549  05/22/2014 03:43:00 PM  05/22/2014 03:43:00 PM   \n",
       "\n",
       "                               Found_Location      Intake_Type  \\\n",
       "0                1109 Shady Ln in Austin (TX)            Stray   \n",
       "1                                 Austin (TX)  Owner Surrender   \n",
       "2               615 E. Wonsley in Austin (TX)            Stray   \n",
       "3  S Hwy 183 And Thompson Lane in Austin (TX)            Stray   \n",
       "4               124 W Anderson in Austin (TX)            Stray   \n",
       "\n",
       "  Intake_Condition     Sex_Intake  Age_Intake Name_outcome  \\\n",
       "0           Normal    Intact Male    0.583333          NaN   \n",
       "1          Nursing  Intact Female    0.076923        *Zoey   \n",
       "2           Normal    Intact Male    0.166667         Rico   \n",
       "3           Normal    Intact Male    2.000000          NaN   \n",
       "4           Normal    Intact Male    0.083333     *Gilbert   \n",
       "\n",
       "         DateTime_outcome       MonthYear_outcome  Birth_Date  \\\n",
       "0  07/08/2016 09:00:00 AM  07/08/2016 09:00:00 AM  12/07/2015   \n",
       "1  11/06/2014 10:06:00 AM  11/06/2014 10:06:00 AM  06/13/2014   \n",
       "2  04/14/2014 06:38:00 PM  04/14/2014 06:38:00 PM  01/11/2014   \n",
       "3  02/04/2017 02:17:00 PM  02/04/2017 02:17:00 PM  01/31/2015   \n",
       "4  06/16/2014 01:54:00 PM  06/16/2014 01:54:00 PM  03/31/2014   \n",
       "\n",
       "           Outcome Outcome_Subtype Animal_Type_outcome    Sex_Outcome  \\\n",
       "0         Transfer            SCRP                 Cat  Neutered Male   \n",
       "1         Adoption          Foster                 Dog  Spayed Female   \n",
       "2  Return to Owner             NaN                 Dog  Neutered Male   \n",
       "3         Transfer         Partner                 Dog    Intact Male   \n",
       "4         Transfer         Partner                 Cat  Neutered Male   \n",
       "\n",
       "   Outcome_Age           Breed_outcome Color_outcome  Days_In  \n",
       "0     0.583333  Domestic Shorthair Mix    Blue Tabby        1  \n",
       "1     0.333333       Border Collie Mix   Brown/White      116  \n",
       "2     0.250000            Pit Bull Mix   White/Brown        3  \n",
       "3     2.000000                  Saluki   Sable/Cream        4  \n",
       "4     0.166667  Domestic Shorthair Mix   Black/White       25  "
      ]
     },
     "execution_count": 78,
     "metadata": {},
     "output_type": "execute_result"
    }
   ],
   "source": [
    "df.head()"
   ]
  },
  {
   "cell_type": "markdown",
   "metadata": {},
   "source": [
    "### Convert Sex and Fixed Status"
   ]
  },
  {
   "cell_type": "markdown",
   "metadata": {},
   "source": [
    "The sex and fixed status of an animal is in one column (Sex_Intake) so let's break this column up to a gender columnm, and a fixed status column."
   ]
  },
  {
   "cell_type": "code",
   "execution_count": 79,
   "metadata": {
    "collapsed": false
   },
   "outputs": [
    {
     "data": {
      "text/plain": [
       "array(['Intact Male', 'Intact Female', 'Spayed Female', 'Neutered Male',\n",
       "       'Unknown', nan], dtype=object)"
      ]
     },
     "execution_count": 79,
     "metadata": {},
     "output_type": "execute_result"
    }
   ],
   "source": [
    "df['Sex_Intake'].unique()"
   ]
  },
  {
   "cell_type": "code",
   "execution_count": 80,
   "metadata": {
    "collapsed": false
   },
   "outputs": [
    {
     "data": {
      "text/plain": [
       "array(['Intact Male', 'Intact Female', 'Spayed Female', 'Neutered Male',\n",
       "       'Unknown'], dtype=object)"
      ]
     },
     "execution_count": 80,
     "metadata": {},
     "output_type": "execute_result"
    }
   ],
   "source": [
    "df['Sex_Intake'] = df['Sex_Intake'].replace(np.nan,'Unknown')\n",
    "df['Sex_Intake'].unique()"
   ]
  },
  {
   "cell_type": "code",
   "execution_count": 81,
   "metadata": {
    "collapsed": false
   },
   "outputs": [],
   "source": [
    "def convert_sex(sex):\n",
    "    n = len(sex)\n",
    "    gender = ['male' if 'Male' in str(sex[i]) \n",
    "           else 'female' if 'Female' in str(sex[i] )\n",
    "           else 'unknown'\n",
    "           for i in range(n)]\n",
    "\n",
    "    spayed_neutered = ['fixed' if any(x in str(sex[i]) for x in ['Neutered','Spayed'])\n",
    "                        else 'not_fixed' if 'Intact' in str(sex[i])\n",
    "                        else 'unknown_fixed'\n",
    "                        for i in range(n)]\n",
    "    return gender, spayed_neutered"
   ]
  },
  {
   "cell_type": "code",
   "execution_count": 82,
   "metadata": {
    "collapsed": false
   },
   "outputs": [],
   "source": [
    "df['Sex'], df['Fixed'] = convert_sex(df['Sex_Outcome'])"
   ]
  },
  {
   "cell_type": "code",
   "execution_count": 83,
   "metadata": {
    "collapsed": false
   },
   "outputs": [
    {
     "data": {
      "text/html": [
       "<div>\n",
       "<table border=\"1\" class=\"dataframe\">\n",
       "  <thead>\n",
       "    <tr style=\"text-align: right;\">\n",
       "      <th></th>\n",
       "      <th>ID</th>\n",
       "      <th>DateTime_intake</th>\n",
       "      <th>MonthYear_intake</th>\n",
       "      <th>Found_Location</th>\n",
       "      <th>Intake_Type</th>\n",
       "      <th>Intake_Condition</th>\n",
       "      <th>Sex_Intake</th>\n",
       "      <th>Age_Intake</th>\n",
       "      <th>Name_outcome</th>\n",
       "      <th>DateTime_outcome</th>\n",
       "      <th>MonthYear_outcome</th>\n",
       "      <th>Birth_Date</th>\n",
       "      <th>Outcome</th>\n",
       "      <th>Outcome_Subtype</th>\n",
       "      <th>Animal_Type_outcome</th>\n",
       "      <th>Sex_Outcome</th>\n",
       "      <th>Outcome_Age</th>\n",
       "      <th>Breed_outcome</th>\n",
       "      <th>Color_outcome</th>\n",
       "      <th>Days_In</th>\n",
       "      <th>Sex</th>\n",
       "      <th>Fixed</th>\n",
       "    </tr>\n",
       "  </thead>\n",
       "  <tbody>\n",
       "    <tr>\n",
       "      <th>0</th>\n",
       "      <td>A730601</td>\n",
       "      <td>07/07/2016 12:11:00 PM</td>\n",
       "      <td>07/07/2016 12:11:00 PM</td>\n",
       "      <td>1109 Shady Ln in Austin (TX)</td>\n",
       "      <td>Stray</td>\n",
       "      <td>Normal</td>\n",
       "      <td>Intact Male</td>\n",
       "      <td>0.583333</td>\n",
       "      <td>NaN</td>\n",
       "      <td>07/08/2016 09:00:00 AM</td>\n",
       "      <td>07/08/2016 09:00:00 AM</td>\n",
       "      <td>12/07/2015</td>\n",
       "      <td>Transfer</td>\n",
       "      <td>SCRP</td>\n",
       "      <td>Cat</td>\n",
       "      <td>Neutered Male</td>\n",
       "      <td>0.583333</td>\n",
       "      <td>Domestic Shorthair Mix</td>\n",
       "      <td>Blue Tabby</td>\n",
       "      <td>1</td>\n",
       "      <td>male</td>\n",
       "      <td>fixed</td>\n",
       "    </tr>\n",
       "    <tr>\n",
       "      <th>1</th>\n",
       "      <td>A683644</td>\n",
       "      <td>07/13/2014 11:02:00 AM</td>\n",
       "      <td>07/13/2014 11:02:00 AM</td>\n",
       "      <td>Austin (TX)</td>\n",
       "      <td>Owner Surrender</td>\n",
       "      <td>Nursing</td>\n",
       "      <td>Intact Female</td>\n",
       "      <td>0.076923</td>\n",
       "      <td>*Zoey</td>\n",
       "      <td>11/06/2014 10:06:00 AM</td>\n",
       "      <td>11/06/2014 10:06:00 AM</td>\n",
       "      <td>06/13/2014</td>\n",
       "      <td>Adoption</td>\n",
       "      <td>Foster</td>\n",
       "      <td>Dog</td>\n",
       "      <td>Spayed Female</td>\n",
       "      <td>0.333333</td>\n",
       "      <td>Border Collie Mix</td>\n",
       "      <td>Brown/White</td>\n",
       "      <td>116</td>\n",
       "      <td>female</td>\n",
       "      <td>fixed</td>\n",
       "    </tr>\n",
       "    <tr>\n",
       "      <th>2</th>\n",
       "      <td>A676515</td>\n",
       "      <td>04/11/2014 08:45:00 AM</td>\n",
       "      <td>04/11/2014 08:45:00 AM</td>\n",
       "      <td>615 E. Wonsley in Austin (TX)</td>\n",
       "      <td>Stray</td>\n",
       "      <td>Normal</td>\n",
       "      <td>Intact Male</td>\n",
       "      <td>0.166667</td>\n",
       "      <td>Rico</td>\n",
       "      <td>04/14/2014 06:38:00 PM</td>\n",
       "      <td>04/14/2014 06:38:00 PM</td>\n",
       "      <td>01/11/2014</td>\n",
       "      <td>Return to Owner</td>\n",
       "      <td>NaN</td>\n",
       "      <td>Dog</td>\n",
       "      <td>Neutered Male</td>\n",
       "      <td>0.250000</td>\n",
       "      <td>Pit Bull Mix</td>\n",
       "      <td>White/Brown</td>\n",
       "      <td>3</td>\n",
       "      <td>male</td>\n",
       "      <td>fixed</td>\n",
       "    </tr>\n",
       "    <tr>\n",
       "      <th>3</th>\n",
       "      <td>A742953</td>\n",
       "      <td>01/31/2017 01:30:00 PM</td>\n",
       "      <td>01/31/2017 01:30:00 PM</td>\n",
       "      <td>S Hwy 183 And Thompson Lane in Austin (TX)</td>\n",
       "      <td>Stray</td>\n",
       "      <td>Normal</td>\n",
       "      <td>Intact Male</td>\n",
       "      <td>2.000000</td>\n",
       "      <td>NaN</td>\n",
       "      <td>02/04/2017 02:17:00 PM</td>\n",
       "      <td>02/04/2017 02:17:00 PM</td>\n",
       "      <td>01/31/2015</td>\n",
       "      <td>Transfer</td>\n",
       "      <td>Partner</td>\n",
       "      <td>Dog</td>\n",
       "      <td>Intact Male</td>\n",
       "      <td>2.000000</td>\n",
       "      <td>Saluki</td>\n",
       "      <td>Sable/Cream</td>\n",
       "      <td>4</td>\n",
       "      <td>male</td>\n",
       "      <td>not_fixed</td>\n",
       "    </tr>\n",
       "    <tr>\n",
       "      <th>4</th>\n",
       "      <td>A679549</td>\n",
       "      <td>05/22/2014 03:43:00 PM</td>\n",
       "      <td>05/22/2014 03:43:00 PM</td>\n",
       "      <td>124 W Anderson in Austin (TX)</td>\n",
       "      <td>Stray</td>\n",
       "      <td>Normal</td>\n",
       "      <td>Intact Male</td>\n",
       "      <td>0.083333</td>\n",
       "      <td>*Gilbert</td>\n",
       "      <td>06/16/2014 01:54:00 PM</td>\n",
       "      <td>06/16/2014 01:54:00 PM</td>\n",
       "      <td>03/31/2014</td>\n",
       "      <td>Transfer</td>\n",
       "      <td>Partner</td>\n",
       "      <td>Cat</td>\n",
       "      <td>Neutered Male</td>\n",
       "      <td>0.166667</td>\n",
       "      <td>Domestic Shorthair Mix</td>\n",
       "      <td>Black/White</td>\n",
       "      <td>25</td>\n",
       "      <td>male</td>\n",
       "      <td>fixed</td>\n",
       "    </tr>\n",
       "  </tbody>\n",
       "</table>\n",
       "</div>"
      ],
      "text/plain": [
       "        ID         DateTime_intake        MonthYear_intake  \\\n",
       "0  A730601  07/07/2016 12:11:00 PM  07/07/2016 12:11:00 PM   \n",
       "1  A683644  07/13/2014 11:02:00 AM  07/13/2014 11:02:00 AM   \n",
       "2  A676515  04/11/2014 08:45:00 AM  04/11/2014 08:45:00 AM   \n",
       "3  A742953  01/31/2017 01:30:00 PM  01/31/2017 01:30:00 PM   \n",
       "4  A679549  05/22/2014 03:43:00 PM  05/22/2014 03:43:00 PM   \n",
       "\n",
       "                               Found_Location      Intake_Type  \\\n",
       "0                1109 Shady Ln in Austin (TX)            Stray   \n",
       "1                                 Austin (TX)  Owner Surrender   \n",
       "2               615 E. Wonsley in Austin (TX)            Stray   \n",
       "3  S Hwy 183 And Thompson Lane in Austin (TX)            Stray   \n",
       "4               124 W Anderson in Austin (TX)            Stray   \n",
       "\n",
       "  Intake_Condition     Sex_Intake  Age_Intake Name_outcome  \\\n",
       "0           Normal    Intact Male    0.583333          NaN   \n",
       "1          Nursing  Intact Female    0.076923        *Zoey   \n",
       "2           Normal    Intact Male    0.166667         Rico   \n",
       "3           Normal    Intact Male    2.000000          NaN   \n",
       "4           Normal    Intact Male    0.083333     *Gilbert   \n",
       "\n",
       "         DateTime_outcome       MonthYear_outcome  Birth_Date  \\\n",
       "0  07/08/2016 09:00:00 AM  07/08/2016 09:00:00 AM  12/07/2015   \n",
       "1  11/06/2014 10:06:00 AM  11/06/2014 10:06:00 AM  06/13/2014   \n",
       "2  04/14/2014 06:38:00 PM  04/14/2014 06:38:00 PM  01/11/2014   \n",
       "3  02/04/2017 02:17:00 PM  02/04/2017 02:17:00 PM  01/31/2015   \n",
       "4  06/16/2014 01:54:00 PM  06/16/2014 01:54:00 PM  03/31/2014   \n",
       "\n",
       "           Outcome Outcome_Subtype Animal_Type_outcome    Sex_Outcome  \\\n",
       "0         Transfer            SCRP                 Cat  Neutered Male   \n",
       "1         Adoption          Foster                 Dog  Spayed Female   \n",
       "2  Return to Owner             NaN                 Dog  Neutered Male   \n",
       "3         Transfer         Partner                 Dog    Intact Male   \n",
       "4         Transfer         Partner                 Cat  Neutered Male   \n",
       "\n",
       "   Outcome_Age           Breed_outcome Color_outcome  Days_In     Sex  \\\n",
       "0     0.583333  Domestic Shorthair Mix    Blue Tabby        1    male   \n",
       "1     0.333333       Border Collie Mix   Brown/White      116  female   \n",
       "2     0.250000            Pit Bull Mix   White/Brown        3    male   \n",
       "3     2.000000                  Saluki   Sable/Cream        4    male   \n",
       "4     0.166667  Domestic Shorthair Mix   Black/White       25    male   \n",
       "\n",
       "       Fixed  \n",
       "0      fixed  \n",
       "1      fixed  \n",
       "2      fixed  \n",
       "3  not_fixed  \n",
       "4      fixed  "
      ]
     },
     "execution_count": 83,
     "metadata": {},
     "output_type": "execute_result"
    }
   ],
   "source": [
    "df.head()"
   ]
  },
  {
   "cell_type": "markdown",
   "metadata": {},
   "source": [
    "### Simplify breed and color features"
   ]
  },
  {
   "cell_type": "markdown",
   "metadata": {},
   "source": [
    "There are 1747 differerent classifications of dog breeds in our set. Some classifications are redundant so let's simplify the column. We will remove the word 'Mix' in the breed and take the dominant breed. There are only 72 different classifications of breeds for cats so we will leave that cats alone.  "
   ]
  },
  {
   "cell_type": "code",
   "execution_count": 84,
   "metadata": {
    "collapsed": false
   },
   "outputs": [
    {
     "data": {
      "text/plain": [
       "1747"
      ]
     },
     "execution_count": 84,
     "metadata": {},
     "output_type": "execute_result"
    }
   ],
   "source": [
    "len(df[df.Animal_Type_outcome == 'Dog' ].Breed_outcome.unique())"
   ]
  },
  {
   "cell_type": "code",
   "execution_count": 85,
   "metadata": {
    "collapsed": false
   },
   "outputs": [
    {
     "data": {
      "text/plain": [
       "72"
      ]
     },
     "execution_count": 85,
     "metadata": {},
     "output_type": "execute_result"
    }
   ],
   "source": [
    "len(df[df.Animal_Type_outcome == 'Cat' ].Breed_outcome.unique())"
   ]
  },
  {
   "cell_type": "code",
   "execution_count": 86,
   "metadata": {
    "collapsed": false
   },
   "outputs": [],
   "source": [
    "breeds = list(df[df['Animal_Type_outcome'] == 'Dog']['Breed_outcome'])\n",
    "dog_breeds = [re.sub(' Mix', '', dog) if 'Mix' in dog else dog.split(\"/\")[0] for dog in breeds]"
   ]
  },
  {
   "cell_type": "code",
   "execution_count": 87,
   "metadata": {
    "collapsed": true
   },
   "outputs": [],
   "source": [
    "df.ix[df.Animal_Type_outcome == 'Dog', 'Breed_outcome'] = dog_breeds"
   ]
  },
  {
   "cell_type": "code",
   "execution_count": 88,
   "metadata": {
    "collapsed": false,
    "scrolled": true
   },
   "outputs": [
    {
     "data": {
      "text/html": [
       "<div>\n",
       "<table border=\"1\" class=\"dataframe\">\n",
       "  <thead>\n",
       "    <tr style=\"text-align: right;\">\n",
       "      <th></th>\n",
       "      <th>ID</th>\n",
       "      <th>DateTime_intake</th>\n",
       "      <th>MonthYear_intake</th>\n",
       "      <th>Found_Location</th>\n",
       "      <th>Intake_Type</th>\n",
       "      <th>Intake_Condition</th>\n",
       "      <th>Sex_Intake</th>\n",
       "      <th>Age_Intake</th>\n",
       "      <th>Name_outcome</th>\n",
       "      <th>DateTime_outcome</th>\n",
       "      <th>MonthYear_outcome</th>\n",
       "      <th>Birth_Date</th>\n",
       "      <th>Outcome</th>\n",
       "      <th>Outcome_Subtype</th>\n",
       "      <th>Animal_Type_outcome</th>\n",
       "      <th>Sex_Outcome</th>\n",
       "      <th>Outcome_Age</th>\n",
       "      <th>Breed_outcome</th>\n",
       "      <th>Color_outcome</th>\n",
       "      <th>Days_In</th>\n",
       "      <th>Sex</th>\n",
       "      <th>Fixed</th>\n",
       "    </tr>\n",
       "  </thead>\n",
       "  <tbody>\n",
       "    <tr>\n",
       "      <th>0</th>\n",
       "      <td>A730601</td>\n",
       "      <td>07/07/2016 12:11:00 PM</td>\n",
       "      <td>07/07/2016 12:11:00 PM</td>\n",
       "      <td>1109 Shady Ln in Austin (TX)</td>\n",
       "      <td>Stray</td>\n",
       "      <td>Normal</td>\n",
       "      <td>Intact Male</td>\n",
       "      <td>0.583333</td>\n",
       "      <td>NaN</td>\n",
       "      <td>07/08/2016 09:00:00 AM</td>\n",
       "      <td>07/08/2016 09:00:00 AM</td>\n",
       "      <td>12/07/2015</td>\n",
       "      <td>Transfer</td>\n",
       "      <td>SCRP</td>\n",
       "      <td>Cat</td>\n",
       "      <td>Neutered Male</td>\n",
       "      <td>0.583333</td>\n",
       "      <td>Domestic Shorthair Mix</td>\n",
       "      <td>Blue Tabby</td>\n",
       "      <td>1</td>\n",
       "      <td>male</td>\n",
       "      <td>fixed</td>\n",
       "    </tr>\n",
       "    <tr>\n",
       "      <th>1</th>\n",
       "      <td>A683644</td>\n",
       "      <td>07/13/2014 11:02:00 AM</td>\n",
       "      <td>07/13/2014 11:02:00 AM</td>\n",
       "      <td>Austin (TX)</td>\n",
       "      <td>Owner Surrender</td>\n",
       "      <td>Nursing</td>\n",
       "      <td>Intact Female</td>\n",
       "      <td>0.076923</td>\n",
       "      <td>*Zoey</td>\n",
       "      <td>11/06/2014 10:06:00 AM</td>\n",
       "      <td>11/06/2014 10:06:00 AM</td>\n",
       "      <td>06/13/2014</td>\n",
       "      <td>Adoption</td>\n",
       "      <td>Foster</td>\n",
       "      <td>Dog</td>\n",
       "      <td>Spayed Female</td>\n",
       "      <td>0.333333</td>\n",
       "      <td>Border Collie</td>\n",
       "      <td>Brown/White</td>\n",
       "      <td>116</td>\n",
       "      <td>female</td>\n",
       "      <td>fixed</td>\n",
       "    </tr>\n",
       "    <tr>\n",
       "      <th>2</th>\n",
       "      <td>A676515</td>\n",
       "      <td>04/11/2014 08:45:00 AM</td>\n",
       "      <td>04/11/2014 08:45:00 AM</td>\n",
       "      <td>615 E. Wonsley in Austin (TX)</td>\n",
       "      <td>Stray</td>\n",
       "      <td>Normal</td>\n",
       "      <td>Intact Male</td>\n",
       "      <td>0.166667</td>\n",
       "      <td>Rico</td>\n",
       "      <td>04/14/2014 06:38:00 PM</td>\n",
       "      <td>04/14/2014 06:38:00 PM</td>\n",
       "      <td>01/11/2014</td>\n",
       "      <td>Return to Owner</td>\n",
       "      <td>NaN</td>\n",
       "      <td>Dog</td>\n",
       "      <td>Neutered Male</td>\n",
       "      <td>0.250000</td>\n",
       "      <td>Pit Bull</td>\n",
       "      <td>White/Brown</td>\n",
       "      <td>3</td>\n",
       "      <td>male</td>\n",
       "      <td>fixed</td>\n",
       "    </tr>\n",
       "    <tr>\n",
       "      <th>3</th>\n",
       "      <td>A742953</td>\n",
       "      <td>01/31/2017 01:30:00 PM</td>\n",
       "      <td>01/31/2017 01:30:00 PM</td>\n",
       "      <td>S Hwy 183 And Thompson Lane in Austin (TX)</td>\n",
       "      <td>Stray</td>\n",
       "      <td>Normal</td>\n",
       "      <td>Intact Male</td>\n",
       "      <td>2.000000</td>\n",
       "      <td>NaN</td>\n",
       "      <td>02/04/2017 02:17:00 PM</td>\n",
       "      <td>02/04/2017 02:17:00 PM</td>\n",
       "      <td>01/31/2015</td>\n",
       "      <td>Transfer</td>\n",
       "      <td>Partner</td>\n",
       "      <td>Dog</td>\n",
       "      <td>Intact Male</td>\n",
       "      <td>2.000000</td>\n",
       "      <td>Saluki</td>\n",
       "      <td>Sable/Cream</td>\n",
       "      <td>4</td>\n",
       "      <td>male</td>\n",
       "      <td>not_fixed</td>\n",
       "    </tr>\n",
       "    <tr>\n",
       "      <th>4</th>\n",
       "      <td>A679549</td>\n",
       "      <td>05/22/2014 03:43:00 PM</td>\n",
       "      <td>05/22/2014 03:43:00 PM</td>\n",
       "      <td>124 W Anderson in Austin (TX)</td>\n",
       "      <td>Stray</td>\n",
       "      <td>Normal</td>\n",
       "      <td>Intact Male</td>\n",
       "      <td>0.083333</td>\n",
       "      <td>*Gilbert</td>\n",
       "      <td>06/16/2014 01:54:00 PM</td>\n",
       "      <td>06/16/2014 01:54:00 PM</td>\n",
       "      <td>03/31/2014</td>\n",
       "      <td>Transfer</td>\n",
       "      <td>Partner</td>\n",
       "      <td>Cat</td>\n",
       "      <td>Neutered Male</td>\n",
       "      <td>0.166667</td>\n",
       "      <td>Domestic Shorthair Mix</td>\n",
       "      <td>Black/White</td>\n",
       "      <td>25</td>\n",
       "      <td>male</td>\n",
       "      <td>fixed</td>\n",
       "    </tr>\n",
       "  </tbody>\n",
       "</table>\n",
       "</div>"
      ],
      "text/plain": [
       "        ID         DateTime_intake        MonthYear_intake  \\\n",
       "0  A730601  07/07/2016 12:11:00 PM  07/07/2016 12:11:00 PM   \n",
       "1  A683644  07/13/2014 11:02:00 AM  07/13/2014 11:02:00 AM   \n",
       "2  A676515  04/11/2014 08:45:00 AM  04/11/2014 08:45:00 AM   \n",
       "3  A742953  01/31/2017 01:30:00 PM  01/31/2017 01:30:00 PM   \n",
       "4  A679549  05/22/2014 03:43:00 PM  05/22/2014 03:43:00 PM   \n",
       "\n",
       "                               Found_Location      Intake_Type  \\\n",
       "0                1109 Shady Ln in Austin (TX)            Stray   \n",
       "1                                 Austin (TX)  Owner Surrender   \n",
       "2               615 E. Wonsley in Austin (TX)            Stray   \n",
       "3  S Hwy 183 And Thompson Lane in Austin (TX)            Stray   \n",
       "4               124 W Anderson in Austin (TX)            Stray   \n",
       "\n",
       "  Intake_Condition     Sex_Intake  Age_Intake Name_outcome  \\\n",
       "0           Normal    Intact Male    0.583333          NaN   \n",
       "1          Nursing  Intact Female    0.076923        *Zoey   \n",
       "2           Normal    Intact Male    0.166667         Rico   \n",
       "3           Normal    Intact Male    2.000000          NaN   \n",
       "4           Normal    Intact Male    0.083333     *Gilbert   \n",
       "\n",
       "         DateTime_outcome       MonthYear_outcome  Birth_Date  \\\n",
       "0  07/08/2016 09:00:00 AM  07/08/2016 09:00:00 AM  12/07/2015   \n",
       "1  11/06/2014 10:06:00 AM  11/06/2014 10:06:00 AM  06/13/2014   \n",
       "2  04/14/2014 06:38:00 PM  04/14/2014 06:38:00 PM  01/11/2014   \n",
       "3  02/04/2017 02:17:00 PM  02/04/2017 02:17:00 PM  01/31/2015   \n",
       "4  06/16/2014 01:54:00 PM  06/16/2014 01:54:00 PM  03/31/2014   \n",
       "\n",
       "           Outcome Outcome_Subtype Animal_Type_outcome    Sex_Outcome  \\\n",
       "0         Transfer            SCRP                 Cat  Neutered Male   \n",
       "1         Adoption          Foster                 Dog  Spayed Female   \n",
       "2  Return to Owner             NaN                 Dog  Neutered Male   \n",
       "3         Transfer         Partner                 Dog    Intact Male   \n",
       "4         Transfer         Partner                 Cat  Neutered Male   \n",
       "\n",
       "   Outcome_Age           Breed_outcome Color_outcome  Days_In     Sex  \\\n",
       "0     0.583333  Domestic Shorthair Mix    Blue Tabby        1    male   \n",
       "1     0.333333           Border Collie   Brown/White      116  female   \n",
       "2     0.250000                Pit Bull   White/Brown        3    male   \n",
       "3     2.000000                  Saluki   Sable/Cream        4    male   \n",
       "4     0.166667  Domestic Shorthair Mix   Black/White       25    male   \n",
       "\n",
       "       Fixed  \n",
       "0      fixed  \n",
       "1      fixed  \n",
       "2      fixed  \n",
       "3  not_fixed  \n",
       "4      fixed  "
      ]
     },
     "execution_count": 88,
     "metadata": {},
     "output_type": "execute_result"
    }
   ],
   "source": [
    "df.head()"
   ]
  },
  {
   "cell_type": "markdown",
   "metadata": {},
   "source": [
    "Removing the 'Mix' classification narrows down the set of different dog breeds to 269, a huge improvement compared to 1747. "
   ]
  },
  {
   "cell_type": "code",
   "execution_count": 89,
   "metadata": {
    "collapsed": false,
    "scrolled": true
   },
   "outputs": [
    {
     "data": {
      "text/plain": [
       "269"
      ]
     },
     "execution_count": 89,
     "metadata": {},
     "output_type": "execute_result"
    }
   ],
   "source": [
    "len(df.Breed_outcome.unique())"
   ]
  },
  {
   "cell_type": "markdown",
   "metadata": {},
   "source": [
    "There are 319 different color classifications for dogs and 199 for cats. For both, we will take the first color listed as the dominant color and replace each classification with the dominant color for each animal. Doing this, we reduce the amount of unique classifications in total to only 57. "
   ]
  },
  {
   "cell_type": "code",
   "execution_count": 90,
   "metadata": {
    "collapsed": false
   },
   "outputs": [
    {
     "data": {
      "text/plain": [
       "319"
      ]
     },
     "execution_count": 90,
     "metadata": {},
     "output_type": "execute_result"
    }
   ],
   "source": [
    "# number of distinct colors for dogs\n",
    "len(df[df.Animal_Type_outcome == 'Dog' ].Color_outcome.unique())"
   ]
  },
  {
   "cell_type": "code",
   "execution_count": 91,
   "metadata": {
    "collapsed": false
   },
   "outputs": [
    {
     "data": {
      "text/plain": [
       "199"
      ]
     },
     "execution_count": 91,
     "metadata": {},
     "output_type": "execute_result"
    }
   ],
   "source": [
    "# number of distinct colors for dogs\n",
    "len(df[df.Animal_Type_outcome == 'Cat' ].Color_outcome.unique())"
   ]
  },
  {
   "cell_type": "code",
   "execution_count": 92,
   "metadata": {
    "collapsed": false
   },
   "outputs": [],
   "source": [
    "# Take the first color\n",
    "def get_color(animal_color):\n",
    "    color = [c.split(\"/\")[0] for c in animal_color]\n",
    "    return color"
   ]
  },
  {
   "cell_type": "code",
   "execution_count": 93,
   "metadata": {
    "collapsed": false
   },
   "outputs": [],
   "source": [
    "df['Color_outcome'] = get_color(df['Color_outcome'])"
   ]
  },
  {
   "cell_type": "code",
   "execution_count": 94,
   "metadata": {
    "collapsed": false
   },
   "outputs": [
    {
     "data": {
      "text/plain": [
       "57"
      ]
     },
     "execution_count": 94,
     "metadata": {},
     "output_type": "execute_result"
    }
   ],
   "source": [
    "len(df.Color_outcome.unique())"
   ]
  },
  {
   "cell_type": "code",
   "execution_count": 95,
   "metadata": {
    "collapsed": false
   },
   "outputs": [
    {
     "data": {
      "text/html": [
       "<div>\n",
       "<table border=\"1\" class=\"dataframe\">\n",
       "  <thead>\n",
       "    <tr style=\"text-align: right;\">\n",
       "      <th></th>\n",
       "      <th>ID</th>\n",
       "      <th>DateTime_intake</th>\n",
       "      <th>MonthYear_intake</th>\n",
       "      <th>Found_Location</th>\n",
       "      <th>Intake_Type</th>\n",
       "      <th>Intake_Condition</th>\n",
       "      <th>Sex_Intake</th>\n",
       "      <th>Age_Intake</th>\n",
       "      <th>Name_outcome</th>\n",
       "      <th>DateTime_outcome</th>\n",
       "      <th>MonthYear_outcome</th>\n",
       "      <th>Birth_Date</th>\n",
       "      <th>Outcome</th>\n",
       "      <th>Outcome_Subtype</th>\n",
       "      <th>Animal_Type_outcome</th>\n",
       "      <th>Sex_Outcome</th>\n",
       "      <th>Outcome_Age</th>\n",
       "      <th>Breed_outcome</th>\n",
       "      <th>Color_outcome</th>\n",
       "      <th>Days_In</th>\n",
       "      <th>Sex</th>\n",
       "      <th>Fixed</th>\n",
       "    </tr>\n",
       "  </thead>\n",
       "  <tbody>\n",
       "    <tr>\n",
       "      <th>0</th>\n",
       "      <td>A730601</td>\n",
       "      <td>07/07/2016 12:11:00 PM</td>\n",
       "      <td>07/07/2016 12:11:00 PM</td>\n",
       "      <td>1109 Shady Ln in Austin (TX)</td>\n",
       "      <td>Stray</td>\n",
       "      <td>Normal</td>\n",
       "      <td>Intact Male</td>\n",
       "      <td>0.583333</td>\n",
       "      <td>NaN</td>\n",
       "      <td>07/08/2016 09:00:00 AM</td>\n",
       "      <td>07/08/2016 09:00:00 AM</td>\n",
       "      <td>12/07/2015</td>\n",
       "      <td>Transfer</td>\n",
       "      <td>SCRP</td>\n",
       "      <td>Cat</td>\n",
       "      <td>Neutered Male</td>\n",
       "      <td>0.583333</td>\n",
       "      <td>Domestic Shorthair Mix</td>\n",
       "      <td>Blue Tabby</td>\n",
       "      <td>1</td>\n",
       "      <td>male</td>\n",
       "      <td>fixed</td>\n",
       "    </tr>\n",
       "    <tr>\n",
       "      <th>1</th>\n",
       "      <td>A683644</td>\n",
       "      <td>07/13/2014 11:02:00 AM</td>\n",
       "      <td>07/13/2014 11:02:00 AM</td>\n",
       "      <td>Austin (TX)</td>\n",
       "      <td>Owner Surrender</td>\n",
       "      <td>Nursing</td>\n",
       "      <td>Intact Female</td>\n",
       "      <td>0.076923</td>\n",
       "      <td>*Zoey</td>\n",
       "      <td>11/06/2014 10:06:00 AM</td>\n",
       "      <td>11/06/2014 10:06:00 AM</td>\n",
       "      <td>06/13/2014</td>\n",
       "      <td>Adoption</td>\n",
       "      <td>Foster</td>\n",
       "      <td>Dog</td>\n",
       "      <td>Spayed Female</td>\n",
       "      <td>0.333333</td>\n",
       "      <td>Border Collie</td>\n",
       "      <td>Brown</td>\n",
       "      <td>116</td>\n",
       "      <td>female</td>\n",
       "      <td>fixed</td>\n",
       "    </tr>\n",
       "    <tr>\n",
       "      <th>2</th>\n",
       "      <td>A676515</td>\n",
       "      <td>04/11/2014 08:45:00 AM</td>\n",
       "      <td>04/11/2014 08:45:00 AM</td>\n",
       "      <td>615 E. Wonsley in Austin (TX)</td>\n",
       "      <td>Stray</td>\n",
       "      <td>Normal</td>\n",
       "      <td>Intact Male</td>\n",
       "      <td>0.166667</td>\n",
       "      <td>Rico</td>\n",
       "      <td>04/14/2014 06:38:00 PM</td>\n",
       "      <td>04/14/2014 06:38:00 PM</td>\n",
       "      <td>01/11/2014</td>\n",
       "      <td>Return to Owner</td>\n",
       "      <td>NaN</td>\n",
       "      <td>Dog</td>\n",
       "      <td>Neutered Male</td>\n",
       "      <td>0.250000</td>\n",
       "      <td>Pit Bull</td>\n",
       "      <td>White</td>\n",
       "      <td>3</td>\n",
       "      <td>male</td>\n",
       "      <td>fixed</td>\n",
       "    </tr>\n",
       "    <tr>\n",
       "      <th>3</th>\n",
       "      <td>A742953</td>\n",
       "      <td>01/31/2017 01:30:00 PM</td>\n",
       "      <td>01/31/2017 01:30:00 PM</td>\n",
       "      <td>S Hwy 183 And Thompson Lane in Austin (TX)</td>\n",
       "      <td>Stray</td>\n",
       "      <td>Normal</td>\n",
       "      <td>Intact Male</td>\n",
       "      <td>2.000000</td>\n",
       "      <td>NaN</td>\n",
       "      <td>02/04/2017 02:17:00 PM</td>\n",
       "      <td>02/04/2017 02:17:00 PM</td>\n",
       "      <td>01/31/2015</td>\n",
       "      <td>Transfer</td>\n",
       "      <td>Partner</td>\n",
       "      <td>Dog</td>\n",
       "      <td>Intact Male</td>\n",
       "      <td>2.000000</td>\n",
       "      <td>Saluki</td>\n",
       "      <td>Sable</td>\n",
       "      <td>4</td>\n",
       "      <td>male</td>\n",
       "      <td>not_fixed</td>\n",
       "    </tr>\n",
       "    <tr>\n",
       "      <th>4</th>\n",
       "      <td>A679549</td>\n",
       "      <td>05/22/2014 03:43:00 PM</td>\n",
       "      <td>05/22/2014 03:43:00 PM</td>\n",
       "      <td>124 W Anderson in Austin (TX)</td>\n",
       "      <td>Stray</td>\n",
       "      <td>Normal</td>\n",
       "      <td>Intact Male</td>\n",
       "      <td>0.083333</td>\n",
       "      <td>*Gilbert</td>\n",
       "      <td>06/16/2014 01:54:00 PM</td>\n",
       "      <td>06/16/2014 01:54:00 PM</td>\n",
       "      <td>03/31/2014</td>\n",
       "      <td>Transfer</td>\n",
       "      <td>Partner</td>\n",
       "      <td>Cat</td>\n",
       "      <td>Neutered Male</td>\n",
       "      <td>0.166667</td>\n",
       "      <td>Domestic Shorthair Mix</td>\n",
       "      <td>Black</td>\n",
       "      <td>25</td>\n",
       "      <td>male</td>\n",
       "      <td>fixed</td>\n",
       "    </tr>\n",
       "  </tbody>\n",
       "</table>\n",
       "</div>"
      ],
      "text/plain": [
       "        ID         DateTime_intake        MonthYear_intake  \\\n",
       "0  A730601  07/07/2016 12:11:00 PM  07/07/2016 12:11:00 PM   \n",
       "1  A683644  07/13/2014 11:02:00 AM  07/13/2014 11:02:00 AM   \n",
       "2  A676515  04/11/2014 08:45:00 AM  04/11/2014 08:45:00 AM   \n",
       "3  A742953  01/31/2017 01:30:00 PM  01/31/2017 01:30:00 PM   \n",
       "4  A679549  05/22/2014 03:43:00 PM  05/22/2014 03:43:00 PM   \n",
       "\n",
       "                               Found_Location      Intake_Type  \\\n",
       "0                1109 Shady Ln in Austin (TX)            Stray   \n",
       "1                                 Austin (TX)  Owner Surrender   \n",
       "2               615 E. Wonsley in Austin (TX)            Stray   \n",
       "3  S Hwy 183 And Thompson Lane in Austin (TX)            Stray   \n",
       "4               124 W Anderson in Austin (TX)            Stray   \n",
       "\n",
       "  Intake_Condition     Sex_Intake  Age_Intake Name_outcome  \\\n",
       "0           Normal    Intact Male    0.583333          NaN   \n",
       "1          Nursing  Intact Female    0.076923        *Zoey   \n",
       "2           Normal    Intact Male    0.166667         Rico   \n",
       "3           Normal    Intact Male    2.000000          NaN   \n",
       "4           Normal    Intact Male    0.083333     *Gilbert   \n",
       "\n",
       "         DateTime_outcome       MonthYear_outcome  Birth_Date  \\\n",
       "0  07/08/2016 09:00:00 AM  07/08/2016 09:00:00 AM  12/07/2015   \n",
       "1  11/06/2014 10:06:00 AM  11/06/2014 10:06:00 AM  06/13/2014   \n",
       "2  04/14/2014 06:38:00 PM  04/14/2014 06:38:00 PM  01/11/2014   \n",
       "3  02/04/2017 02:17:00 PM  02/04/2017 02:17:00 PM  01/31/2015   \n",
       "4  06/16/2014 01:54:00 PM  06/16/2014 01:54:00 PM  03/31/2014   \n",
       "\n",
       "           Outcome Outcome_Subtype Animal_Type_outcome    Sex_Outcome  \\\n",
       "0         Transfer            SCRP                 Cat  Neutered Male   \n",
       "1         Adoption          Foster                 Dog  Spayed Female   \n",
       "2  Return to Owner             NaN                 Dog  Neutered Male   \n",
       "3         Transfer         Partner                 Dog    Intact Male   \n",
       "4         Transfer         Partner                 Cat  Neutered Male   \n",
       "\n",
       "   Outcome_Age           Breed_outcome Color_outcome  Days_In     Sex  \\\n",
       "0     0.583333  Domestic Shorthair Mix    Blue Tabby        1    male   \n",
       "1     0.333333           Border Collie         Brown      116  female   \n",
       "2     0.250000                Pit Bull         White        3    male   \n",
       "3     2.000000                  Saluki         Sable        4    male   \n",
       "4     0.166667  Domestic Shorthair Mix         Black       25    male   \n",
       "\n",
       "       Fixed  \n",
       "0      fixed  \n",
       "1      fixed  \n",
       "2      fixed  \n",
       "3  not_fixed  \n",
       "4      fixed  "
      ]
     },
     "execution_count": 95,
     "metadata": {},
     "output_type": "execute_result"
    }
   ],
   "source": [
    "df.head()"
   ]
  },
  {
   "cell_type": "markdown",
   "metadata": {},
   "source": [
    "Now, let's create a feature column that indicates the month the animal enters the animal shelter. "
   ]
  },
  {
   "cell_type": "code",
   "execution_count": 96,
   "metadata": {
    "collapsed": false
   },
   "outputs": [],
   "source": [
    "dates = [df['DateTime_intake'][i].split()[0] for i in range(len(df['DateTime_intake']))]\n",
    "date = [datetime.strptime(d,'%m/%d/%Y') for d in dates]\n",
    "\n",
    "month = ['Janurary' if d.month  == 1\n",
    "        else 'February' if d.month == 2\n",
    "        else 'March' if d.month == 3\n",
    "        else 'April' if d.month == 4\n",
    "        else 'May' if d.month == 5\n",
    "        else 'June' if d.month == 6\n",
    "        else 'July' if d.month == 7\n",
    "        else 'August' if d.month == 8\n",
    "        else 'September' if d.month == 9\n",
    "        else 'October' if d.month == 10\n",
    "        else 'November' if d.month == 11\n",
    "        else 'December'\n",
    "        for d in date]"
   ]
  },
  {
   "cell_type": "code",
   "execution_count": 97,
   "metadata": {
    "collapsed": true
   },
   "outputs": [],
   "source": [
    "df['Month_Intake'] = month"
   ]
  },
  {
   "cell_type": "code",
   "execution_count": 98,
   "metadata": {
    "collapsed": false
   },
   "outputs": [
    {
     "data": {
      "text/html": [
       "<div>\n",
       "<table border=\"1\" class=\"dataframe\">\n",
       "  <thead>\n",
       "    <tr style=\"text-align: right;\">\n",
       "      <th></th>\n",
       "      <th>ID</th>\n",
       "      <th>DateTime_intake</th>\n",
       "      <th>MonthYear_intake</th>\n",
       "      <th>Found_Location</th>\n",
       "      <th>Intake_Type</th>\n",
       "      <th>Intake_Condition</th>\n",
       "      <th>Sex_Intake</th>\n",
       "      <th>Age_Intake</th>\n",
       "      <th>Name_outcome</th>\n",
       "      <th>DateTime_outcome</th>\n",
       "      <th>MonthYear_outcome</th>\n",
       "      <th>Birth_Date</th>\n",
       "      <th>Outcome</th>\n",
       "      <th>Outcome_Subtype</th>\n",
       "      <th>Animal_Type_outcome</th>\n",
       "      <th>Sex_Outcome</th>\n",
       "      <th>Outcome_Age</th>\n",
       "      <th>Breed_outcome</th>\n",
       "      <th>Color_outcome</th>\n",
       "      <th>Days_In</th>\n",
       "      <th>Sex</th>\n",
       "      <th>Fixed</th>\n",
       "      <th>Month_Intake</th>\n",
       "    </tr>\n",
       "  </thead>\n",
       "  <tbody>\n",
       "    <tr>\n",
       "      <th>0</th>\n",
       "      <td>A730601</td>\n",
       "      <td>07/07/2016 12:11:00 PM</td>\n",
       "      <td>07/07/2016 12:11:00 PM</td>\n",
       "      <td>1109 Shady Ln in Austin (TX)</td>\n",
       "      <td>Stray</td>\n",
       "      <td>Normal</td>\n",
       "      <td>Intact Male</td>\n",
       "      <td>0.583333</td>\n",
       "      <td>NaN</td>\n",
       "      <td>07/08/2016 09:00:00 AM</td>\n",
       "      <td>07/08/2016 09:00:00 AM</td>\n",
       "      <td>12/07/2015</td>\n",
       "      <td>Transfer</td>\n",
       "      <td>SCRP</td>\n",
       "      <td>Cat</td>\n",
       "      <td>Neutered Male</td>\n",
       "      <td>0.583333</td>\n",
       "      <td>Domestic Shorthair Mix</td>\n",
       "      <td>Blue Tabby</td>\n",
       "      <td>1</td>\n",
       "      <td>male</td>\n",
       "      <td>fixed</td>\n",
       "      <td>July</td>\n",
       "    </tr>\n",
       "    <tr>\n",
       "      <th>1</th>\n",
       "      <td>A683644</td>\n",
       "      <td>07/13/2014 11:02:00 AM</td>\n",
       "      <td>07/13/2014 11:02:00 AM</td>\n",
       "      <td>Austin (TX)</td>\n",
       "      <td>Owner Surrender</td>\n",
       "      <td>Nursing</td>\n",
       "      <td>Intact Female</td>\n",
       "      <td>0.076923</td>\n",
       "      <td>*Zoey</td>\n",
       "      <td>11/06/2014 10:06:00 AM</td>\n",
       "      <td>11/06/2014 10:06:00 AM</td>\n",
       "      <td>06/13/2014</td>\n",
       "      <td>Adoption</td>\n",
       "      <td>Foster</td>\n",
       "      <td>Dog</td>\n",
       "      <td>Spayed Female</td>\n",
       "      <td>0.333333</td>\n",
       "      <td>Border Collie</td>\n",
       "      <td>Brown</td>\n",
       "      <td>116</td>\n",
       "      <td>female</td>\n",
       "      <td>fixed</td>\n",
       "      <td>July</td>\n",
       "    </tr>\n",
       "    <tr>\n",
       "      <th>2</th>\n",
       "      <td>A676515</td>\n",
       "      <td>04/11/2014 08:45:00 AM</td>\n",
       "      <td>04/11/2014 08:45:00 AM</td>\n",
       "      <td>615 E. Wonsley in Austin (TX)</td>\n",
       "      <td>Stray</td>\n",
       "      <td>Normal</td>\n",
       "      <td>Intact Male</td>\n",
       "      <td>0.166667</td>\n",
       "      <td>Rico</td>\n",
       "      <td>04/14/2014 06:38:00 PM</td>\n",
       "      <td>04/14/2014 06:38:00 PM</td>\n",
       "      <td>01/11/2014</td>\n",
       "      <td>Return to Owner</td>\n",
       "      <td>NaN</td>\n",
       "      <td>Dog</td>\n",
       "      <td>Neutered Male</td>\n",
       "      <td>0.250000</td>\n",
       "      <td>Pit Bull</td>\n",
       "      <td>White</td>\n",
       "      <td>3</td>\n",
       "      <td>male</td>\n",
       "      <td>fixed</td>\n",
       "      <td>April</td>\n",
       "    </tr>\n",
       "    <tr>\n",
       "      <th>3</th>\n",
       "      <td>A742953</td>\n",
       "      <td>01/31/2017 01:30:00 PM</td>\n",
       "      <td>01/31/2017 01:30:00 PM</td>\n",
       "      <td>S Hwy 183 And Thompson Lane in Austin (TX)</td>\n",
       "      <td>Stray</td>\n",
       "      <td>Normal</td>\n",
       "      <td>Intact Male</td>\n",
       "      <td>2.000000</td>\n",
       "      <td>NaN</td>\n",
       "      <td>02/04/2017 02:17:00 PM</td>\n",
       "      <td>02/04/2017 02:17:00 PM</td>\n",
       "      <td>01/31/2015</td>\n",
       "      <td>Transfer</td>\n",
       "      <td>Partner</td>\n",
       "      <td>Dog</td>\n",
       "      <td>Intact Male</td>\n",
       "      <td>2.000000</td>\n",
       "      <td>Saluki</td>\n",
       "      <td>Sable</td>\n",
       "      <td>4</td>\n",
       "      <td>male</td>\n",
       "      <td>not_fixed</td>\n",
       "      <td>Janurary</td>\n",
       "    </tr>\n",
       "    <tr>\n",
       "      <th>4</th>\n",
       "      <td>A679549</td>\n",
       "      <td>05/22/2014 03:43:00 PM</td>\n",
       "      <td>05/22/2014 03:43:00 PM</td>\n",
       "      <td>124 W Anderson in Austin (TX)</td>\n",
       "      <td>Stray</td>\n",
       "      <td>Normal</td>\n",
       "      <td>Intact Male</td>\n",
       "      <td>0.083333</td>\n",
       "      <td>*Gilbert</td>\n",
       "      <td>06/16/2014 01:54:00 PM</td>\n",
       "      <td>06/16/2014 01:54:00 PM</td>\n",
       "      <td>03/31/2014</td>\n",
       "      <td>Transfer</td>\n",
       "      <td>Partner</td>\n",
       "      <td>Cat</td>\n",
       "      <td>Neutered Male</td>\n",
       "      <td>0.166667</td>\n",
       "      <td>Domestic Shorthair Mix</td>\n",
       "      <td>Black</td>\n",
       "      <td>25</td>\n",
       "      <td>male</td>\n",
       "      <td>fixed</td>\n",
       "      <td>May</td>\n",
       "    </tr>\n",
       "  </tbody>\n",
       "</table>\n",
       "</div>"
      ],
      "text/plain": [
       "        ID         DateTime_intake        MonthYear_intake  \\\n",
       "0  A730601  07/07/2016 12:11:00 PM  07/07/2016 12:11:00 PM   \n",
       "1  A683644  07/13/2014 11:02:00 AM  07/13/2014 11:02:00 AM   \n",
       "2  A676515  04/11/2014 08:45:00 AM  04/11/2014 08:45:00 AM   \n",
       "3  A742953  01/31/2017 01:30:00 PM  01/31/2017 01:30:00 PM   \n",
       "4  A679549  05/22/2014 03:43:00 PM  05/22/2014 03:43:00 PM   \n",
       "\n",
       "                               Found_Location      Intake_Type  \\\n",
       "0                1109 Shady Ln in Austin (TX)            Stray   \n",
       "1                                 Austin (TX)  Owner Surrender   \n",
       "2               615 E. Wonsley in Austin (TX)            Stray   \n",
       "3  S Hwy 183 And Thompson Lane in Austin (TX)            Stray   \n",
       "4               124 W Anderson in Austin (TX)            Stray   \n",
       "\n",
       "  Intake_Condition     Sex_Intake  Age_Intake Name_outcome  \\\n",
       "0           Normal    Intact Male    0.583333          NaN   \n",
       "1          Nursing  Intact Female    0.076923        *Zoey   \n",
       "2           Normal    Intact Male    0.166667         Rico   \n",
       "3           Normal    Intact Male    2.000000          NaN   \n",
       "4           Normal    Intact Male    0.083333     *Gilbert   \n",
       "\n",
       "         DateTime_outcome       MonthYear_outcome  Birth_Date  \\\n",
       "0  07/08/2016 09:00:00 AM  07/08/2016 09:00:00 AM  12/07/2015   \n",
       "1  11/06/2014 10:06:00 AM  11/06/2014 10:06:00 AM  06/13/2014   \n",
       "2  04/14/2014 06:38:00 PM  04/14/2014 06:38:00 PM  01/11/2014   \n",
       "3  02/04/2017 02:17:00 PM  02/04/2017 02:17:00 PM  01/31/2015   \n",
       "4  06/16/2014 01:54:00 PM  06/16/2014 01:54:00 PM  03/31/2014   \n",
       "\n",
       "           Outcome Outcome_Subtype Animal_Type_outcome    Sex_Outcome  \\\n",
       "0         Transfer            SCRP                 Cat  Neutered Male   \n",
       "1         Adoption          Foster                 Dog  Spayed Female   \n",
       "2  Return to Owner             NaN                 Dog  Neutered Male   \n",
       "3         Transfer         Partner                 Dog    Intact Male   \n",
       "4         Transfer         Partner                 Cat  Neutered Male   \n",
       "\n",
       "   Outcome_Age           Breed_outcome Color_outcome  Days_In     Sex  \\\n",
       "0     0.583333  Domestic Shorthair Mix    Blue Tabby        1    male   \n",
       "1     0.333333           Border Collie         Brown      116  female   \n",
       "2     0.250000                Pit Bull         White        3    male   \n",
       "3     2.000000                  Saluki         Sable        4    male   \n",
       "4     0.166667  Domestic Shorthair Mix         Black       25    male   \n",
       "\n",
       "       Fixed Month_Intake  \n",
       "0      fixed         July  \n",
       "1      fixed         July  \n",
       "2      fixed        April  \n",
       "3  not_fixed     Janurary  \n",
       "4      fixed          May  "
      ]
     },
     "execution_count": 98,
     "metadata": {},
     "output_type": "execute_result"
    }
   ],
   "source": [
    "df.head()"
   ]
  },
  {
   "cell_type": "code",
   "execution_count": 99,
   "metadata": {
    "collapsed": false
   },
   "outputs": [],
   "source": [
    "df = df[df.Outcome.notnull()]"
   ]
  },
  {
   "cell_type": "markdown",
   "metadata": {},
   "source": [
    "### Name vs No Name"
   ]
  },
  {
   "cell_type": "markdown",
   "metadata": {},
   "source": [
    "We'll construct a column that indicates that if the animal was given a name while it was in the shelter. "
   ]
  },
  {
   "cell_type": "code",
   "execution_count": 100,
   "metadata": {
    "collapsed": false
   },
   "outputs": [],
   "source": [
    "df['Given_Name'] = df.Name_outcome.notnull() * 1.0"
   ]
  },
  {
   "cell_type": "code",
   "execution_count": 101,
   "metadata": {
    "collapsed": false
   },
   "outputs": [
    {
     "data": {
      "text/html": [
       "<div>\n",
       "<table border=\"1\" class=\"dataframe\">\n",
       "  <thead>\n",
       "    <tr style=\"text-align: right;\">\n",
       "      <th></th>\n",
       "      <th>ID</th>\n",
       "      <th>DateTime_intake</th>\n",
       "      <th>MonthYear_intake</th>\n",
       "      <th>Found_Location</th>\n",
       "      <th>Intake_Type</th>\n",
       "      <th>Intake_Condition</th>\n",
       "      <th>Sex_Intake</th>\n",
       "      <th>Age_Intake</th>\n",
       "      <th>Name_outcome</th>\n",
       "      <th>DateTime_outcome</th>\n",
       "      <th>MonthYear_outcome</th>\n",
       "      <th>Birth_Date</th>\n",
       "      <th>Outcome</th>\n",
       "      <th>Outcome_Subtype</th>\n",
       "      <th>Animal_Type_outcome</th>\n",
       "      <th>Sex_Outcome</th>\n",
       "      <th>Outcome_Age</th>\n",
       "      <th>Breed_outcome</th>\n",
       "      <th>Color_outcome</th>\n",
       "      <th>Days_In</th>\n",
       "      <th>Sex</th>\n",
       "      <th>Fixed</th>\n",
       "      <th>Month_Intake</th>\n",
       "      <th>Given_Name</th>\n",
       "    </tr>\n",
       "  </thead>\n",
       "  <tbody>\n",
       "    <tr>\n",
       "      <th>0</th>\n",
       "      <td>A730601</td>\n",
       "      <td>07/07/2016 12:11:00 PM</td>\n",
       "      <td>07/07/2016 12:11:00 PM</td>\n",
       "      <td>1109 Shady Ln in Austin (TX)</td>\n",
       "      <td>Stray</td>\n",
       "      <td>Normal</td>\n",
       "      <td>Intact Male</td>\n",
       "      <td>0.583333</td>\n",
       "      <td>NaN</td>\n",
       "      <td>07/08/2016 09:00:00 AM</td>\n",
       "      <td>07/08/2016 09:00:00 AM</td>\n",
       "      <td>12/07/2015</td>\n",
       "      <td>Transfer</td>\n",
       "      <td>SCRP</td>\n",
       "      <td>Cat</td>\n",
       "      <td>Neutered Male</td>\n",
       "      <td>0.583333</td>\n",
       "      <td>Domestic Shorthair Mix</td>\n",
       "      <td>Blue Tabby</td>\n",
       "      <td>1</td>\n",
       "      <td>male</td>\n",
       "      <td>fixed</td>\n",
       "      <td>July</td>\n",
       "      <td>0.0</td>\n",
       "    </tr>\n",
       "    <tr>\n",
       "      <th>1</th>\n",
       "      <td>A683644</td>\n",
       "      <td>07/13/2014 11:02:00 AM</td>\n",
       "      <td>07/13/2014 11:02:00 AM</td>\n",
       "      <td>Austin (TX)</td>\n",
       "      <td>Owner Surrender</td>\n",
       "      <td>Nursing</td>\n",
       "      <td>Intact Female</td>\n",
       "      <td>0.076923</td>\n",
       "      <td>*Zoey</td>\n",
       "      <td>11/06/2014 10:06:00 AM</td>\n",
       "      <td>11/06/2014 10:06:00 AM</td>\n",
       "      <td>06/13/2014</td>\n",
       "      <td>Adoption</td>\n",
       "      <td>Foster</td>\n",
       "      <td>Dog</td>\n",
       "      <td>Spayed Female</td>\n",
       "      <td>0.333333</td>\n",
       "      <td>Border Collie</td>\n",
       "      <td>Brown</td>\n",
       "      <td>116</td>\n",
       "      <td>female</td>\n",
       "      <td>fixed</td>\n",
       "      <td>July</td>\n",
       "      <td>1.0</td>\n",
       "    </tr>\n",
       "    <tr>\n",
       "      <th>2</th>\n",
       "      <td>A676515</td>\n",
       "      <td>04/11/2014 08:45:00 AM</td>\n",
       "      <td>04/11/2014 08:45:00 AM</td>\n",
       "      <td>615 E. Wonsley in Austin (TX)</td>\n",
       "      <td>Stray</td>\n",
       "      <td>Normal</td>\n",
       "      <td>Intact Male</td>\n",
       "      <td>0.166667</td>\n",
       "      <td>Rico</td>\n",
       "      <td>04/14/2014 06:38:00 PM</td>\n",
       "      <td>04/14/2014 06:38:00 PM</td>\n",
       "      <td>01/11/2014</td>\n",
       "      <td>Return to Owner</td>\n",
       "      <td>NaN</td>\n",
       "      <td>Dog</td>\n",
       "      <td>Neutered Male</td>\n",
       "      <td>0.250000</td>\n",
       "      <td>Pit Bull</td>\n",
       "      <td>White</td>\n",
       "      <td>3</td>\n",
       "      <td>male</td>\n",
       "      <td>fixed</td>\n",
       "      <td>April</td>\n",
       "      <td>1.0</td>\n",
       "    </tr>\n",
       "    <tr>\n",
       "      <th>3</th>\n",
       "      <td>A742953</td>\n",
       "      <td>01/31/2017 01:30:00 PM</td>\n",
       "      <td>01/31/2017 01:30:00 PM</td>\n",
       "      <td>S Hwy 183 And Thompson Lane in Austin (TX)</td>\n",
       "      <td>Stray</td>\n",
       "      <td>Normal</td>\n",
       "      <td>Intact Male</td>\n",
       "      <td>2.000000</td>\n",
       "      <td>NaN</td>\n",
       "      <td>02/04/2017 02:17:00 PM</td>\n",
       "      <td>02/04/2017 02:17:00 PM</td>\n",
       "      <td>01/31/2015</td>\n",
       "      <td>Transfer</td>\n",
       "      <td>Partner</td>\n",
       "      <td>Dog</td>\n",
       "      <td>Intact Male</td>\n",
       "      <td>2.000000</td>\n",
       "      <td>Saluki</td>\n",
       "      <td>Sable</td>\n",
       "      <td>4</td>\n",
       "      <td>male</td>\n",
       "      <td>not_fixed</td>\n",
       "      <td>Janurary</td>\n",
       "      <td>0.0</td>\n",
       "    </tr>\n",
       "    <tr>\n",
       "      <th>4</th>\n",
       "      <td>A679549</td>\n",
       "      <td>05/22/2014 03:43:00 PM</td>\n",
       "      <td>05/22/2014 03:43:00 PM</td>\n",
       "      <td>124 W Anderson in Austin (TX)</td>\n",
       "      <td>Stray</td>\n",
       "      <td>Normal</td>\n",
       "      <td>Intact Male</td>\n",
       "      <td>0.083333</td>\n",
       "      <td>*Gilbert</td>\n",
       "      <td>06/16/2014 01:54:00 PM</td>\n",
       "      <td>06/16/2014 01:54:00 PM</td>\n",
       "      <td>03/31/2014</td>\n",
       "      <td>Transfer</td>\n",
       "      <td>Partner</td>\n",
       "      <td>Cat</td>\n",
       "      <td>Neutered Male</td>\n",
       "      <td>0.166667</td>\n",
       "      <td>Domestic Shorthair Mix</td>\n",
       "      <td>Black</td>\n",
       "      <td>25</td>\n",
       "      <td>male</td>\n",
       "      <td>fixed</td>\n",
       "      <td>May</td>\n",
       "      <td>1.0</td>\n",
       "    </tr>\n",
       "  </tbody>\n",
       "</table>\n",
       "</div>"
      ],
      "text/plain": [
       "        ID         DateTime_intake        MonthYear_intake  \\\n",
       "0  A730601  07/07/2016 12:11:00 PM  07/07/2016 12:11:00 PM   \n",
       "1  A683644  07/13/2014 11:02:00 AM  07/13/2014 11:02:00 AM   \n",
       "2  A676515  04/11/2014 08:45:00 AM  04/11/2014 08:45:00 AM   \n",
       "3  A742953  01/31/2017 01:30:00 PM  01/31/2017 01:30:00 PM   \n",
       "4  A679549  05/22/2014 03:43:00 PM  05/22/2014 03:43:00 PM   \n",
       "\n",
       "                               Found_Location      Intake_Type  \\\n",
       "0                1109 Shady Ln in Austin (TX)            Stray   \n",
       "1                                 Austin (TX)  Owner Surrender   \n",
       "2               615 E. Wonsley in Austin (TX)            Stray   \n",
       "3  S Hwy 183 And Thompson Lane in Austin (TX)            Stray   \n",
       "4               124 W Anderson in Austin (TX)            Stray   \n",
       "\n",
       "  Intake_Condition     Sex_Intake  Age_Intake Name_outcome  \\\n",
       "0           Normal    Intact Male    0.583333          NaN   \n",
       "1          Nursing  Intact Female    0.076923        *Zoey   \n",
       "2           Normal    Intact Male    0.166667         Rico   \n",
       "3           Normal    Intact Male    2.000000          NaN   \n",
       "4           Normal    Intact Male    0.083333     *Gilbert   \n",
       "\n",
       "         DateTime_outcome       MonthYear_outcome  Birth_Date  \\\n",
       "0  07/08/2016 09:00:00 AM  07/08/2016 09:00:00 AM  12/07/2015   \n",
       "1  11/06/2014 10:06:00 AM  11/06/2014 10:06:00 AM  06/13/2014   \n",
       "2  04/14/2014 06:38:00 PM  04/14/2014 06:38:00 PM  01/11/2014   \n",
       "3  02/04/2017 02:17:00 PM  02/04/2017 02:17:00 PM  01/31/2015   \n",
       "4  06/16/2014 01:54:00 PM  06/16/2014 01:54:00 PM  03/31/2014   \n",
       "\n",
       "           Outcome Outcome_Subtype Animal_Type_outcome    Sex_Outcome  \\\n",
       "0         Transfer            SCRP                 Cat  Neutered Male   \n",
       "1         Adoption          Foster                 Dog  Spayed Female   \n",
       "2  Return to Owner             NaN                 Dog  Neutered Male   \n",
       "3         Transfer         Partner                 Dog    Intact Male   \n",
       "4         Transfer         Partner                 Cat  Neutered Male   \n",
       "\n",
       "   Outcome_Age           Breed_outcome Color_outcome  Days_In     Sex  \\\n",
       "0     0.583333  Domestic Shorthair Mix    Blue Tabby        1    male   \n",
       "1     0.333333           Border Collie         Brown      116  female   \n",
       "2     0.250000                Pit Bull         White        3    male   \n",
       "3     2.000000                  Saluki         Sable        4    male   \n",
       "4     0.166667  Domestic Shorthair Mix         Black       25    male   \n",
       "\n",
       "       Fixed Month_Intake  Given_Name  \n",
       "0      fixed         July         0.0  \n",
       "1      fixed         July         1.0  \n",
       "2      fixed        April         1.0  \n",
       "3  not_fixed     Janurary         0.0  \n",
       "4      fixed          May         1.0  "
      ]
     },
     "execution_count": 101,
     "metadata": {},
     "output_type": "execute_result"
    }
   ],
   "source": [
    "df.head()"
   ]
  },
  {
   "cell_type": "markdown",
   "metadata": {},
   "source": [
    "### Plots"
   ]
  },
  {
   "cell_type": "markdown",
   "metadata": {},
   "source": [
    "Here, we will construct some data visualization for our data. Let's take a look at some statistics for the top 10 breeds that come into the shelter in terms of count. "
   ]
  },
  {
   "cell_type": "code",
   "execution_count": 102,
   "metadata": {
    "collapsed": true
   },
   "outputs": [],
   "source": [
    "f = {'Breed_outcome':'count', 'Days_In': 'mean'}\n",
    "\n",
    "days_avg = df.groupby('Breed_outcome').agg(f)"
   ]
  },
  {
   "cell_type": "code",
   "execution_count": 103,
   "metadata": {
    "collapsed": false
   },
   "outputs": [],
   "source": [
    "df2 = days_avg.sort_values(['Breed_outcome','Days_In'])[-10:]"
   ]
  },
  {
   "cell_type": "code",
   "execution_count": 104,
   "metadata": {
    "collapsed": false
   },
   "outputs": [
    {
     "data": {
      "text/html": [
       "<div>\n",
       "<table border=\"1\" class=\"dataframe\">\n",
       "  <thead>\n",
       "    <tr style=\"text-align: right;\">\n",
       "      <th></th>\n",
       "      <th>Count</th>\n",
       "      <th>Days_In</th>\n",
       "    </tr>\n",
       "    <tr>\n",
       "      <th>Breed_outcome</th>\n",
       "      <th></th>\n",
       "      <th></th>\n",
       "    </tr>\n",
       "  </thead>\n",
       "  <tbody>\n",
       "    <tr>\n",
       "      <th>Siamese Mix</th>\n",
       "      <td>758</td>\n",
       "      <td>18.961741</td>\n",
       "    </tr>\n",
       "    <tr>\n",
       "      <th>Dachshund</th>\n",
       "      <td>937</td>\n",
       "      <td>10.732124</td>\n",
       "    </tr>\n",
       "    <tr>\n",
       "      <th>Domestic Longhair Mix</th>\n",
       "      <td>980</td>\n",
       "      <td>24.886735</td>\n",
       "    </tr>\n",
       "    <tr>\n",
       "      <th>Australian Cattle Dog</th>\n",
       "      <td>1001</td>\n",
       "      <td>27.180819</td>\n",
       "    </tr>\n",
       "    <tr>\n",
       "      <th>German Shepherd</th>\n",
       "      <td>1669</td>\n",
       "      <td>22.524865</td>\n",
       "    </tr>\n",
       "    <tr>\n",
       "      <th>Domestic Medium Hair Mix</th>\n",
       "      <td>1725</td>\n",
       "      <td>20.058551</td>\n",
       "    </tr>\n",
       "    <tr>\n",
       "      <th>Labrador Retriever</th>\n",
       "      <td>3959</td>\n",
       "      <td>24.488002</td>\n",
       "    </tr>\n",
       "    <tr>\n",
       "      <th>Chihuahua Shorthair</th>\n",
       "      <td>4120</td>\n",
       "      <td>19.309223</td>\n",
       "    </tr>\n",
       "    <tr>\n",
       "      <th>Pit Bull</th>\n",
       "      <td>4312</td>\n",
       "      <td>44.365260</td>\n",
       "    </tr>\n",
       "    <tr>\n",
       "      <th>Domestic Shorthair Mix</th>\n",
       "      <td>17452</td>\n",
       "      <td>21.633051</td>\n",
       "    </tr>\n",
       "  </tbody>\n",
       "</table>\n",
       "</div>"
      ],
      "text/plain": [
       "                          Count    Days_In\n",
       "Breed_outcome                             \n",
       "Siamese Mix                 758  18.961741\n",
       "Dachshund                   937  10.732124\n",
       "Domestic Longhair Mix       980  24.886735\n",
       "Australian Cattle Dog      1001  27.180819\n",
       "German Shepherd            1669  22.524865\n",
       "Domestic Medium Hair Mix   1725  20.058551\n",
       "Labrador Retriever         3959  24.488002\n",
       "Chihuahua Shorthair        4120  19.309223\n",
       "Pit Bull                   4312  44.365260\n",
       "Domestic Shorthair Mix    17452  21.633051"
      ]
     },
     "execution_count": 104,
     "metadata": {},
     "output_type": "execute_result"
    }
   ],
   "source": [
    "df2 = df2.rename(columns = {'Breed_outcome': 'Count'})\n",
    "df2"
   ]
  },
  {
   "cell_type": "code",
   "execution_count": 105,
   "metadata": {
    "collapsed": false
   },
   "outputs": [],
   "source": [
    "ann_text = ['Count = ' + list(df2['Count'].astype(str))[i] for i in range(len(df2))]"
   ]
  },
  {
   "cell_type": "markdown",
   "metadata": {},
   "source": [
    "Here, we take a look at the average amount of time each breed spends in the shelter from 2013 - 2017. As you hover over the chart, the average days and the count of how many times that breed has come into the shelter over all 4 years are shown. "
   ]
  },
  {
   "cell_type": "code",
   "execution_count": 106,
   "metadata": {
    "collapsed": false
   },
   "outputs": [
    {
     "data": {
      "text/html": [
       "<iframe id=\"igraph\" scrolling=\"no\" style=\"border:none;\" seamless=\"seamless\" src=\"https://plot.ly/~ttran0/248.embed\" height=\"525px\" width=\"100%\"></iframe>"
      ],
      "text/plain": [
       "<plotly.tools.PlotlyDisplay object>"
      ]
     },
     "execution_count": 106,
     "metadata": {},
     "output_type": "execute_result"
    }
   ],
   "source": [
    "trace1 = go.Bar(\n",
    "    y = df2['Days_In'], \n",
    "    x = df2.index,\n",
    "    name = 'Average Days',\n",
    "    text = ann_text\n",
    ")\n",
    "\n",
    "layout = go.Layout(\n",
    "    title = 'Average Days in Shelter by Breed (2013 - 2017)', \n",
    "    yaxis = dict(title = 'Days')\n",
    "\n",
    ")\n",
    "data = [trace1]\n",
    "fig = go.Figure(data = data, layout = layout)\n",
    "# plotly.offline.iplot(fig)\n",
    "py.iplot(fig)"
   ]
  },
  {
   "cell_type": "markdown",
   "metadata": {},
   "source": [
    "- Summary:\n",
    "\n",
    "    - Pitbulls spend the longest amount of time in this shelter on average, about 44 days. They are also the second highest breed in count that this shelter receives. \n",
    "    -  Dachshunds spend the least amount of time in this shelter on average, about 11 days. They are the ninth highest breed in count that this shelter receives. \n",
    "    - The other breeds, including cats, roughly spend a similar amount of time in this shelter, about 20 days. "
   ]
  },
  {
   "cell_type": "code",
   "execution_count": 107,
   "metadata": {
    "collapsed": false
   },
   "outputs": [],
   "source": [
    "summary_outcome = pd.crosstab(df.Breed_outcome, df.Outcome).apply(lambda r: r/r.sum() * 100., axis = 1)"
   ]
  },
  {
   "cell_type": "code",
   "execution_count": 108,
   "metadata": {
    "collapsed": false
   },
   "outputs": [
    {
     "data": {
      "text/html": [
       "<div>\n",
       "<table border=\"1\" class=\"dataframe\">\n",
       "  <thead>\n",
       "    <tr style=\"text-align: right;\">\n",
       "      <th>Outcome</th>\n",
       "      <th>Adoption</th>\n",
       "      <th>Died</th>\n",
       "      <th>Disposal</th>\n",
       "      <th>Euthanasia</th>\n",
       "      <th>Missing</th>\n",
       "      <th>Return to Owner</th>\n",
       "      <th>Transfer</th>\n",
       "    </tr>\n",
       "    <tr>\n",
       "      <th>Breed_outcome</th>\n",
       "      <th></th>\n",
       "      <th></th>\n",
       "      <th></th>\n",
       "      <th></th>\n",
       "      <th></th>\n",
       "      <th></th>\n",
       "      <th></th>\n",
       "    </tr>\n",
       "  </thead>\n",
       "  <tbody>\n",
       "    <tr>\n",
       "      <th>Abyssinian Mix</th>\n",
       "      <td>66.666667</td>\n",
       "      <td>0.0</td>\n",
       "      <td>0.0</td>\n",
       "      <td>0.0</td>\n",
       "      <td>0.0</td>\n",
       "      <td>0.000000</td>\n",
       "      <td>33.333333</td>\n",
       "    </tr>\n",
       "    <tr>\n",
       "      <th>Affenpinscher</th>\n",
       "      <td>50.000000</td>\n",
       "      <td>0.0</td>\n",
       "      <td>0.0</td>\n",
       "      <td>0.0</td>\n",
       "      <td>0.0</td>\n",
       "      <td>50.000000</td>\n",
       "      <td>0.000000</td>\n",
       "    </tr>\n",
       "    <tr>\n",
       "      <th>Afghan Hound</th>\n",
       "      <td>0.000000</td>\n",
       "      <td>0.0</td>\n",
       "      <td>0.0</td>\n",
       "      <td>0.0</td>\n",
       "      <td>0.0</td>\n",
       "      <td>100.000000</td>\n",
       "      <td>0.000000</td>\n",
       "    </tr>\n",
       "    <tr>\n",
       "      <th>Airedale Terrier</th>\n",
       "      <td>41.176471</td>\n",
       "      <td>0.0</td>\n",
       "      <td>0.0</td>\n",
       "      <td>0.0</td>\n",
       "      <td>0.0</td>\n",
       "      <td>35.294118</td>\n",
       "      <td>23.529412</td>\n",
       "    </tr>\n",
       "    <tr>\n",
       "      <th>Akbash</th>\n",
       "      <td>100.000000</td>\n",
       "      <td>0.0</td>\n",
       "      <td>0.0</td>\n",
       "      <td>0.0</td>\n",
       "      <td>0.0</td>\n",
       "      <td>0.000000</td>\n",
       "      <td>0.000000</td>\n",
       "    </tr>\n",
       "  </tbody>\n",
       "</table>\n",
       "</div>"
      ],
      "text/plain": [
       "Outcome             Adoption  Died  Disposal  Euthanasia  Missing  \\\n",
       "Breed_outcome                                                       \n",
       "Abyssinian Mix     66.666667   0.0       0.0         0.0      0.0   \n",
       "Affenpinscher      50.000000   0.0       0.0         0.0      0.0   \n",
       "Afghan Hound        0.000000   0.0       0.0         0.0      0.0   \n",
       "Airedale Terrier   41.176471   0.0       0.0         0.0      0.0   \n",
       "Akbash            100.000000   0.0       0.0         0.0      0.0   \n",
       "\n",
       "Outcome           Return to Owner   Transfer  \n",
       "Breed_outcome                                 \n",
       "Abyssinian Mix           0.000000  33.333333  \n",
       "Affenpinscher           50.000000   0.000000  \n",
       "Afghan Hound           100.000000   0.000000  \n",
       "Airedale Terrier        35.294118  23.529412  \n",
       "Akbash                   0.000000   0.000000  "
      ]
     },
     "execution_count": 108,
     "metadata": {},
     "output_type": "execute_result"
    }
   ],
   "source": [
    "summary_outcome.head()"
   ]
  },
  {
   "cell_type": "markdown",
   "metadata": {},
   "source": [
    "Now let's take a look at outcome rate by breed. The worst possible outcome we want to occur is euthanasia and the best outcome is adoption or return to owner. We can see that the combinination of the rates of return to owner and adoption dominates the other outcome rates, which is a good sign. However, the transfer rates for some of these breeds are quite high such as domestic short hair, which are cats. "
   ]
  },
  {
   "cell_type": "code",
   "execution_count": 109,
   "metadata": {
    "collapsed": false
   },
   "outputs": [
    {
     "data": {
      "text/html": [
       "<iframe id=\"igraph\" scrolling=\"no\" style=\"border:none;\" seamless=\"seamless\" src=\"https://plot.ly/~ttran0/250.embed\" height=\"525px\" width=\"100%\"></iframe>"
      ],
      "text/plain": [
       "<plotly.tools.PlotlyDisplay object>"
      ]
     },
     "execution_count": 109,
     "metadata": {},
     "output_type": "execute_result"
    }
   ],
   "source": [
    "cols = summary_outcome.columns\n",
    "summary = summary_outcome[summary_outcome.index.isin(list(df2.index))][-10:]\n",
    "data = []\n",
    "for col in cols:\n",
    "    trace = go.Bar(\n",
    "        y = summary[col],\n",
    "        x = summary.index,\n",
    "        name = col\n",
    "    )\n",
    "    data.append(trace)\n",
    "    \n",
    "layout = go.Layout(\n",
    "    title = 'Outcome by Breed (2013 - 2017)',\n",
    "    yaxis = dict(title = 'Percentage'),\n",
    "#     xaxis = dict(title = 'Breed')\n",
    ")\n",
    "\n",
    "fig = go.Figure(data = data, layout = layout)\n",
    "# plotly.offline.iplot(fig)\n",
    "py.iplot(fig)"
   ]
  },
  {
   "cell_type": "markdown",
   "metadata": {},
   "source": [
    "- Summary:\n",
    "    - Among dogs, the majority of the outcome for every breed in the highest 10 breeds result in adoption or return to owner, which is a very good sign.\n",
    "    - Among cats (domestic long/medium/short hair, and siamese mix, they have a high transfer rate, which is not very indicative of their outcome. In fact, for domestic short/medium, their transfer rates are as high as their adoption rates. There is also a very low return to owner rate, about 7%, for cats. However, this is intuitive due to the high number of stray cats."
   ]
  },
  {
   "cell_type": "code",
   "execution_count": 110,
   "metadata": {
    "collapsed": true
   },
   "outputs": [],
   "source": [
    "year = [date[i].year for i in range(len(date))]"
   ]
  },
  {
   "cell_type": "code",
   "execution_count": 111,
   "metadata": {
    "collapsed": false
   },
   "outputs": [],
   "source": [
    "df3 = pd.concat([df, pd.DataFrame({'year': year})], axis = 1)"
   ]
  },
  {
   "cell_type": "code",
   "execution_count": 112,
   "metadata": {
    "collapsed": false
   },
   "outputs": [
    {
     "data": {
      "text/html": [
       "<div>\n",
       "<table border=\"1\" class=\"dataframe\">\n",
       "  <thead>\n",
       "    <tr style=\"text-align: right;\">\n",
       "      <th></th>\n",
       "      <th>ID</th>\n",
       "      <th>DateTime_intake</th>\n",
       "      <th>MonthYear_intake</th>\n",
       "      <th>Found_Location</th>\n",
       "      <th>Intake_Type</th>\n",
       "      <th>Intake_Condition</th>\n",
       "      <th>Sex_Intake</th>\n",
       "      <th>Age_Intake</th>\n",
       "      <th>Name_outcome</th>\n",
       "      <th>DateTime_outcome</th>\n",
       "      <th>MonthYear_outcome</th>\n",
       "      <th>Birth_Date</th>\n",
       "      <th>Outcome</th>\n",
       "      <th>Outcome_Subtype</th>\n",
       "      <th>Animal_Type_outcome</th>\n",
       "      <th>Sex_Outcome</th>\n",
       "      <th>Outcome_Age</th>\n",
       "      <th>Breed_outcome</th>\n",
       "      <th>Color_outcome</th>\n",
       "      <th>Days_In</th>\n",
       "      <th>Sex</th>\n",
       "      <th>Fixed</th>\n",
       "      <th>Month_Intake</th>\n",
       "      <th>Given_Name</th>\n",
       "      <th>year</th>\n",
       "    </tr>\n",
       "  </thead>\n",
       "  <tbody>\n",
       "    <tr>\n",
       "      <th>0</th>\n",
       "      <td>A730601</td>\n",
       "      <td>07/07/2016 12:11:00 PM</td>\n",
       "      <td>07/07/2016 12:11:00 PM</td>\n",
       "      <td>1109 Shady Ln in Austin (TX)</td>\n",
       "      <td>Stray</td>\n",
       "      <td>Normal</td>\n",
       "      <td>Intact Male</td>\n",
       "      <td>0.583333</td>\n",
       "      <td>NaN</td>\n",
       "      <td>07/08/2016 09:00:00 AM</td>\n",
       "      <td>07/08/2016 09:00:00 AM</td>\n",
       "      <td>12/07/2015</td>\n",
       "      <td>Transfer</td>\n",
       "      <td>SCRP</td>\n",
       "      <td>Cat</td>\n",
       "      <td>Neutered Male</td>\n",
       "      <td>0.583333</td>\n",
       "      <td>Domestic Shorthair Mix</td>\n",
       "      <td>Blue Tabby</td>\n",
       "      <td>1.0</td>\n",
       "      <td>male</td>\n",
       "      <td>fixed</td>\n",
       "      <td>July</td>\n",
       "      <td>0.0</td>\n",
       "      <td>2016</td>\n",
       "    </tr>\n",
       "    <tr>\n",
       "      <th>1</th>\n",
       "      <td>A683644</td>\n",
       "      <td>07/13/2014 11:02:00 AM</td>\n",
       "      <td>07/13/2014 11:02:00 AM</td>\n",
       "      <td>Austin (TX)</td>\n",
       "      <td>Owner Surrender</td>\n",
       "      <td>Nursing</td>\n",
       "      <td>Intact Female</td>\n",
       "      <td>0.076923</td>\n",
       "      <td>*Zoey</td>\n",
       "      <td>11/06/2014 10:06:00 AM</td>\n",
       "      <td>11/06/2014 10:06:00 AM</td>\n",
       "      <td>06/13/2014</td>\n",
       "      <td>Adoption</td>\n",
       "      <td>Foster</td>\n",
       "      <td>Dog</td>\n",
       "      <td>Spayed Female</td>\n",
       "      <td>0.333333</td>\n",
       "      <td>Border Collie</td>\n",
       "      <td>Brown</td>\n",
       "      <td>116.0</td>\n",
       "      <td>female</td>\n",
       "      <td>fixed</td>\n",
       "      <td>July</td>\n",
       "      <td>1.0</td>\n",
       "      <td>2014</td>\n",
       "    </tr>\n",
       "    <tr>\n",
       "      <th>2</th>\n",
       "      <td>A676515</td>\n",
       "      <td>04/11/2014 08:45:00 AM</td>\n",
       "      <td>04/11/2014 08:45:00 AM</td>\n",
       "      <td>615 E. Wonsley in Austin (TX)</td>\n",
       "      <td>Stray</td>\n",
       "      <td>Normal</td>\n",
       "      <td>Intact Male</td>\n",
       "      <td>0.166667</td>\n",
       "      <td>Rico</td>\n",
       "      <td>04/14/2014 06:38:00 PM</td>\n",
       "      <td>04/14/2014 06:38:00 PM</td>\n",
       "      <td>01/11/2014</td>\n",
       "      <td>Return to Owner</td>\n",
       "      <td>NaN</td>\n",
       "      <td>Dog</td>\n",
       "      <td>Neutered Male</td>\n",
       "      <td>0.250000</td>\n",
       "      <td>Pit Bull</td>\n",
       "      <td>White</td>\n",
       "      <td>3.0</td>\n",
       "      <td>male</td>\n",
       "      <td>fixed</td>\n",
       "      <td>April</td>\n",
       "      <td>1.0</td>\n",
       "      <td>2014</td>\n",
       "    </tr>\n",
       "    <tr>\n",
       "      <th>3</th>\n",
       "      <td>A742953</td>\n",
       "      <td>01/31/2017 01:30:00 PM</td>\n",
       "      <td>01/31/2017 01:30:00 PM</td>\n",
       "      <td>S Hwy 183 And Thompson Lane in Austin (TX)</td>\n",
       "      <td>Stray</td>\n",
       "      <td>Normal</td>\n",
       "      <td>Intact Male</td>\n",
       "      <td>2.000000</td>\n",
       "      <td>NaN</td>\n",
       "      <td>02/04/2017 02:17:00 PM</td>\n",
       "      <td>02/04/2017 02:17:00 PM</td>\n",
       "      <td>01/31/2015</td>\n",
       "      <td>Transfer</td>\n",
       "      <td>Partner</td>\n",
       "      <td>Dog</td>\n",
       "      <td>Intact Male</td>\n",
       "      <td>2.000000</td>\n",
       "      <td>Saluki</td>\n",
       "      <td>Sable</td>\n",
       "      <td>4.0</td>\n",
       "      <td>male</td>\n",
       "      <td>not_fixed</td>\n",
       "      <td>Janurary</td>\n",
       "      <td>0.0</td>\n",
       "      <td>2017</td>\n",
       "    </tr>\n",
       "    <tr>\n",
       "      <th>4</th>\n",
       "      <td>A679549</td>\n",
       "      <td>05/22/2014 03:43:00 PM</td>\n",
       "      <td>05/22/2014 03:43:00 PM</td>\n",
       "      <td>124 W Anderson in Austin (TX)</td>\n",
       "      <td>Stray</td>\n",
       "      <td>Normal</td>\n",
       "      <td>Intact Male</td>\n",
       "      <td>0.083333</td>\n",
       "      <td>*Gilbert</td>\n",
       "      <td>06/16/2014 01:54:00 PM</td>\n",
       "      <td>06/16/2014 01:54:00 PM</td>\n",
       "      <td>03/31/2014</td>\n",
       "      <td>Transfer</td>\n",
       "      <td>Partner</td>\n",
       "      <td>Cat</td>\n",
       "      <td>Neutered Male</td>\n",
       "      <td>0.166667</td>\n",
       "      <td>Domestic Shorthair Mix</td>\n",
       "      <td>Black</td>\n",
       "      <td>25.0</td>\n",
       "      <td>male</td>\n",
       "      <td>fixed</td>\n",
       "      <td>May</td>\n",
       "      <td>1.0</td>\n",
       "      <td>2014</td>\n",
       "    </tr>\n",
       "  </tbody>\n",
       "</table>\n",
       "</div>"
      ],
      "text/plain": [
       "        ID         DateTime_intake        MonthYear_intake  \\\n",
       "0  A730601  07/07/2016 12:11:00 PM  07/07/2016 12:11:00 PM   \n",
       "1  A683644  07/13/2014 11:02:00 AM  07/13/2014 11:02:00 AM   \n",
       "2  A676515  04/11/2014 08:45:00 AM  04/11/2014 08:45:00 AM   \n",
       "3  A742953  01/31/2017 01:30:00 PM  01/31/2017 01:30:00 PM   \n",
       "4  A679549  05/22/2014 03:43:00 PM  05/22/2014 03:43:00 PM   \n",
       "\n",
       "                               Found_Location      Intake_Type  \\\n",
       "0                1109 Shady Ln in Austin (TX)            Stray   \n",
       "1                                 Austin (TX)  Owner Surrender   \n",
       "2               615 E. Wonsley in Austin (TX)            Stray   \n",
       "3  S Hwy 183 And Thompson Lane in Austin (TX)            Stray   \n",
       "4               124 W Anderson in Austin (TX)            Stray   \n",
       "\n",
       "  Intake_Condition     Sex_Intake  Age_Intake Name_outcome  \\\n",
       "0           Normal    Intact Male    0.583333          NaN   \n",
       "1          Nursing  Intact Female    0.076923        *Zoey   \n",
       "2           Normal    Intact Male    0.166667         Rico   \n",
       "3           Normal    Intact Male    2.000000          NaN   \n",
       "4           Normal    Intact Male    0.083333     *Gilbert   \n",
       "\n",
       "         DateTime_outcome       MonthYear_outcome  Birth_Date  \\\n",
       "0  07/08/2016 09:00:00 AM  07/08/2016 09:00:00 AM  12/07/2015   \n",
       "1  11/06/2014 10:06:00 AM  11/06/2014 10:06:00 AM  06/13/2014   \n",
       "2  04/14/2014 06:38:00 PM  04/14/2014 06:38:00 PM  01/11/2014   \n",
       "3  02/04/2017 02:17:00 PM  02/04/2017 02:17:00 PM  01/31/2015   \n",
       "4  06/16/2014 01:54:00 PM  06/16/2014 01:54:00 PM  03/31/2014   \n",
       "\n",
       "           Outcome Outcome_Subtype Animal_Type_outcome    Sex_Outcome  \\\n",
       "0         Transfer            SCRP                 Cat  Neutered Male   \n",
       "1         Adoption          Foster                 Dog  Spayed Female   \n",
       "2  Return to Owner             NaN                 Dog  Neutered Male   \n",
       "3         Transfer         Partner                 Dog    Intact Male   \n",
       "4         Transfer         Partner                 Cat  Neutered Male   \n",
       "\n",
       "   Outcome_Age           Breed_outcome Color_outcome  Days_In     Sex  \\\n",
       "0     0.583333  Domestic Shorthair Mix    Blue Tabby      1.0    male   \n",
       "1     0.333333           Border Collie         Brown    116.0  female   \n",
       "2     0.250000                Pit Bull         White      3.0    male   \n",
       "3     2.000000                  Saluki         Sable      4.0    male   \n",
       "4     0.166667  Domestic Shorthair Mix         Black     25.0    male   \n",
       "\n",
       "       Fixed Month_Intake  Given_Name  year  \n",
       "0      fixed         July         0.0  2016  \n",
       "1      fixed         July         1.0  2014  \n",
       "2      fixed        April         1.0  2014  \n",
       "3  not_fixed     Janurary         0.0  2017  \n",
       "4      fixed          May         1.0  2014  "
      ]
     },
     "execution_count": 112,
     "metadata": {},
     "output_type": "execute_result"
    }
   ],
   "source": [
    "df3.head()"
   ]
  },
  {
   "cell_type": "code",
   "execution_count": 113,
   "metadata": {
    "collapsed": false
   },
   "outputs": [],
   "source": [
    "summary_by_year = pd.crosstab([df3.Breed_outcome, df3.Outcome], df3.year)"
   ]
  },
  {
   "cell_type": "code",
   "execution_count": 114,
   "metadata": {
    "collapsed": false
   },
   "outputs": [
    {
     "data": {
      "text/html": [
       "<div>\n",
       "<table border=\"1\" class=\"dataframe\">\n",
       "  <thead>\n",
       "    <tr style=\"text-align: right;\">\n",
       "      <th></th>\n",
       "      <th>year</th>\n",
       "      <th>2013</th>\n",
       "      <th>2014</th>\n",
       "      <th>2015</th>\n",
       "      <th>2016</th>\n",
       "      <th>2017</th>\n",
       "    </tr>\n",
       "    <tr>\n",
       "      <th>Breed_outcome</th>\n",
       "      <th>Outcome</th>\n",
       "      <th></th>\n",
       "      <th></th>\n",
       "      <th></th>\n",
       "      <th></th>\n",
       "      <th></th>\n",
       "    </tr>\n",
       "  </thead>\n",
       "  <tbody>\n",
       "    <tr>\n",
       "      <th rowspan=\"2\" valign=\"top\">Abyssinian Mix</th>\n",
       "      <th>Adoption</th>\n",
       "      <td>1</td>\n",
       "      <td>0</td>\n",
       "      <td>1</td>\n",
       "      <td>0</td>\n",
       "      <td>0</td>\n",
       "    </tr>\n",
       "    <tr>\n",
       "      <th>Transfer</th>\n",
       "      <td>1</td>\n",
       "      <td>0</td>\n",
       "      <td>0</td>\n",
       "      <td>0</td>\n",
       "      <td>0</td>\n",
       "    </tr>\n",
       "    <tr>\n",
       "      <th rowspan=\"2\" valign=\"top\">Affenpinscher</th>\n",
       "      <th>Adoption</th>\n",
       "      <td>1</td>\n",
       "      <td>2</td>\n",
       "      <td>0</td>\n",
       "      <td>0</td>\n",
       "      <td>0</td>\n",
       "    </tr>\n",
       "    <tr>\n",
       "      <th>Return to Owner</th>\n",
       "      <td>0</td>\n",
       "      <td>1</td>\n",
       "      <td>1</td>\n",
       "      <td>1</td>\n",
       "      <td>0</td>\n",
       "    </tr>\n",
       "    <tr>\n",
       "      <th>Afghan Hound</th>\n",
       "      <th>Return to Owner</th>\n",
       "      <td>1</td>\n",
       "      <td>0</td>\n",
       "      <td>0</td>\n",
       "      <td>0</td>\n",
       "      <td>0</td>\n",
       "    </tr>\n",
       "  </tbody>\n",
       "</table>\n",
       "</div>"
      ],
      "text/plain": [
       "year                            2013  2014  2015  2016  2017\n",
       "Breed_outcome  Outcome                                      \n",
       "Abyssinian Mix Adoption            1     0     1     0     0\n",
       "               Transfer            1     0     0     0     0\n",
       "Affenpinscher  Adoption            1     2     0     0     0\n",
       "               Return to Owner     0     1     1     1     0\n",
       "Afghan Hound   Return to Owner     1     0     0     0     0"
      ]
     },
     "execution_count": 114,
     "metadata": {},
     "output_type": "execute_result"
    }
   ],
   "source": [
    "summary_by_year.head()"
   ]
  },
  {
   "cell_type": "code",
   "execution_count": 115,
   "metadata": {
    "collapsed": false
   },
   "outputs": [],
   "source": [
    "df4 = summary_by_year[summary_by_year.index.get_level_values(0).isin(df2.index)]"
   ]
  },
  {
   "cell_type": "code",
   "execution_count": 116,
   "metadata": {
    "collapsed": true
   },
   "outputs": [],
   "source": [
    "breeds = df4.index.get_level_values(0).unique().tolist()\n",
    "show = np.array(range(1, 65))\n",
    "# s = (show < 1e6).tolist()\n",
    "# button.append(dict(args = ['visible', s], label = 'All', method = 'restyle'))\n",
    "button = []\n",
    "data = []\n",
    "count = 0\n",
    "for breed in breeds:\n",
    "    # Determine visiblility for drop down menu\n",
    "    outcomes = df4.loc[breed].index.get_level_values(0).unique().tolist()\n",
    "    s = ((show <= (len(outcomes) + count)) & (show > count)).tolist()\n",
    "    count += len(outcomes)\n",
    "    button.append(dict(args = ['visible', s], label = breed, method = 'restyle'))\n",
    "    for outcome in outcomes:\n",
    "        xlab = df4.loc[breed].columns.tolist()\n",
    "        totals = df4.groupby(level = 0).sum().loc[breed]\n",
    "        ylab = df4.loc[breed].loc[outcome]/totals * 100\n",
    "        #Use to define first breed visibility in plot\n",
    "        if breed == breeds[0]:\n",
    "            v = True\n",
    "        else:\n",
    "            v = False\n",
    "        trace = go.Scatter(\n",
    "            x = xlab,\n",
    "            y = ylab,\n",
    "            name = outcome,\n",
    "            visible = v\n",
    "        )\n",
    "        data.append(trace)\n",
    "        \n",
    "\n",
    "layout = go.Layout(\n",
    "title = 'Outcome Percentages by Breed',\n",
    "xaxis = dict(title = 'Year'),\n",
    "yaxis = dict(title = 'Percentage %'),\n",
    "updatemenus = list([\n",
    "    dict(\n",
    "    x = -0.05, \n",
    "    y = 1,\n",
    "    yanchor = 'top',\n",
    "    buttons = button\n",
    "    )\n",
    "])\n",
    ")\n",
    "\n",
    "fig = go.Figure(data = data, layout = layout)"
   ]
  },
  {
   "cell_type": "markdown",
   "metadata": {},
   "source": [
    "Now, let's take a look at how the percentage of outcome for each breed changes over the years between 2013 and 2017. Below is a plot that shows the outcome rates by breed. On the left, we can change the breed with the drop down menu. "
   ]
  },
  {
   "cell_type": "code",
   "execution_count": 117,
   "metadata": {
    "collapsed": false
   },
   "outputs": [
    {
     "data": {
      "text/html": [
       "<iframe id=\"igraph\" scrolling=\"no\" style=\"border:none;\" seamless=\"seamless\" src=\"https://plot.ly/~ttran0/252.embed\" height=\"525px\" width=\"100%\"></iframe>"
      ],
      "text/plain": [
       "<plotly.tools.PlotlyDisplay object>"
      ]
     },
     "execution_count": 117,
     "metadata": {},
     "output_type": "execute_result"
    }
   ],
   "source": [
    "# plotly.offline.iplot(fig)\n",
    "py.iplot(fig)"
   ]
  },
  {
   "cell_type": "markdown",
   "metadata": {},
   "source": [
    "- Quick Summary:\n",
    "     - The rates that stand out the most for dog breeds are the rates for positive outcomes such as adoption and return to owner for Pitbulls and Labrador Retrievers. They have increased from year to year and both of their transfer rates have decreased. Additionally, both breeds' euthanasia rates decrease tremendously from year to year. \n",
    "     \n",
    "     - Domestic longhair mix and domestic medium hair mix adoption rates have increased as well.\n",
    "     \n",
    "     - The other breeds' adoption and return to owner rates fluctuate from year to year. However, the breeds that have decreasing adoption rates have increasing return to owner rates or vice versa. \n",
    "\n",
    "Remark: Keep in mind that this data only goes into March 2017 so the rates for 2017 is from a small sample size of what the rest of the year will turn out to be. "
   ]
  },
  {
   "cell_type": "markdown",
   "metadata": {},
   "source": [
    "### Predictive Analysis\n",
    "Now, we will use machine learning to see how well we can predict an animal's outcome using the features stated below and also see how much integrating the intake data improves our prediction over just using outcome data. "
   ]
  },
  {
   "cell_type": "markdown",
   "metadata": {},
   "source": [
    "Features we will use:\n",
    "- Intake Type\n",
    "- Intake Condition\n",
    "- Age Intake\n",
    "- Given Name\n",
    "- Animal Type\n",
    "- Breed Outcome\n",
    "- Color Outcome\n",
    "- Sex\n",
    "- Fixed\n",
    "- Month Intake\n",
    "- Days In\n",
    "\n",
    "Labels\n",
    "- Outcome "
   ]
  },
  {
   "cell_type": "code",
   "execution_count": 118,
   "metadata": {
    "collapsed": true
   },
   "outputs": [],
   "source": [
    "features = ['Intake_Type', 'Intake_Condition', 'Age_Intake', 'Given_Name', 'Animal_Type_outcome', 'Breed_outcome',\n",
    "           'Color_outcome', 'Sex', 'Fixed', 'Month_Intake','Days_In', 'Outcome']\n",
    "df1 = df[features]"
   ]
  },
  {
   "cell_type": "code",
   "execution_count": 119,
   "metadata": {
    "collapsed": false
   },
   "outputs": [
    {
     "data": {
      "text/html": [
       "<div>\n",
       "<table border=\"1\" class=\"dataframe\">\n",
       "  <thead>\n",
       "    <tr style=\"text-align: right;\">\n",
       "      <th></th>\n",
       "      <th>Intake_Type</th>\n",
       "      <th>Intake_Condition</th>\n",
       "      <th>Age_Intake</th>\n",
       "      <th>Given_Name</th>\n",
       "      <th>Animal_Type_outcome</th>\n",
       "      <th>Breed_outcome</th>\n",
       "      <th>Color_outcome</th>\n",
       "      <th>Sex</th>\n",
       "      <th>Fixed</th>\n",
       "      <th>Month_Intake</th>\n",
       "      <th>Days_In</th>\n",
       "      <th>Outcome</th>\n",
       "    </tr>\n",
       "  </thead>\n",
       "  <tbody>\n",
       "    <tr>\n",
       "      <th>0</th>\n",
       "      <td>Stray</td>\n",
       "      <td>Normal</td>\n",
       "      <td>0.583333</td>\n",
       "      <td>0.0</td>\n",
       "      <td>Cat</td>\n",
       "      <td>Domestic Shorthair Mix</td>\n",
       "      <td>Blue Tabby</td>\n",
       "      <td>male</td>\n",
       "      <td>fixed</td>\n",
       "      <td>July</td>\n",
       "      <td>1</td>\n",
       "      <td>Transfer</td>\n",
       "    </tr>\n",
       "    <tr>\n",
       "      <th>1</th>\n",
       "      <td>Owner Surrender</td>\n",
       "      <td>Nursing</td>\n",
       "      <td>0.076923</td>\n",
       "      <td>1.0</td>\n",
       "      <td>Dog</td>\n",
       "      <td>Border Collie</td>\n",
       "      <td>Brown</td>\n",
       "      <td>female</td>\n",
       "      <td>fixed</td>\n",
       "      <td>July</td>\n",
       "      <td>116</td>\n",
       "      <td>Adoption</td>\n",
       "    </tr>\n",
       "    <tr>\n",
       "      <th>2</th>\n",
       "      <td>Stray</td>\n",
       "      <td>Normal</td>\n",
       "      <td>0.166667</td>\n",
       "      <td>1.0</td>\n",
       "      <td>Dog</td>\n",
       "      <td>Pit Bull</td>\n",
       "      <td>White</td>\n",
       "      <td>male</td>\n",
       "      <td>fixed</td>\n",
       "      <td>April</td>\n",
       "      <td>3</td>\n",
       "      <td>Return to Owner</td>\n",
       "    </tr>\n",
       "    <tr>\n",
       "      <th>3</th>\n",
       "      <td>Stray</td>\n",
       "      <td>Normal</td>\n",
       "      <td>2.000000</td>\n",
       "      <td>0.0</td>\n",
       "      <td>Dog</td>\n",
       "      <td>Saluki</td>\n",
       "      <td>Sable</td>\n",
       "      <td>male</td>\n",
       "      <td>not_fixed</td>\n",
       "      <td>Janurary</td>\n",
       "      <td>4</td>\n",
       "      <td>Transfer</td>\n",
       "    </tr>\n",
       "    <tr>\n",
       "      <th>4</th>\n",
       "      <td>Stray</td>\n",
       "      <td>Normal</td>\n",
       "      <td>0.083333</td>\n",
       "      <td>1.0</td>\n",
       "      <td>Cat</td>\n",
       "      <td>Domestic Shorthair Mix</td>\n",
       "      <td>Black</td>\n",
       "      <td>male</td>\n",
       "      <td>fixed</td>\n",
       "      <td>May</td>\n",
       "      <td>25</td>\n",
       "      <td>Transfer</td>\n",
       "    </tr>\n",
       "  </tbody>\n",
       "</table>\n",
       "</div>"
      ],
      "text/plain": [
       "       Intake_Type Intake_Condition  Age_Intake  Given_Name  \\\n",
       "0            Stray           Normal    0.583333         0.0   \n",
       "1  Owner Surrender          Nursing    0.076923         1.0   \n",
       "2            Stray           Normal    0.166667         1.0   \n",
       "3            Stray           Normal    2.000000         0.0   \n",
       "4            Stray           Normal    0.083333         1.0   \n",
       "\n",
       "  Animal_Type_outcome           Breed_outcome Color_outcome     Sex  \\\n",
       "0                 Cat  Domestic Shorthair Mix    Blue Tabby    male   \n",
       "1                 Dog           Border Collie         Brown  female   \n",
       "2                 Dog                Pit Bull         White    male   \n",
       "3                 Dog                  Saluki         Sable    male   \n",
       "4                 Cat  Domestic Shorthair Mix         Black    male   \n",
       "\n",
       "       Fixed Month_Intake  Days_In          Outcome  \n",
       "0      fixed         July        1         Transfer  \n",
       "1      fixed         July      116         Adoption  \n",
       "2      fixed        April        3  Return to Owner  \n",
       "3  not_fixed     Janurary        4         Transfer  \n",
       "4      fixed          May       25         Transfer  "
      ]
     },
     "execution_count": 119,
     "metadata": {},
     "output_type": "execute_result"
    }
   ],
   "source": [
    "df1.head()"
   ]
  },
  {
   "cell_type": "markdown",
   "metadata": {},
   "source": [
    "### Convert categorical variables \n",
    "To deal with our categorical variables, I will use binary encoding. Typically, one would use one hot encoding, but recent papers have shown that binary encoding not only has better performances under many circumstances, it also takes less memory in data than one hot encoding, which will help us with running our models. "
   ]
  },
  {
   "cell_type": "markdown",
   "metadata": {},
   "source": [
    "Features that need to be converted to binary\n",
    "- Intake Type\n",
    "- Intake Condition\n",
    "- Animal Type\n",
    "- Breed Outcome\n",
    "- Color Outcome\n",
    "- Sex\n",
    "- Fixed\n",
    "- Month Intake\n",
    "\n",
    "Features that do not need to be converted to binary\n",
    "- Age Intake\n",
    "- Days In\n",
    "- Given Name\n",
    "\n",
    "Label Encode:\n",
    "- Outcome"
   ]
  },
  {
   "cell_type": "code",
   "execution_count": 120,
   "metadata": {
    "collapsed": false
   },
   "outputs": [
    {
     "name": "stderr",
     "output_type": "stream",
     "text": [
      "/Users/truong/anaconda/lib/python3.6/site-packages/category_encoders/ordinal.py:178: FutureWarning:\n",
      "\n",
      "reshape is deprecated and will raise in a subsequent release. Please use .values.reshape(...) instead\n",
      "\n",
      "/Users/truong/anaconda/lib/python3.6/site-packages/category_encoders/ordinal.py:167: FutureWarning:\n",
      "\n",
      "reshape is deprecated and will raise in a subsequent release. Please use .values.reshape(...) instead\n",
      "\n"
     ]
    }
   ],
   "source": [
    "categorical_vars = ['Intake_Type', 'Intake_Condition', 'Animal_Type_outcome', 'Breed_outcome', 'Color_outcome', \n",
    "                   'Sex','Fixed', 'Month_Intake']\n",
    "\n",
    "binary = ce.binary.BinaryEncoder(cols = categorical_vars)\n",
    "binary.fit(df1)\n",
    "dat = binary.transform(df1)"
   ]
  },
  {
   "cell_type": "code",
   "execution_count": 121,
   "metadata": {
    "collapsed": false
   },
   "outputs": [
    {
     "data": {
      "text/plain": [
       "Adoption           22342\n",
       "Transfer           17575\n",
       "Return to Owner     9495\n",
       "Euthanasia          2472\n",
       "Died                 411\n",
       "Missing               36\n",
       "Disposal              21\n",
       "Name: Outcome, dtype: int64"
      ]
     },
     "execution_count": 121,
     "metadata": {},
     "output_type": "execute_result"
    }
   ],
   "source": [
    "labels = dat['Outcome']\n",
    "labels.value_counts()"
   ]
  },
  {
   "cell_type": "code",
   "execution_count": 122,
   "metadata": {
    "collapsed": false
   },
   "outputs": [],
   "source": [
    "le = LabelEncoder()\n",
    "lab = le.fit_transform(labels)"
   ]
  },
  {
   "cell_type": "code",
   "execution_count": 123,
   "metadata": {
    "collapsed": false
   },
   "outputs": [
    {
     "data": {
      "text/plain": [
       "array(['Adoption', 'Died', 'Disposal', 'Euthanasia', 'Missing',\n",
       "       'Return to Owner', 'Transfer'], dtype=object)"
      ]
     },
     "execution_count": 123,
     "metadata": {},
     "output_type": "execute_result"
    }
   ],
   "source": [
    "le.classes_"
   ]
  },
  {
   "cell_type": "code",
   "execution_count": 124,
   "metadata": {
    "collapsed": true
   },
   "outputs": [],
   "source": [
    "dat = dat.drop(['Outcome', 'Days_In'], axis = 1)"
   ]
  },
  {
   "cell_type": "markdown",
   "metadata": {},
   "source": [
    "This will be the final dataset that we will use for our machine learning models. We can see that all of the categorical variables have been binary encoded and that our labels for outcomes have also been encoded with correspondance:\n",
    "\n",
    "- 0: Adoption\n",
    "- 1: Died\n",
    "- 2: Disposal\n",
    "- 3: Euthanasia\n",
    "- 4: Missing\n",
    "- 5: Return to owner\n",
    "- 6: Transfer"
   ]
  },
  {
   "cell_type": "code",
   "execution_count": 125,
   "metadata": {
    "collapsed": false
   },
   "outputs": [
    {
     "data": {
      "text/html": [
       "<div>\n",
       "<table border=\"1\" class=\"dataframe\">\n",
       "  <thead>\n",
       "    <tr style=\"text-align: right;\">\n",
       "      <th></th>\n",
       "      <th>Intake_Type_0</th>\n",
       "      <th>Intake_Type_1</th>\n",
       "      <th>Intake_Condition_0</th>\n",
       "      <th>Intake_Condition_1</th>\n",
       "      <th>Intake_Condition_2</th>\n",
       "      <th>Animal_Type_outcome_0</th>\n",
       "      <th>Breed_outcome_0</th>\n",
       "      <th>Breed_outcome_1</th>\n",
       "      <th>Breed_outcome_2</th>\n",
       "      <th>Breed_outcome_3</th>\n",
       "      <th>Breed_outcome_4</th>\n",
       "      <th>Breed_outcome_5</th>\n",
       "      <th>Breed_outcome_6</th>\n",
       "      <th>Breed_outcome_7</th>\n",
       "      <th>Breed_outcome_8</th>\n",
       "      <th>Color_outcome_0</th>\n",
       "      <th>Color_outcome_1</th>\n",
       "      <th>Color_outcome_2</th>\n",
       "      <th>Color_outcome_3</th>\n",
       "      <th>Color_outcome_4</th>\n",
       "      <th>Color_outcome_5</th>\n",
       "      <th>Sex_0</th>\n",
       "      <th>Sex_1</th>\n",
       "      <th>Fixed_0</th>\n",
       "      <th>Fixed_1</th>\n",
       "      <th>Month_Intake_0</th>\n",
       "      <th>Month_Intake_1</th>\n",
       "      <th>Month_Intake_2</th>\n",
       "      <th>Month_Intake_3</th>\n",
       "      <th>Age_Intake</th>\n",
       "      <th>Given_Name</th>\n",
       "    </tr>\n",
       "  </thead>\n",
       "  <tbody>\n",
       "    <tr>\n",
       "      <th>0</th>\n",
       "      <td>1</td>\n",
       "      <td>0</td>\n",
       "      <td>0</td>\n",
       "      <td>1</td>\n",
       "      <td>1</td>\n",
       "      <td>0</td>\n",
       "      <td>0</td>\n",
       "      <td>1</td>\n",
       "      <td>1</td>\n",
       "      <td>1</td>\n",
       "      <td>0</td>\n",
       "      <td>0</td>\n",
       "      <td>1</td>\n",
       "      <td>1</td>\n",
       "      <td>0</td>\n",
       "      <td>0</td>\n",
       "      <td>0</td>\n",
       "      <td>0</td>\n",
       "      <td>1</td>\n",
       "      <td>1</td>\n",
       "      <td>0</td>\n",
       "      <td>1</td>\n",
       "      <td>0</td>\n",
       "      <td>0</td>\n",
       "      <td>1</td>\n",
       "      <td>0</td>\n",
       "      <td>1</td>\n",
       "      <td>1</td>\n",
       "      <td>0</td>\n",
       "      <td>0.583333</td>\n",
       "      <td>0.0</td>\n",
       "    </tr>\n",
       "    <tr>\n",
       "      <th>1</th>\n",
       "      <td>0</td>\n",
       "      <td>1</td>\n",
       "      <td>0</td>\n",
       "      <td>0</td>\n",
       "      <td>1</td>\n",
       "      <td>1</td>\n",
       "      <td>0</td>\n",
       "      <td>1</td>\n",
       "      <td>1</td>\n",
       "      <td>1</td>\n",
       "      <td>1</td>\n",
       "      <td>0</td>\n",
       "      <td>1</td>\n",
       "      <td>1</td>\n",
       "      <td>1</td>\n",
       "      <td>1</td>\n",
       "      <td>0</td>\n",
       "      <td>1</td>\n",
       "      <td>0</td>\n",
       "      <td>1</td>\n",
       "      <td>0</td>\n",
       "      <td>0</td>\n",
       "      <td>1</td>\n",
       "      <td>0</td>\n",
       "      <td>1</td>\n",
       "      <td>0</td>\n",
       "      <td>1</td>\n",
       "      <td>1</td>\n",
       "      <td>0</td>\n",
       "      <td>0.076923</td>\n",
       "      <td>1.0</td>\n",
       "    </tr>\n",
       "    <tr>\n",
       "      <th>2</th>\n",
       "      <td>1</td>\n",
       "      <td>0</td>\n",
       "      <td>0</td>\n",
       "      <td>1</td>\n",
       "      <td>1</td>\n",
       "      <td>1</td>\n",
       "      <td>0</td>\n",
       "      <td>1</td>\n",
       "      <td>1</td>\n",
       "      <td>1</td>\n",
       "      <td>1</td>\n",
       "      <td>1</td>\n",
       "      <td>0</td>\n",
       "      <td>0</td>\n",
       "      <td>1</td>\n",
       "      <td>0</td>\n",
       "      <td>1</td>\n",
       "      <td>1</td>\n",
       "      <td>1</td>\n",
       "      <td>1</td>\n",
       "      <td>1</td>\n",
       "      <td>1</td>\n",
       "      <td>0</td>\n",
       "      <td>0</td>\n",
       "      <td>1</td>\n",
       "      <td>1</td>\n",
       "      <td>0</td>\n",
       "      <td>1</td>\n",
       "      <td>0</td>\n",
       "      <td>0.166667</td>\n",
       "      <td>1.0</td>\n",
       "    </tr>\n",
       "    <tr>\n",
       "      <th>3</th>\n",
       "      <td>1</td>\n",
       "      <td>0</td>\n",
       "      <td>0</td>\n",
       "      <td>1</td>\n",
       "      <td>1</td>\n",
       "      <td>1</td>\n",
       "      <td>0</td>\n",
       "      <td>0</td>\n",
       "      <td>0</td>\n",
       "      <td>1</td>\n",
       "      <td>0</td>\n",
       "      <td>0</td>\n",
       "      <td>0</td>\n",
       "      <td>1</td>\n",
       "      <td>1</td>\n",
       "      <td>0</td>\n",
       "      <td>0</td>\n",
       "      <td>0</td>\n",
       "      <td>1</td>\n",
       "      <td>0</td>\n",
       "      <td>0</td>\n",
       "      <td>1</td>\n",
       "      <td>0</td>\n",
       "      <td>0</td>\n",
       "      <td>0</td>\n",
       "      <td>0</td>\n",
       "      <td>1</td>\n",
       "      <td>0</td>\n",
       "      <td>1</td>\n",
       "      <td>2.000000</td>\n",
       "      <td>0.0</td>\n",
       "    </tr>\n",
       "    <tr>\n",
       "      <th>4</th>\n",
       "      <td>1</td>\n",
       "      <td>0</td>\n",
       "      <td>0</td>\n",
       "      <td>1</td>\n",
       "      <td>1</td>\n",
       "      <td>0</td>\n",
       "      <td>0</td>\n",
       "      <td>1</td>\n",
       "      <td>1</td>\n",
       "      <td>1</td>\n",
       "      <td>0</td>\n",
       "      <td>0</td>\n",
       "      <td>1</td>\n",
       "      <td>1</td>\n",
       "      <td>0</td>\n",
       "      <td>1</td>\n",
       "      <td>1</td>\n",
       "      <td>0</td>\n",
       "      <td>0</td>\n",
       "      <td>1</td>\n",
       "      <td>0</td>\n",
       "      <td>1</td>\n",
       "      <td>0</td>\n",
       "      <td>0</td>\n",
       "      <td>1</td>\n",
       "      <td>0</td>\n",
       "      <td>1</td>\n",
       "      <td>0</td>\n",
       "      <td>0</td>\n",
       "      <td>0.083333</td>\n",
       "      <td>1.0</td>\n",
       "    </tr>\n",
       "  </tbody>\n",
       "</table>\n",
       "</div>"
      ],
      "text/plain": [
       "   Intake_Type_0  Intake_Type_1  Intake_Condition_0  Intake_Condition_1  \\\n",
       "0              1              0                   0                   1   \n",
       "1              0              1                   0                   0   \n",
       "2              1              0                   0                   1   \n",
       "3              1              0                   0                   1   \n",
       "4              1              0                   0                   1   \n",
       "\n",
       "   Intake_Condition_2  Animal_Type_outcome_0  Breed_outcome_0  \\\n",
       "0                   1                      0                0   \n",
       "1                   1                      1                0   \n",
       "2                   1                      1                0   \n",
       "3                   1                      1                0   \n",
       "4                   1                      0                0   \n",
       "\n",
       "   Breed_outcome_1  Breed_outcome_2  Breed_outcome_3  Breed_outcome_4  \\\n",
       "0                1                1                1                0   \n",
       "1                1                1                1                1   \n",
       "2                1                1                1                1   \n",
       "3                0                0                1                0   \n",
       "4                1                1                1                0   \n",
       "\n",
       "   Breed_outcome_5  Breed_outcome_6  Breed_outcome_7  Breed_outcome_8  \\\n",
       "0                0                1                1                0   \n",
       "1                0                1                1                1   \n",
       "2                1                0                0                1   \n",
       "3                0                0                1                1   \n",
       "4                0                1                1                0   \n",
       "\n",
       "   Color_outcome_0  Color_outcome_1  Color_outcome_2  Color_outcome_3  \\\n",
       "0                0                0                0                1   \n",
       "1                1                0                1                0   \n",
       "2                0                1                1                1   \n",
       "3                0                0                0                1   \n",
       "4                1                1                0                0   \n",
       "\n",
       "   Color_outcome_4  Color_outcome_5  Sex_0  Sex_1  Fixed_0  Fixed_1  \\\n",
       "0                1                0      1      0        0        1   \n",
       "1                1                0      0      1        0        1   \n",
       "2                1                1      1      0        0        1   \n",
       "3                0                0      1      0        0        0   \n",
       "4                1                0      1      0        0        1   \n",
       "\n",
       "   Month_Intake_0  Month_Intake_1  Month_Intake_2  Month_Intake_3  Age_Intake  \\\n",
       "0               0               1               1               0    0.583333   \n",
       "1               0               1               1               0    0.076923   \n",
       "2               1               0               1               0    0.166667   \n",
       "3               0               1               0               1    2.000000   \n",
       "4               0               1               0               0    0.083333   \n",
       "\n",
       "   Given_Name  \n",
       "0         0.0  \n",
       "1         1.0  \n",
       "2         1.0  \n",
       "3         0.0  \n",
       "4         1.0  "
      ]
     },
     "execution_count": 125,
     "metadata": {},
     "output_type": "execute_result"
    }
   ],
   "source": [
    "dat.head()"
   ]
  },
  {
   "cell_type": "code",
   "execution_count": 127,
   "metadata": {
    "collapsed": false,
    "scrolled": true
   },
   "outputs": [
    {
     "data": {
      "text/plain": [
       "array([0, 6, 6, 5, 0, 0, 0, 0, 6, 5, 0, 3, 5, 0, 6])"
      ]
     },
     "execution_count": 127,
     "metadata": {},
     "output_type": "execute_result"
    }
   ],
   "source": [
    "lab[10:25]"
   ]
  },
  {
   "cell_type": "markdown",
   "metadata": {},
   "source": [
    "### Get training and testing sets"
   ]
  },
  {
   "cell_type": "markdown",
   "metadata": {},
   "source": [
    "We will do a random split of our data to construct the training and testing set. The training set will contain 70% of the original data and the test set will contain the rest, 30%. "
   ]
  },
  {
   "cell_type": "code",
   "execution_count": 129,
   "metadata": {
    "collapsed": true
   },
   "outputs": [],
   "source": [
    "X_train, X_test, Y_train, Y_test = train_test_split(dat, lab, test_size = 0.30)"
   ]
  },
  {
   "cell_type": "code",
   "execution_count": 130,
   "metadata": {
    "collapsed": false
   },
   "outputs": [
    {
     "data": {
      "text/plain": [
       "array([  4.28941767e-01,   8.04999181e-03,   3.54745402e-04,\n",
       "         4.60623260e-02,   6.82202696e-04,   1.79528461e-01,\n",
       "         3.36380505e-01])"
      ]
     },
     "execution_count": 130,
     "metadata": {},
     "output_type": "execute_result"
    }
   ],
   "source": [
    "np.bincount(Y_train)/float(len(Y_train))"
   ]
  },
  {
   "cell_type": "code",
   "execution_count": 131,
   "metadata": {
    "collapsed": true
   },
   "outputs": [],
   "source": [
    "# Normalize training and testing set\n",
    "X_train = normalize(X_train, axis = 0)\n",
    "X_test = normalize(X_test, axis = 0)"
   ]
  },
  {
   "cell_type": "markdown",
   "metadata": {},
   "source": [
    "### Gradient Boosting "
   ]
  },
  {
   "cell_type": "markdown",
   "metadata": {},
   "source": [
    "First, we will do a grid serach to find the best parameters for the best results. There will be 54 fits in total using 3 fold cross validation sets. After running this model, we will compare the results with the model used last analysis that just used the outcome data. As a reminder, the results we got from the last analysis was a 64% prediction accuracy and a 0.86 log loss using XGBoost."
   ]
  },
  {
   "cell_type": "code",
   "execution_count": 132,
   "metadata": {
    "collapsed": true
   },
   "outputs": [],
   "source": [
    "params = {'n_estimators':[250, 300, 350], 'max_depth': [3, 4, 5], 'max_features':['sqrt', 'log2']}\n",
    "gb_gs = GridSearchCV(GradientBoostingClassifier(), params, verbose = 1)"
   ]
  },
  {
   "cell_type": "code",
   "execution_count": 133,
   "metadata": {
    "collapsed": false
   },
   "outputs": [
    {
     "name": "stdout",
     "output_type": "stream",
     "text": [
      "Fitting 3 folds for each of 18 candidates, totalling 54 fits\n"
     ]
    },
    {
     "name": "stderr",
     "output_type": "stream",
     "text": [
      "[Parallel(n_jobs=1)]: Done  54 out of  54 | elapsed: 30.1min finished\n"
     ]
    },
    {
     "data": {
      "text/plain": [
       "GridSearchCV(cv=None, error_score='raise',\n",
       "       estimator=GradientBoostingClassifier(criterion='friedman_mse', init=None,\n",
       "              learning_rate=0.1, loss='deviance', max_depth=3,\n",
       "              max_features=None, max_leaf_nodes=None,\n",
       "              min_impurity_split=1e-07, min_samples_leaf=1,\n",
       "              min_samples_split=2, min_weight_fraction_leaf=0.0,\n",
       "              n_estimators=100, presort='auto', random_state=None,\n",
       "              subsample=1.0, verbose=0, warm_start=False),\n",
       "       fit_params={}, iid=True, n_jobs=1,\n",
       "       param_grid={'n_estimators': [250, 300, 350], 'max_depth': [3, 4, 5], 'max_features': ['sqrt', 'log2']},\n",
       "       pre_dispatch='2*n_jobs', refit=True, return_train_score=True,\n",
       "       scoring=None, verbose=1)"
      ]
     },
     "execution_count": 133,
     "metadata": {},
     "output_type": "execute_result"
    }
   ],
   "source": [
    "gb_gs.fit(X_train, Y_train)"
   ]
  },
  {
   "cell_type": "code",
   "execution_count": 134,
   "metadata": {
    "collapsed": false
   },
   "outputs": [
    {
     "data": {
      "text/plain": [
       "{'max_depth': 4, 'max_features': 'log2', 'n_estimators': 300}"
      ]
     },
     "execution_count": 134,
     "metadata": {},
     "output_type": "execute_result"
    }
   ],
   "source": [
    "gb_gs.best_params_"
   ]
  },
  {
   "cell_type": "code",
   "execution_count": 135,
   "metadata": {
    "collapsed": false
   },
   "outputs": [],
   "source": [
    "# Get best parameters\n",
    "depth = gb_gs.best_params_['max_depth']\n",
    "feat = gb_gs.best_params_['max_features']\n",
    "estimators = gb_gs.best_params_['n_estimators']"
   ]
  },
  {
   "cell_type": "code",
   "execution_count": 136,
   "metadata": {
    "collapsed": true
   },
   "outputs": [],
   "source": [
    "gb_model = GradientBoostingClassifier(n_estimators = estimators, max_depth = depth, max_features = feat)"
   ]
  },
  {
   "cell_type": "code",
   "execution_count": 137,
   "metadata": {
    "collapsed": false
   },
   "outputs": [
    {
     "data": {
      "text/plain": [
       "GradientBoostingClassifier(criterion='friedman_mse', init=None,\n",
       "              learning_rate=0.1, loss='deviance', max_depth=4,\n",
       "              max_features='log2', max_leaf_nodes=None,\n",
       "              min_impurity_split=1e-07, min_samples_leaf=1,\n",
       "              min_samples_split=2, min_weight_fraction_leaf=0.0,\n",
       "              n_estimators=300, presort='auto', random_state=None,\n",
       "              subsample=1.0, verbose=0, warm_start=False)"
      ]
     },
     "execution_count": 137,
     "metadata": {},
     "output_type": "execute_result"
    }
   ],
   "source": [
    "gb_model.fit(X_train, Y_train)"
   ]
  },
  {
   "cell_type": "code",
   "execution_count": 138,
   "metadata": {
    "collapsed": false
   },
   "outputs": [
    {
     "name": "stdout",
     "output_type": "stream",
     "text": [
      "Test Accuracy : 69.629440978\n"
     ]
    }
   ],
   "source": [
    "print('Test Accuracy :', gb_model.score(X_test, Y_test) * 100)"
   ]
  },
  {
   "cell_type": "code",
   "execution_count": 139,
   "metadata": {
    "collapsed": false
   },
   "outputs": [
    {
     "data": {
      "text/plain": [
       "0.78989170504643291"
      ]
     },
     "execution_count": 139,
     "metadata": {},
     "output_type": "execute_result"
    }
   ],
   "source": [
    "log_loss(Y_test, gb_model.predict_proba(X_test))"
   ]
  },
  {
   "cell_type": "code",
   "execution_count": 140,
   "metadata": {
    "collapsed": false
   },
   "outputs": [
    {
     "data": {
      "text/plain": [
       "array([[5380,    0,    0,   22,    0,  810,  411],\n",
       "       [  10,    4,    0,   19,    0,    5,   78],\n",
       "       [   0,    0,    0,    1,    0,    0,    7],\n",
       "       [ 100,    1,    0,  356,    0,  106,  221],\n",
       "       [   1,    0,    0,    1,    0,    3,    6],\n",
       "       [ 789,    0,    0,   17,    0, 1901,  209],\n",
       "       [1280,    0,    0,  165,    0,  508, 3295]])"
      ]
     },
     "execution_count": 140,
     "metadata": {},
     "output_type": "execute_result"
    }
   ],
   "source": [
    "cm = confusion_matrix(Y_test, gb_model.predict(X_test))\n",
    "cm"
   ]
  },
  {
   "cell_type": "code",
   "execution_count": 159,
   "metadata": {
    "collapsed": false
   },
   "outputs": [
    {
     "data": {
      "text/plain": [
       "['Adoption',\n",
       " 'Died',\n",
       " 'Disposal',\n",
       " 'Euthanasia',\n",
       " 'Missing',\n",
       " 'Return to Owner',\n",
       " 'Transfer']"
      ]
     },
     "execution_count": 159,
     "metadata": {},
     "output_type": "execute_result"
    }
   ],
   "source": [
    "list(le.classes_)"
   ]
  },
  {
   "cell_type": "code",
   "execution_count": 173,
   "metadata": {
    "collapsed": false
   },
   "outputs": [
    {
     "data": {
      "image/png": "[encoded data removed]",
      "text/plain": [
       "<matplotlib.figure.Figure at 0x124343c18>"
      ]
     },
     "metadata": {},
     "output_type": "display_data"
    }
   ],
   "source": [
    "fig = plt.figure(figsize = (10,8))\n",
    "sns.heatmap(cm, annot = True, fmt = 'd', annot_kws = {'size': 20}, cmap = 'coolwarm', \n",
    "           cbar = 0, xticklabels = list(le.classes_), yticklabels = list(le.classes_) )\n",
    "plt.xticks(rotation = 35, fontsize = 12)\n",
    "plt.yticks(rotation = 25, fontsize = 12)\n",
    "plt.xlabel('Predicted Labels')\n",
    "plt.ylabel('True Labels')\n",
    "plt.title('Confusion Matrix for Test Set Predictions', fontsize = 16)\n",
    "plt.tight_layout(h_pad = 5.0, w_pad = 3.0)"
   ]
  },
  {
   "cell_type": "markdown",
   "metadata": {},
   "source": [
    "Considering the confusion matrix, we can see that the model does well with predicting adoption, return to owner, and transfer outcomes. When the model does not accurately predict adoption, most of the predictions are returned to owner or transferred. The same holds for the converse. When considering the confusion matrix, we want the diagonal elements, which indicate correct prediction, to hold the highest values. Our confusion matrix exhibits this property for most of the outcomes with exception to predicting death, disposal, and missing. This is most likely due to the very low number of occurrences of each outcome and the model was not able to capture features that accurately determined those outcomes. "
   ]
  },
  {
   "cell_type": "code",
   "execution_count": 142,
   "metadata": {
    "collapsed": false
   },
   "outputs": [
    {
     "data": {
      "text/html": [
       "<div>\n",
       "<table border=\"1\" class=\"dataframe\">\n",
       "  <thead>\n",
       "    <tr style=\"text-align: right;\">\n",
       "      <th></th>\n",
       "      <th>Features</th>\n",
       "      <th>Values</th>\n",
       "    </tr>\n",
       "  </thead>\n",
       "  <tbody>\n",
       "    <tr>\n",
       "      <th>26</th>\n",
       "      <td>Month_Intake_1</td>\n",
       "      <td>0.028307</td>\n",
       "    </tr>\n",
       "    <tr>\n",
       "      <th>23</th>\n",
       "      <td>Fixed_0</td>\n",
       "      <td>0.028399</td>\n",
       "    </tr>\n",
       "    <tr>\n",
       "      <th>28</th>\n",
       "      <td>Month_Intake_3</td>\n",
       "      <td>0.030661</td>\n",
       "    </tr>\n",
       "    <tr>\n",
       "      <th>5</th>\n",
       "      <td>Animal_Type_outcome_0</td>\n",
       "      <td>0.032003</td>\n",
       "    </tr>\n",
       "    <tr>\n",
       "      <th>1</th>\n",
       "      <td>Intake_Type_1</td>\n",
       "      <td>0.034448</td>\n",
       "    </tr>\n",
       "    <tr>\n",
       "      <th>0</th>\n",
       "      <td>Intake_Type_0</td>\n",
       "      <td>0.038367</td>\n",
       "    </tr>\n",
       "    <tr>\n",
       "      <th>2</th>\n",
       "      <td>Intake_Condition_0</td>\n",
       "      <td>0.045723</td>\n",
       "    </tr>\n",
       "    <tr>\n",
       "      <th>30</th>\n",
       "      <td>Given_Name</td>\n",
       "      <td>0.048138</td>\n",
       "    </tr>\n",
       "    <tr>\n",
       "      <th>24</th>\n",
       "      <td>Fixed_1</td>\n",
       "      <td>0.062480</td>\n",
       "    </tr>\n",
       "    <tr>\n",
       "      <th>29</th>\n",
       "      <td>Age_Intake</td>\n",
       "      <td>0.223453</td>\n",
       "    </tr>\n",
       "  </tbody>\n",
       "</table>\n",
       "</div>"
      ],
      "text/plain": [
       "                 Features    Values\n",
       "26         Month_Intake_1  0.028307\n",
       "23                Fixed_0  0.028399\n",
       "28         Month_Intake_3  0.030661\n",
       "5   Animal_Type_outcome_0  0.032003\n",
       "1           Intake_Type_1  0.034448\n",
       "0           Intake_Type_0  0.038367\n",
       "2      Intake_Condition_0  0.045723\n",
       "30             Given_Name  0.048138\n",
       "24                Fixed_1  0.062480\n",
       "29             Age_Intake  0.223453"
      ]
     },
     "execution_count": 142,
     "metadata": {},
     "output_type": "execute_result"
    }
   ],
   "source": [
    "feat_imp = pd.DataFrame({'Features':dat.columns.values,'Values':gb_model.feature_importances_})\n",
    "top_feat = feat_imp.sort_values(by = 'Values').iloc[-10:]\n",
    "top_feat"
   ]
  },
  {
   "cell_type": "code",
   "execution_count": 143,
   "metadata": {
    "collapsed": false
   },
   "outputs": [],
   "source": [
    "# labels.value_counts()[0]/float(len(labels))"
   ]
  },
  {
   "cell_type": "markdown",
   "metadata": {},
   "source": [
    "Using Gradient Boosting, we get a 69% accuracy, which is a 5% increase in accuracy from my last analysis using just the outcome data. This is a big improvement and we can actually see from the table above that on the top 10 features that influenced our accuracy, age intake is by far the most important feature in our set. Age intake was not in the outcome set and this is one indicator that the intake dataset contain valuable data that improves prediction accuracy. Another improvement we see from this model compared to the last one is the log loss. The log loss for this model is 0.79 compared to the last model, 0.86. This tells us that we can be more confident in our prediction probabilities from this model. "
   ]
  },
  {
   "cell_type": "markdown",
   "metadata": {},
   "source": [
    "### Further Improvements:\n",
    "I will further work on this dataset as time opens up. Some things I would like to work on are more data visualization, ensemble methods to improve prediction accuracy, try XGBoost with GPU support to improve computation time and accuracy, and to look at precision and recall results. Additionally, I will set up a dashboard using Plotly, which after you produce the plots, Plotly has a point and click tool to easily create dashboards via their UI online. "
   ]
  }
 ],
 "metadata": {
  "kernelspec": {
   "display_name": "Python 3",
   "language": "python",
   "name": "python3"
  },
  "language_info": {
   "codemirror_mode": {
    "name": "ipython",
    "version": 3
   },
   "file_extension": ".py",
   "mimetype": "text/x-python",
   "name": "python",
   "nbconvert_exporter": "python",
   "pygments_lexer": "ipython3",
   "version": "3.5.2"
  }
 },
 "nbformat": 4,
 "nbformat_minor": 2
}

{
 "cells": [
  {
   "cell_type": "markdown",
   "metadata": {},
   "source": [
    "## Analysis Topic:\n",
    "One topic that has been discussed recently in baseball is the third time through the order penalty (TTOP). Third time through the order penalty is simply the theory that a pitcher is less effective when he goes through the lineup of batters twice and faces each batter for the third time. \n",
    "\n",
    "This topic has come up several times throughout the years. Here are a few links to articles discussing TTOP along with a group of interviews conducted with team general managers and their thoughts on the penalty:\n",
    "\n",
    "http://www.sabermagician.com/visiting-the-fatigue-effect-in-starting-pitchers-the-times-through-the-order-penalty/\n",
    "\n",
    "http://www.businessinsider.com/ap-third-time-through-the-order-can-be-tough-to-navigate-2016-4\n",
    "\n",
    "http://sabr.org/latest/lichtman-pitch-types-and-times-through-order-penalty\n",
    "\n",
    "http://sabr.org/latest/lichtman-pitch-types-and-times-through-order-penalty\n",
    "\n",
    "Interviews: http://www.fangraphs.com/blogs/managers-on-the-third-time-through-the-order/\n",
    "\n",
    "In 2012, a study was presented at the Sloan Conference by MIT. The Colorado Rockies took the idea of the third time through the order penalty and experimented with the strategy of pulling their pitchers when they reached the third time through the order. They called this strategy 'paired pitching': use two pitchers, both only going through the order at most two times. The experiment did not go so well as they only won 64 games out of 162 games that season. \n",
    "\n",
    "From then on, the topic of TTOP has been somewhat controversial among sabermetricians and baseball professionals.\n",
    "\n"
   ]
  },
  {
   "cell_type": "markdown",
   "metadata": {},
   "source": [
    "## Goal:\n",
    "The goal of this analysis is to explore the third time through the order penalty. I will use data published by MLB to first, find evidence that pitchers do exhibit this third time through the order penalty, and second, use a statistical model, namely Hidden Markov Models, to explore an analytical approach teams can take to deal with the penalty, if it exists."
   ]
  },
  {
   "cell_type": "markdown",
   "metadata": {},
   "source": [
    "### Data\n",
    "The data is parsed using the pitchRx package in R. This package was written by Carson Sievert and parses the xml files released and published by the MLB. I will parse the 2013 and 2014 seasons. The data is prased and put into a sqlite3 database. There are several tables that are created from this parser. I will only be using two tables, the atbat and pitch table. The atbat table has features on each plate appearance and the pitch table has features on each pitch.\n",
    "\n",
    "Remark: There is no particular reason I chose the 2013 and 2014 seasons. Any season or seasons would just do. For two seasons, the parser takes about a little over an hour to parse the data and create the database, so to grab more data, it would require a longer run time to create the database. "
   ]
  },
  {
   "cell_type": "code",
   "execution_count": 1,
   "metadata": {
    "collapsed": false
   },
   "outputs": [],
   "source": [
    "from sqlalchemy import create_engine\n",
    "import pandas as pd\n",
    "import sqlite3\n",
    "import numpy as np\n",
    "\n",
    "\n",
    "pd.set_option('display.max_columns', 100)\n",
    "pd.set_option('display.max_rows', 1000)\n",
    "pd.set_option('display.float_format', lambda x: '%.3f' % x)\n",
    "\n",
    "from sklearn.preprocessing import LabelEncoder\n",
    "from sklearn.preprocessing import normalize\n",
    "from sklearn.externals import joblib\n",
    "\n",
    "from hmmlearn.hmm import MultinomialHMM\n",
    "from hmmlearn.hmm import GaussianHMM\n",
    "from pomegranate import *\n",
    "\n",
    "\n",
    "\n",
    "import plotly.plotly as py\n",
    "# plotly.offline.init_notebook_mode()\n",
    "from plotly.graph_objs import *\n",
    "from plotly.tools import FigureFactory as FF\n",
    "\n",
    "\n",
    "%load_ext rpy2.ipython\n",
    "# %load_ext pymatbridge\n",
    "np.set_printoptions(precision = 5, suppress = True)"
   ]
  },
  {
   "cell_type": "code",
   "execution_count": 2,
   "metadata": {
    "collapsed": false
   },
   "outputs": [],
   "source": [
    "# Parse using pitchRx package\n",
    "# %%R\n",
    "# library('DBI')\n",
    "# library('dplyr')\n",
    "# library('ggplot2')\n",
    "# library('pitchRx')\n",
    "# db <- src_sqlite(\"pitchRx1314.sqlite3\", create = TRUE)\n",
    "# scrape(start = \"2013-01-01\",end = \"2014-12-01\", connect = db$con)\n",
    "# scrape(start = \"2013-01-01\", end = \"2014-12-01\", suffix = files, connect = db$con)\n"
   ]
  },
  {
   "cell_type": "code",
   "execution_count": 3,
   "metadata": {
    "collapsed": true
   },
   "outputs": [],
   "source": [
    "conn = sqlite3.connect('pitchRx1314.sqlite3')"
   ]
  },
  {
   "cell_type": "markdown",
   "metadata": {},
   "source": [
    "Preview of the atbat table:"
   ]
  },
  {
   "cell_type": "code",
   "execution_count": 4,
   "metadata": {
    "collapsed": false
   },
   "outputs": [
    {
     "data": {
      "text/html": [
       "<div>\n",
       "<table border=\"1\" class=\"dataframe\">\n",
       "  <thead>\n",
       "    <tr style=\"text-align: right;\">\n",
       "      <th></th>\n",
       "      <th>pitcher</th>\n",
       "      <th>batter</th>\n",
       "      <th>num</th>\n",
       "      <th>b</th>\n",
       "      <th>s</th>\n",
       "      <th>o</th>\n",
       "      <th>start_tfs</th>\n",
       "      <th>start_tfs_zulu</th>\n",
       "      <th>stand</th>\n",
       "      <th>b_height</th>\n",
       "      <th>p_throws</th>\n",
       "      <th>atbat_des</th>\n",
       "      <th>atbat_des_es</th>\n",
       "      <th>event</th>\n",
       "      <th>score</th>\n",
       "      <th>home_team_runs</th>\n",
       "      <th>away_team_runs</th>\n",
       "      <th>url</th>\n",
       "      <th>inning_side</th>\n",
       "      <th>inning</th>\n",
       "      <th>next_</th>\n",
       "      <th>event2</th>\n",
       "      <th>event3</th>\n",
       "      <th>batter_name</th>\n",
       "      <th>pitcher_name</th>\n",
       "      <th>event4</th>\n",
       "      <th>gameday_link</th>\n",
       "      <th>date</th>\n",
       "      <th>event_num</th>\n",
       "      <th>event_es</th>\n",
       "      <th>event2_es</th>\n",
       "      <th>event3_es</th>\n",
       "      <th>event4_es</th>\n",
       "    </tr>\n",
       "  </thead>\n",
       "  <tbody>\n",
       "    <tr>\n",
       "      <th>0</th>\n",
       "      <td>493157.000</td>\n",
       "      <td>570805.000</td>\n",
       "      <td>21.000</td>\n",
       "      <td>0.000</td>\n",
       "      <td>3.000</td>\n",
       "      <td>1.000</td>\n",
       "      <td>185159</td>\n",
       "      <td>2013-02-24T18:51:59Z</td>\n",
       "      <td>L</td>\n",
       "      <td>6-2</td>\n",
       "      <td>R</td>\n",
       "      <td>Oscar Taveras strikes out swinging.</td>\n",
       "      <td>Oscar Taveras se poncha tirÃ¡ndole.</td>\n",
       "      <td>Strikeout</td>\n",
       "      <td>None</td>\n",
       "      <td>None</td>\n",
       "      <td>None</td>\n",
       "      <td>http://gd2.mlb.com/components/game/mlb/year_20...</td>\n",
       "      <td>bottom</td>\n",
       "      <td>3.000</td>\n",
       "      <td>Y</td>\n",
       "      <td>None</td>\n",
       "      <td>None</td>\n",
       "      <td>Oscar Taveras</td>\n",
       "      <td>Koji Uehara</td>\n",
       "      <td>None</td>\n",
       "      <td>gid_2013_02_24_bosmlb_slnmlb_1</td>\n",
       "      <td>2013_02_24</td>\n",
       "      <td>None</td>\n",
       "      <td>None</td>\n",
       "      <td>None</td>\n",
       "      <td>None</td>\n",
       "      <td>None</td>\n",
       "    </tr>\n",
       "    <tr>\n",
       "      <th>1</th>\n",
       "      <td>493157.000</td>\n",
       "      <td>434624.000</td>\n",
       "      <td>22.000</td>\n",
       "      <td>0.000</td>\n",
       "      <td>0.000</td>\n",
       "      <td>3.000</td>\n",
       "      <td>192028</td>\n",
       "      <td>2013-03-03T19:20:28Z</td>\n",
       "      <td>R</td>\n",
       "      <td>5-11</td>\n",
       "      <td>R</td>\n",
       "      <td>Jayson Nix flies out to center fielder Jacoby ...</td>\n",
       "      <td>Jayson Nix batea elevado de out a jardinero ce...</td>\n",
       "      <td>Flyout</td>\n",
       "      <td>None</td>\n",
       "      <td>None</td>\n",
       "      <td>None</td>\n",
       "      <td>http://gd2.mlb.com/components/game/mlb/year_20...</td>\n",
       "      <td>top</td>\n",
       "      <td>4.000</td>\n",
       "      <td>Y</td>\n",
       "      <td>None</td>\n",
       "      <td>None</td>\n",
       "      <td>Jayson Nix</td>\n",
       "      <td>Koji Uehara</td>\n",
       "      <td>None</td>\n",
       "      <td>gid_2013_03_03_nyamlb_bosmlb_1</td>\n",
       "      <td>2013_03_03</td>\n",
       "      <td>None</td>\n",
       "      <td>None</td>\n",
       "      <td>None</td>\n",
       "      <td>None</td>\n",
       "      <td>None</td>\n",
       "    </tr>\n",
       "    <tr>\n",
       "      <th>2</th>\n",
       "      <td>493157.000</td>\n",
       "      <td>461858.000</td>\n",
       "      <td>50.000</td>\n",
       "      <td>0.000</td>\n",
       "      <td>0.000</td>\n",
       "      <td>3.000</td>\n",
       "      <td>200446</td>\n",
       "      <td>2013-03-07T20:04:46Z</td>\n",
       "      <td>R</td>\n",
       "      <td>6-2</td>\n",
       "      <td>R</td>\n",
       "      <td>Trevor Plouffe grounds out, third baseman Drew...</td>\n",
       "      <td>Trevor Plouffe batea rodado de out, tercera ba...</td>\n",
       "      <td>Groundout</td>\n",
       "      <td>None</td>\n",
       "      <td>None</td>\n",
       "      <td>None</td>\n",
       "      <td>http://gd2.mlb.com/components/game/mlb/year_20...</td>\n",
       "      <td>bottom</td>\n",
       "      <td>5.000</td>\n",
       "      <td>Y</td>\n",
       "      <td>None</td>\n",
       "      <td>None</td>\n",
       "      <td>Trevor Plouffe</td>\n",
       "      <td>Koji Uehara</td>\n",
       "      <td>None</td>\n",
       "      <td>gid_2013_03_07_bosmlb_minmlb_1</td>\n",
       "      <td>2013_03_07</td>\n",
       "      <td>None</td>\n",
       "      <td>None</td>\n",
       "      <td>None</td>\n",
       "      <td>None</td>\n",
       "      <td>None</td>\n",
       "    </tr>\n",
       "    <tr>\n",
       "      <th>3</th>\n",
       "      <td>493157.000</td>\n",
       "      <td>425491.000</td>\n",
       "      <td>49.000</td>\n",
       "      <td>0.000</td>\n",
       "      <td>0.000</td>\n",
       "      <td>2.000</td>\n",
       "      <td>200223</td>\n",
       "      <td>2013-03-07T20:02:23Z</td>\n",
       "      <td>L</td>\n",
       "      <td>6-1</td>\n",
       "      <td>R</td>\n",
       "      <td>Ryan Doumit grounds out to first baseman Mike ...</td>\n",
       "      <td>Ryan Doumit batea rodado de out a primera base...</td>\n",
       "      <td>Groundout</td>\n",
       "      <td>None</td>\n",
       "      <td>None</td>\n",
       "      <td>None</td>\n",
       "      <td>http://gd2.mlb.com/components/game/mlb/year_20...</td>\n",
       "      <td>bottom</td>\n",
       "      <td>5.000</td>\n",
       "      <td>Y</td>\n",
       "      <td>None</td>\n",
       "      <td>None</td>\n",
       "      <td>Ryan Doumit</td>\n",
       "      <td>Koji Uehara</td>\n",
       "      <td>None</td>\n",
       "      <td>gid_2013_03_07_bosmlb_minmlb_1</td>\n",
       "      <td>2013_03_07</td>\n",
       "      <td>None</td>\n",
       "      <td>None</td>\n",
       "      <td>None</td>\n",
       "      <td>None</td>\n",
       "      <td>None</td>\n",
       "    </tr>\n",
       "  </tbody>\n",
       "</table>\n",
       "</div>"
      ],
      "text/plain": [
       "     pitcher     batter    num     b     s     o start_tfs  \\\n",
       "0 493157.000 570805.000 21.000 0.000 3.000 1.000    185159   \n",
       "1 493157.000 434624.000 22.000 0.000 0.000 3.000    192028   \n",
       "2 493157.000 461858.000 50.000 0.000 0.000 3.000    200446   \n",
       "3 493157.000 425491.000 49.000 0.000 0.000 2.000    200223   \n",
       "\n",
       "         start_tfs_zulu stand b_height p_throws  \\\n",
       "0  2013-02-24T18:51:59Z     L      6-2        R   \n",
       "1  2013-03-03T19:20:28Z     R     5-11        R   \n",
       "2  2013-03-07T20:04:46Z     R      6-2        R   \n",
       "3  2013-03-07T20:02:23Z     L      6-1        R   \n",
       "\n",
       "                                           atbat_des  \\\n",
       "0              Oscar Taveras strikes out swinging.     \n",
       "1  Jayson Nix flies out to center fielder Jacoby ...   \n",
       "2  Trevor Plouffe grounds out, third baseman Drew...   \n",
       "3  Ryan Doumit grounds out to first baseman Mike ...   \n",
       "\n",
       "                                        atbat_des_es      event score  \\\n",
       "0              Oscar Taveras se poncha tirÃ¡ndole.    Strikeout  None   \n",
       "1  Jayson Nix batea elevado de out a jardinero ce...     Flyout  None   \n",
       "2  Trevor Plouffe batea rodado de out, tercera ba...  Groundout  None   \n",
       "3  Ryan Doumit batea rodado de out a primera base...  Groundout  None   \n",
       "\n",
       "  home_team_runs away_team_runs  \\\n",
       "0           None           None   \n",
       "1           None           None   \n",
       "2           None           None   \n",
       "3           None           None   \n",
       "\n",
       "                                                 url inning_side  inning  \\\n",
       "0  http://gd2.mlb.com/components/game/mlb/year_20...      bottom   3.000   \n",
       "1  http://gd2.mlb.com/components/game/mlb/year_20...         top   4.000   \n",
       "2  http://gd2.mlb.com/components/game/mlb/year_20...      bottom   5.000   \n",
       "3  http://gd2.mlb.com/components/game/mlb/year_20...      bottom   5.000   \n",
       "\n",
       "  next_ event2 event3     batter_name pitcher_name event4  \\\n",
       "0     Y   None   None   Oscar Taveras  Koji Uehara   None   \n",
       "1     Y   None   None      Jayson Nix  Koji Uehara   None   \n",
       "2     Y   None   None  Trevor Plouffe  Koji Uehara   None   \n",
       "3     Y   None   None     Ryan Doumit  Koji Uehara   None   \n",
       "\n",
       "                     gameday_link        date event_num event_es event2_es  \\\n",
       "0  gid_2013_02_24_bosmlb_slnmlb_1  2013_02_24      None     None      None   \n",
       "1  gid_2013_03_03_nyamlb_bosmlb_1  2013_03_03      None     None      None   \n",
       "2  gid_2013_03_07_bosmlb_minmlb_1  2013_03_07      None     None      None   \n",
       "3  gid_2013_03_07_bosmlb_minmlb_1  2013_03_07      None     None      None   \n",
       "\n",
       "  event3_es event4_es  \n",
       "0      None      None  \n",
       "1      None      None  \n",
       "2      None      None  \n",
       "3      None      None  "
      ]
     },
     "execution_count": 4,
     "metadata": {},
     "output_type": "execute_result"
    }
   ],
   "source": [
    "pd.read_sql_query('''\n",
    "    SELECT *\n",
    "    FROM atbat\n",
    "    LIMIT 10\n",
    "    ''', conn).head(4)"
   ]
  },
  {
   "cell_type": "markdown",
   "metadata": {},
   "source": [
    "Preview of the pitch table:"
   ]
  },
  {
   "cell_type": "code",
   "execution_count": 5,
   "metadata": {
    "collapsed": false
   },
   "outputs": [
    {
     "data": {
      "text/html": [
       "<div>\n",
       "<table border=\"1\" class=\"dataframe\">\n",
       "  <thead>\n",
       "    <tr style=\"text-align: right;\">\n",
       "      <th></th>\n",
       "      <th>des</th>\n",
       "      <th>des_es</th>\n",
       "      <th>id</th>\n",
       "      <th>type</th>\n",
       "      <th>tfs</th>\n",
       "      <th>tfs_zulu</th>\n",
       "      <th>x</th>\n",
       "      <th>y</th>\n",
       "      <th>sv_id</th>\n",
       "      <th>start_speed</th>\n",
       "      <th>end_speed</th>\n",
       "      <th>sz_top</th>\n",
       "      <th>sz_bot</th>\n",
       "      <th>pfx_x</th>\n",
       "      <th>pfx_z</th>\n",
       "      <th>px</th>\n",
       "      <th>pz</th>\n",
       "      <th>x0</th>\n",
       "      <th>y0</th>\n",
       "      <th>z0</th>\n",
       "      <th>vx0</th>\n",
       "      <th>vy0</th>\n",
       "      <th>vz0</th>\n",
       "      <th>ax</th>\n",
       "      <th>ay</th>\n",
       "      <th>az</th>\n",
       "      <th>break_y</th>\n",
       "      <th>break_angle</th>\n",
       "      <th>break_length</th>\n",
       "      <th>pitch_type</th>\n",
       "      <th>type_confidence</th>\n",
       "      <th>zone</th>\n",
       "      <th>nasty</th>\n",
       "      <th>spin_dir</th>\n",
       "      <th>spin_rate</th>\n",
       "      <th>cc</th>\n",
       "      <th>mt</th>\n",
       "      <th>url</th>\n",
       "      <th>inning_side</th>\n",
       "      <th>inning</th>\n",
       "      <th>next_</th>\n",
       "      <th>num</th>\n",
       "      <th>on_1b</th>\n",
       "      <th>on_2b</th>\n",
       "      <th>on_3b</th>\n",
       "      <th>count</th>\n",
       "      <th>gameday_link</th>\n",
       "      <th>event_num</th>\n",
       "      <th>play_guid</th>\n",
       "    </tr>\n",
       "  </thead>\n",
       "  <tbody>\n",
       "    <tr>\n",
       "      <th>1000</th>\n",
       "      <td>In play, out(s)</td>\n",
       "      <td>En juego, out(s)</td>\n",
       "      <td>521.000</td>\n",
       "      <td>X</td>\n",
       "      <td>221041</td>\n",
       "      <td>2013-02-22T22:10:41Z</td>\n",
       "      <td>127.040</td>\n",
       "      <td>140.740</td>\n",
       "      <td>130222_151027</td>\n",
       "      <td>89.300</td>\n",
       "      <td>81.200</td>\n",
       "      <td>3.380</td>\n",
       "      <td>1.760</td>\n",
       "      <td>-9.530</td>\n",
       "      <td>9.900</td>\n",
       "      <td>-0.995</td>\n",
       "      <td>2.571</td>\n",
       "      <td>-1.499</td>\n",
       "      <td>50.000</td>\n",
       "      <td>6.330</td>\n",
       "      <td>4.456</td>\n",
       "      <td>-130.727</td>\n",
       "      <td>-6.660</td>\n",
       "      <td>-16.225</td>\n",
       "      <td>31.717</td>\n",
       "      <td>-15.251</td>\n",
       "      <td>23.700</td>\n",
       "      <td>42.000</td>\n",
       "      <td>5.400</td>\n",
       "      <td>FT</td>\n",
       "      <td>0.910</td>\n",
       "      <td>11.000</td>\n",
       "      <td>None</td>\n",
       "      <td>223.793</td>\n",
       "      <td>2601.810</td>\n",
       "      <td></td>\n",
       "      <td></td>\n",
       "      <td>http://gd2.mlb.com/components/game/mlb/year_20...</td>\n",
       "      <td>bottom</td>\n",
       "      <td>8.000</td>\n",
       "      <td>Y</td>\n",
       "      <td>64.000</td>\n",
       "      <td>552662.000</td>\n",
       "      <td>nan</td>\n",
       "      <td>nan</td>\n",
       "      <td>1-0</td>\n",
       "      <td>gid_2013_02_22_sdnmlb_seamlb_1</td>\n",
       "      <td>None</td>\n",
       "      <td>None</td>\n",
       "    </tr>\n",
       "    <tr>\n",
       "      <th>1001</th>\n",
       "      <td>Called Strike</td>\n",
       "      <td>Strike cantado</td>\n",
       "      <td>529.000</td>\n",
       "      <td>S</td>\n",
       "      <td>221347</td>\n",
       "      <td>2013-02-22T22:13:47Z</td>\n",
       "      <td>102.150</td>\n",
       "      <td>165.780</td>\n",
       "      <td>130222_151347</td>\n",
       "      <td>90.100</td>\n",
       "      <td>82.800</td>\n",
       "      <td>3.440</td>\n",
       "      <td>1.560</td>\n",
       "      <td>-13.100</td>\n",
       "      <td>3.880</td>\n",
       "      <td>0.067</td>\n",
       "      <td>1.681</td>\n",
       "      <td>-2.798</td>\n",
       "      <td>50.000</td>\n",
       "      <td>5.226</td>\n",
       "      <td>11.847</td>\n",
       "      <td>-131.608</td>\n",
       "      <td>-4.321</td>\n",
       "      <td>-22.903</td>\n",
       "      <td>28.689</td>\n",
       "      <td>-25.322</td>\n",
       "      <td>23.800</td>\n",
       "      <td>37.900</td>\n",
       "      <td>7.700</td>\n",
       "      <td>FT</td>\n",
       "      <td>1.007</td>\n",
       "      <td>8.000</td>\n",
       "      <td>None</td>\n",
       "      <td>253.344</td>\n",
       "      <td>2635.282</td>\n",
       "      <td></td>\n",
       "      <td></td>\n",
       "      <td>http://gd2.mlb.com/components/game/mlb/year_20...</td>\n",
       "      <td>top</td>\n",
       "      <td>9.000</td>\n",
       "      <td>N</td>\n",
       "      <td>65.000</td>\n",
       "      <td>nan</td>\n",
       "      <td>nan</td>\n",
       "      <td>nan</td>\n",
       "      <td>0-0</td>\n",
       "      <td>gid_2013_02_22_sdnmlb_seamlb_1</td>\n",
       "      <td>None</td>\n",
       "      <td>None</td>\n",
       "    </tr>\n",
       "    <tr>\n",
       "      <th>1002</th>\n",
       "      <td>Foul</td>\n",
       "      <td>Foul</td>\n",
       "      <td>530.000</td>\n",
       "      <td>S</td>\n",
       "      <td>221359</td>\n",
       "      <td>2013-02-22T22:13:59Z</td>\n",
       "      <td>103.860</td>\n",
       "      <td>155.420</td>\n",
       "      <td>130222_151359</td>\n",
       "      <td>91.800</td>\n",
       "      <td>83.900</td>\n",
       "      <td>3.380</td>\n",
       "      <td>1.500</td>\n",
       "      <td>-13.720</td>\n",
       "      <td>3.500</td>\n",
       "      <td>-0.137</td>\n",
       "      <td>2.120</td>\n",
       "      <td>-2.878</td>\n",
       "      <td>50.000</td>\n",
       "      <td>5.279</td>\n",
       "      <td>11.923</td>\n",
       "      <td>-134.062</td>\n",
       "      <td>-3.448</td>\n",
       "      <td>-24.769</td>\n",
       "      <td>31.130</td>\n",
       "      <td>-25.775</td>\n",
       "      <td>23.700</td>\n",
       "      <td>39.800</td>\n",
       "      <td>7.800</td>\n",
       "      <td>FT</td>\n",
       "      <td>0.840</td>\n",
       "      <td>8.000</td>\n",
       "      <td>None</td>\n",
       "      <td>255.514</td>\n",
       "      <td>2768.439</td>\n",
       "      <td></td>\n",
       "      <td></td>\n",
       "      <td>http://gd2.mlb.com/components/game/mlb/year_20...</td>\n",
       "      <td>top</td>\n",
       "      <td>9.000</td>\n",
       "      <td>N</td>\n",
       "      <td>65.000</td>\n",
       "      <td>nan</td>\n",
       "      <td>nan</td>\n",
       "      <td>nan</td>\n",
       "      <td>0-1</td>\n",
       "      <td>gid_2013_02_22_sdnmlb_seamlb_1</td>\n",
       "      <td>None</td>\n",
       "      <td>None</td>\n",
       "    </tr>\n",
       "    <tr>\n",
       "      <th>1003</th>\n",
       "      <td>Foul</td>\n",
       "      <td>Foul</td>\n",
       "      <td>531.000</td>\n",
       "      <td>S</td>\n",
       "      <td>221426</td>\n",
       "      <td>2013-02-22T22:14:26Z</td>\n",
       "      <td>87.550</td>\n",
       "      <td>132.110</td>\n",
       "      <td>130222_151426</td>\n",
       "      <td>94.400</td>\n",
       "      <td>86.700</td>\n",
       "      <td>3.380</td>\n",
       "      <td>1.500</td>\n",
       "      <td>-10.040</td>\n",
       "      <td>9.010</td>\n",
       "      <td>0.445</td>\n",
       "      <td>2.848</td>\n",
       "      <td>-2.722</td>\n",
       "      <td>50.000</td>\n",
       "      <td>5.262</td>\n",
       "      <td>12.172</td>\n",
       "      <td>-137.854</td>\n",
       "      <td>-3.860</td>\n",
       "      <td>-19.329</td>\n",
       "      <td>30.496</td>\n",
       "      <td>-14.756</td>\n",
       "      <td>23.800</td>\n",
       "      <td>46.900</td>\n",
       "      <td>4.800</td>\n",
       "      <td>FF</td>\n",
       "      <td>1.312</td>\n",
       "      <td>3.000</td>\n",
       "      <td>None</td>\n",
       "      <td>227.976</td>\n",
       "      <td>2738.270</td>\n",
       "      <td></td>\n",
       "      <td></td>\n",
       "      <td>http://gd2.mlb.com/components/game/mlb/year_20...</td>\n",
       "      <td>top</td>\n",
       "      <td>9.000</td>\n",
       "      <td>N</td>\n",
       "      <td>65.000</td>\n",
       "      <td>nan</td>\n",
       "      <td>nan</td>\n",
       "      <td>nan</td>\n",
       "      <td>0-2</td>\n",
       "      <td>gid_2013_02_22_sdnmlb_seamlb_1</td>\n",
       "      <td>None</td>\n",
       "      <td>None</td>\n",
       "    </tr>\n",
       "    <tr>\n",
       "      <th>1004</th>\n",
       "      <td>Ball</td>\n",
       "      <td>Bola mala</td>\n",
       "      <td>532.000</td>\n",
       "      <td>B</td>\n",
       "      <td>221444</td>\n",
       "      <td>2013-02-22T22:14:44Z</td>\n",
       "      <td>63.520</td>\n",
       "      <td>164.060</td>\n",
       "      <td>130222_151445</td>\n",
       "      <td>89.500</td>\n",
       "      <td>82.500</td>\n",
       "      <td>3.390</td>\n",
       "      <td>1.540</td>\n",
       "      <td>-1.550</td>\n",
       "      <td>7.670</td>\n",
       "      <td>1.140</td>\n",
       "      <td>1.585</td>\n",
       "      <td>-2.694</td>\n",
       "      <td>50.000</td>\n",
       "      <td>5.414</td>\n",
       "      <td>10.404</td>\n",
       "      <td>-130.717</td>\n",
       "      <td>-6.217</td>\n",
       "      <td>-2.675</td>\n",
       "      <td>28.076</td>\n",
       "      <td>-18.849</td>\n",
       "      <td>23.800</td>\n",
       "      <td>1.600</td>\n",
       "      <td>4.700</td>\n",
       "      <td>FC</td>\n",
       "      <td>1.018</td>\n",
       "      <td>14.000</td>\n",
       "      <td>None</td>\n",
       "      <td>191.350</td>\n",
       "      <td>1508.401</td>\n",
       "      <td></td>\n",
       "      <td></td>\n",
       "      <td>http://gd2.mlb.com/components/game/mlb/year_20...</td>\n",
       "      <td>top</td>\n",
       "      <td>9.000</td>\n",
       "      <td>N</td>\n",
       "      <td>65.000</td>\n",
       "      <td>nan</td>\n",
       "      <td>nan</td>\n",
       "      <td>nan</td>\n",
       "      <td>0-2</td>\n",
       "      <td>gid_2013_02_22_sdnmlb_seamlb_1</td>\n",
       "      <td>None</td>\n",
       "      <td>None</td>\n",
       "    </tr>\n",
       "  </tbody>\n",
       "</table>\n",
       "</div>"
      ],
      "text/plain": [
       "                  des            des_es      id type     tfs  \\\n",
       "1000  In play, out(s)  En juego, out(s) 521.000    X  221041   \n",
       "1001    Called Strike    Strike cantado 529.000    S  221347   \n",
       "1002             Foul              Foul 530.000    S  221359   \n",
       "1003             Foul              Foul 531.000    S  221426   \n",
       "1004             Ball         Bola mala 532.000    B  221444   \n",
       "\n",
       "                  tfs_zulu       x       y          sv_id  start_speed  \\\n",
       "1000  2013-02-22T22:10:41Z 127.040 140.740  130222_151027       89.300   \n",
       "1001  2013-02-22T22:13:47Z 102.150 165.780  130222_151347       90.100   \n",
       "1002  2013-02-22T22:13:59Z 103.860 155.420  130222_151359       91.800   \n",
       "1003  2013-02-22T22:14:26Z  87.550 132.110  130222_151426       94.400   \n",
       "1004  2013-02-22T22:14:44Z  63.520 164.060  130222_151445       89.500   \n",
       "\n",
       "      end_speed  sz_top  sz_bot   pfx_x  pfx_z     px    pz     x0     y0  \\\n",
       "1000     81.200   3.380   1.760  -9.530  9.900 -0.995 2.571 -1.499 50.000   \n",
       "1001     82.800   3.440   1.560 -13.100  3.880  0.067 1.681 -2.798 50.000   \n",
       "1002     83.900   3.380   1.500 -13.720  3.500 -0.137 2.120 -2.878 50.000   \n",
       "1003     86.700   3.380   1.500 -10.040  9.010  0.445 2.848 -2.722 50.000   \n",
       "1004     82.500   3.390   1.540  -1.550  7.670  1.140 1.585 -2.694 50.000   \n",
       "\n",
       "        z0    vx0      vy0    vz0      ax     ay      az  break_y  \\\n",
       "1000 6.330  4.456 -130.727 -6.660 -16.225 31.717 -15.251   23.700   \n",
       "1001 5.226 11.847 -131.608 -4.321 -22.903 28.689 -25.322   23.800   \n",
       "1002 5.279 11.923 -134.062 -3.448 -24.769 31.130 -25.775   23.700   \n",
       "1003 5.262 12.172 -137.854 -3.860 -19.329 30.496 -14.756   23.800   \n",
       "1004 5.414 10.404 -130.717 -6.217  -2.675 28.076 -18.849   23.800   \n",
       "\n",
       "      break_angle  break_length pitch_type  type_confidence   zone nasty  \\\n",
       "1000       42.000         5.400         FT            0.910 11.000  None   \n",
       "1001       37.900         7.700         FT            1.007  8.000  None   \n",
       "1002       39.800         7.800         FT            0.840  8.000  None   \n",
       "1003       46.900         4.800         FF            1.312  3.000  None   \n",
       "1004        1.600         4.700         FC            1.018 14.000  None   \n",
       "\n",
       "      spin_dir  spin_rate cc mt  \\\n",
       "1000   223.793   2601.810         \n",
       "1001   253.344   2635.282         \n",
       "1002   255.514   2768.439         \n",
       "1003   227.976   2738.270         \n",
       "1004   191.350   1508.401         \n",
       "\n",
       "                                                    url inning_side  inning  \\\n",
       "1000  http://gd2.mlb.com/components/game/mlb/year_20...      bottom   8.000   \n",
       "1001  http://gd2.mlb.com/components/game/mlb/year_20...         top   9.000   \n",
       "1002  http://gd2.mlb.com/components/game/mlb/year_20...         top   9.000   \n",
       "1003  http://gd2.mlb.com/components/game/mlb/year_20...         top   9.000   \n",
       "1004  http://gd2.mlb.com/components/game/mlb/year_20...         top   9.000   \n",
       "\n",
       "     next_    num      on_1b  on_2b  on_3b count  \\\n",
       "1000     Y 64.000 552662.000    nan    nan   1-0   \n",
       "1001     N 65.000        nan    nan    nan   0-0   \n",
       "1002     N 65.000        nan    nan    nan   0-1   \n",
       "1003     N 65.000        nan    nan    nan   0-2   \n",
       "1004     N 65.000        nan    nan    nan   0-2   \n",
       "\n",
       "                        gameday_link event_num play_guid  \n",
       "1000  gid_2013_02_22_sdnmlb_seamlb_1      None      None  \n",
       "1001  gid_2013_02_22_sdnmlb_seamlb_1      None      None  \n",
       "1002  gid_2013_02_22_sdnmlb_seamlb_1      None      None  \n",
       "1003  gid_2013_02_22_sdnmlb_seamlb_1      None      None  \n",
       "1004  gid_2013_02_22_sdnmlb_seamlb_1      None      None  "
      ]
     },
     "execution_count": 5,
     "metadata": {},
     "output_type": "execute_result"
    }
   ],
   "source": [
    "pd.read_sql_query('''\n",
    "    SELECT *\n",
    "    FROM pitch\n",
    "    LIMIT 2000\n",
    "    ''', conn).iloc[1000:1005]"
   ]
  },
  {
   "cell_type": "markdown",
   "metadata": {},
   "source": [
    "We will be doing a lot of dataset splicing and calculating baseball statistics so I will write functions so we don't have to repeat the process. The following functions will be used:\n",
    "\n",
    "**get_split_index**: Function to find the pitch number that seperates the first two times through the order and the third time through the order\n",
    "\n",
    "\n",
    "**split_3rd**: Function that splits the dataset into two. One that includes only data on first time through the order and another that only includes third time through the order and beyond. This function works on either one game, or multiple games (or entire season).\n",
    "\n",
    "\n",
    "**innings_pitched**: Returns the number of innings_pitched. \n",
    "\n",
    "\n",
    "**strikeout_ratio**: Calculates the strikeout ratio per 9 innings.\n",
    "\n",
    "**fip**: Calculates the FIP value.\n",
    "\n",
    "\n",
    "\n",
    "**whip**: Calculates the WHIP.\n",
    "\n",
    "\n",
    "\n",
    "** walks_ratio**: Calculates the walks ratio per 9 innings.\n"
   ]
  },
  {
   "cell_type": "markdown",
   "metadata": {},
   "source": [
    "Equations:\n",
    "\n",
    "$$\n",
    "FIP = \\frac{13*\\text{Home Runs} + 3 * (\\text{Walks} + \\text{Hit By Pitch}) - 2 * \\text{Strikeouts}}{\\text{Innings Pitched}} + \\text{FIP Constant},\\quad \\text{FIP Constant} = 3.10\n",
    "$$\n",
    "\n",
    "\n",
    "$$\n",
    "WHIP = \\frac{\\text{Walks} + \\text{Hits}}{\\text{Innings Pitched}}\n",
    "$$\n",
    "\n",
    "$$ \\text{K/9} = 9 * \\frac{Strikeouts}{\\text{Innings Pitched}} $$\n",
    "\n",
    "\n",
    "$$ \\text{BB/9} = 9 * \\frac{Walks}{\\text{Innings Pitched}}$$\n"
   ]
  },
  {
   "cell_type": "code",
   "execution_count": 6,
   "metadata": {
    "collapsed": true
   },
   "outputs": [],
   "source": [
    "def get_split_index(df):\n",
    "        count = 0\n",
    "        i = 0\n",
    "        for i in range(len(df) - 1):\n",
    "            batter_old = df.batter[i]\n",
    "            batter_new = df.batter[i + 1]\n",
    "            if batter_old != batter_new:\n",
    "                count += 1\n",
    "            if count == 18:\n",
    "                break\n",
    "        return (i + 1)\n",
    "\n",
    "def split_3rd(df):\n",
    "    before_3rd = pd.DataFrame()\n",
    "    after_3rd = pd.DataFrame()\n",
    "    dates = df.date.unique()\n",
    "    for d in dates:\n",
    "        game_df = df[df.date == d].reset_index(drop = True)\n",
    "        split_index = get_split_index(game_df) # Get row number that splits third time through order\n",
    "        before_3rd = before_3rd.append(game_df.iloc[0:split_index,:]) # Append dataframes\n",
    "        after_3rd = after_3rd.append(game_df.iloc[split_index:,:])\n",
    "        \n",
    "    return before_3rd, after_3rd.reset_index(drop = True)\n",
    "\n",
    "\n",
    "def innings_pitched(df):\n",
    "    one_out_plays = ['Groundout','Strikeout','Lineout','Sac Bunt','Pop Out','Flyout','Sac Fly','Forceout',\n",
    "                     'Runner Out','Fielders Choice Out','Bunt Groundout','Fielders Choice','Bunt Pop Out','Sac Fly',\n",
    "                    'Bunt Lineout']\n",
    "    two_out_plays = ['Double Play','Grounded Into DP','Strikeout - DP','Sac Fly DP','Sacrifice Bunt DP']\n",
    "    three_out_plays = ['Triple Play']\n",
    "    dates = list(df.date.unique())\n",
    "    ip = 0\n",
    "    for d in dates:\n",
    "        max_inning = max(df[df.date == d].inning).astype(int)\n",
    "        game_ip = 0\n",
    "        for i in range(1, (max_inning + 1)) :\n",
    "            df1 = df[(df.date == d) & (df.inning == i)]\n",
    "            one_outs = sum(df1.event.isin(one_out_plays))\n",
    "            two_outs = 2 * sum(df1.event.isin(two_out_plays))\n",
    "            three_outs = 3 * sum(df1.event.isin(three_out_plays))\n",
    "            game_ip += (one_outs + two_outs + three_outs)/3.0\n",
    "            ip += (one_outs + two_outs + three_outs)/3.0\n",
    "    return ip\n",
    "\n",
    "def strikeout_ratio(df):\n",
    "    return 9.0 * sum(df.event.isin(['Strikeout','Strikeout - DP']))/innings_pitched(df)\n",
    "\n",
    "def fip(df):\n",
    "    hr = sum(df.event.isin(['Home Run']))\n",
    "    bb = sum(df.event.isin(['Walk']))\n",
    "    hbp = sum(df.event.isin(['Hit By Pitch']))\n",
    "    k = sum(df.event.isin(['Strikeout','Strikeout - DP']))\n",
    "    ip = innings_pitched(df)\n",
    "    return (13 * hr + 3 * (bb + hbp) - 2*k)/ip + 3.10\n",
    "\n",
    "def whip(df):\n",
    "    bb = sum(df.event.isin(['Walk']))\n",
    "    hits = sum(df.event.isin(['Single','Home Run','Double','Triple']))\n",
    "    return (bb + hits)/innings_pitched(df)\n",
    "\n",
    "def walks_ratio(df):\n",
    "    return sum(df.event.isin(['Walk']))/innings_pitched(df) * 9.0\n",
    "\n",
    "def get_game(df, game):\n",
    "    return df[df.date == df.date.unique()[game]].reset_index(drop = True).drop('index', axis = 1)"
   ]
  },
  {
   "cell_type": "markdown",
   "metadata": {},
   "source": [
    "## Find Evidence:\n",
    "First, we will try to find evidence that pitchers are effected by this third time through the order penalty. I will take the starting pitchers who started 10 or more games in the 2013 season and split their datasets into one that includes first two times through the order and another one with third time through the order and beyond. Then, calculate their stats (FIP, WHIP, strikeout ratio per 9, etc.) and determine how many pitchers exhibit the penalty effect. I grabbed the list of pitchers from baseball-reference:\n",
    "\n",
    "http://www.baseball-reference.com/leagues/MLB/2013-standard-pitching.shtml"
   ]
  },
  {
   "cell_type": "code",
   "execution_count": 7,
   "metadata": {
    "collapsed": false
   },
   "outputs": [],
   "source": [
    "pitchers = list(pd.read_csv('pitchers.csv')['Name'])"
   ]
  },
  {
   "cell_type": "code",
   "execution_count": 8,
   "metadata": {
    "collapsed": false
   },
   "outputs": [],
   "source": [
    "\n",
    "before_fip = []\n",
    "after_fip = []\n",
    "before_whip = []\n",
    "after_whip = []\n",
    "before_strikeout = []\n",
    "after_strikeout = []\n",
    "before_walks = []\n",
    "after_walks = []\n",
    "pitch = []\n",
    "for pitcher in pitchers:\n",
    "#     print pitcher\n",
    "    sql_query = '''\n",
    "    SELECT *\n",
    "    FROM atbat\n",
    "    WHERE pitcher_name == ? AND (date >  '2013_03_31' AND date < '2013_09_29' )\n",
    "    '''\n",
    "    player_bat_df = pd.read_sql_query(sql_query, con = conn, params = [pitcher])\n",
    "    if len(player_bat_df) == 0:\n",
    "        continue\n",
    "\n",
    "    player_bat_df = player_bat_df.sort_values(['date', 'num']).reset_index(drop = True)\n",
    "    \n",
    "    before,after = split_3rd(player_bat_df)\n",
    "    \n",
    "    before_fip.append(fip(before))\n",
    "    after_fip.append(fip(after))\n",
    "    before_whip.append(whip(before))\n",
    "    after_whip.append(whip(after))\n",
    "    before_strikeout.append(strikeout_ratio(before))\n",
    "    after_strikeout.append(strikeout_ratio(after))\n",
    "    before_walks.append(walks_ratio(before))\n",
    "    after_walks.append(walks_ratio(after))\n",
    "    pitch.append(pitcher)\n",
    "    \n",
    "stats_df = pd.DataFrame({'aaname':pitch,\n",
    "                        'before_fip':before_fip,\n",
    "                        'after_fip':after_fip,\n",
    "                       'before_whip':before_whip,\n",
    "                       'after_whip':after_whip,\n",
    "                       'before_strikeout':before_strikeout,\n",
    "                       'after_strikeout':after_strikeout,\n",
    "                       'before_walks':before_walks,\n",
    "                       'after_walks':after_walks})\n",
    "                            "
   ]
  },
  {
   "cell_type": "code",
   "execution_count": 9,
   "metadata": {
    "collapsed": false
   },
   "outputs": [
    {
     "data": {
      "text/html": [
       "<div>\n",
       "<table border=\"1\" class=\"dataframe\">\n",
       "  <thead>\n",
       "    <tr style=\"text-align: right;\">\n",
       "      <th></th>\n",
       "      <th>aaname</th>\n",
       "      <th>before_fip</th>\n",
       "      <th>after_fip</th>\n",
       "      <th>before_whip</th>\n",
       "      <th>after_whip</th>\n",
       "      <th>before_strikeout</th>\n",
       "      <th>after_strikeout</th>\n",
       "      <th>before_walks</th>\n",
       "      <th>after_walks</th>\n",
       "    </tr>\n",
       "  </thead>\n",
       "  <tbody>\n",
       "    <tr>\n",
       "      <th>0</th>\n",
       "      <td>Adam Wainwright</td>\n",
       "      <td>2.595</td>\n",
       "      <td>2.544</td>\n",
       "      <td>1.043</td>\n",
       "      <td>1.100</td>\n",
       "      <td>8.806</td>\n",
       "      <td>7.089</td>\n",
       "      <td>1.400</td>\n",
       "      <td>0.938</td>\n",
       "    </tr>\n",
       "    <tr>\n",
       "      <th>1</th>\n",
       "      <td>James Shields</td>\n",
       "      <td>3.542</td>\n",
       "      <td>3.498</td>\n",
       "      <td>1.339</td>\n",
       "      <td>1.108</td>\n",
       "      <td>8.453</td>\n",
       "      <td>6.723</td>\n",
       "      <td>2.965</td>\n",
       "      <td>2.277</td>\n",
       "    </tr>\n",
       "    <tr>\n",
       "      <th>2</th>\n",
       "      <td>Justin Verlander</td>\n",
       "      <td>3.122</td>\n",
       "      <td>3.932</td>\n",
       "      <td>1.358</td>\n",
       "      <td>1.309</td>\n",
       "      <td>8.803</td>\n",
       "      <td>8.959</td>\n",
       "      <td>3.745</td>\n",
       "      <td>1.964</td>\n",
       "    </tr>\n",
       "    <tr>\n",
       "      <th>3</th>\n",
       "      <td>R.A. Dickey</td>\n",
       "      <td>4.036</td>\n",
       "      <td>5.744</td>\n",
       "      <td>1.259</td>\n",
       "      <td>1.208</td>\n",
       "      <td>7.307</td>\n",
       "      <td>6.750</td>\n",
       "      <td>2.539</td>\n",
       "      <td>3.432</td>\n",
       "    </tr>\n",
       "    <tr>\n",
       "      <th>4</th>\n",
       "      <td>Hisashi Iwakuma</td>\n",
       "      <td>3.678</td>\n",
       "      <td>2.970</td>\n",
       "      <td>1.036</td>\n",
       "      <td>0.909</td>\n",
       "      <td>7.325</td>\n",
       "      <td>8.178</td>\n",
       "      <td>1.513</td>\n",
       "      <td>1.688</td>\n",
       "    </tr>\n",
       "  </tbody>\n",
       "</table>\n",
       "</div>"
      ],
      "text/plain": [
       "             aaname  before_fip  after_fip  before_whip  after_whip  \\\n",
       "0   Adam Wainwright       2.595      2.544        1.043       1.100   \n",
       "1     James Shields       3.542      3.498        1.339       1.108   \n",
       "2  Justin Verlander       3.122      3.932        1.358       1.309   \n",
       "3       R.A. Dickey       4.036      5.744        1.259       1.208   \n",
       "4   Hisashi Iwakuma       3.678      2.970        1.036       0.909   \n",
       "\n",
       "   before_strikeout  after_strikeout  before_walks  after_walks  \n",
       "0             8.806            7.089         1.400        0.938  \n",
       "1             8.453            6.723         2.965        2.277  \n",
       "2             8.803            8.959         3.745        1.964  \n",
       "3             7.307            6.750         2.539        3.432  \n",
       "4             7.325            8.178         1.513        1.688  "
      ]
     },
     "execution_count": 9,
     "metadata": {},
     "output_type": "execute_result"
    }
   ],
   "source": [
    "cols = ['aaname','before_fip','after_fip','before_whip','after_whip',\n",
    "       'before_strikeout','after_strikeout','before_walks','after_walks']\n",
    "\n",
    "stats_df[cols].head()"
   ]
  },
  {
   "cell_type": "code",
   "execution_count": 10,
   "metadata": {
    "collapsed": false
   },
   "outputs": [
    {
     "name": "stdout",
     "output_type": "stream",
     "text": [
      "Percentage of Pitchers Affected:\n",
      "FIP: 0.634920634921\n",
      "WHIP: 0.68253968254\n",
      "Strikeout per9: 0.785714285714\n",
      "Walk ratio per9: 0.619047619048\n"
     ]
    }
   ],
   "source": [
    "print 'Percentage of Pitchers Affected:'\n",
    "print 'FIP:', len(stats_df[stats_df.before_fip < stats_df.after_fip])/float(len(stats_df))\n",
    "print 'WHIP:',len(stats_df[stats_df.before_whip < stats_df.after_whip])/float(len(stats_df))\n",
    "print 'Strikeout per9:',len(stats_df[stats_df.before_strikeout > stats_df.after_strikeout])/float(len(stats_df))\n",
    "print 'Walk ratio per9:',len(stats_df[stats_df.before_walks < stats_df.after_walks])/float(len(stats_df))"
   ]
  },
  {
   "cell_type": "markdown",
   "metadata": {},
   "source": [
    "As we can see, over 50% of the pitchers in the 2013 season are affected by TTOP. A stacked bar chart of 20 pitchers can be seen below."
   ]
  },
  {
   "cell_type": "code",
   "execution_count": 11,
   "metadata": {
    "collapsed": false
   },
   "outputs": [],
   "source": [
    "x_trace = []\n",
    "y_before = []\n",
    "y_after = []\n",
    "for i in range(20):\n",
    "    pitcher_name = stats_df.aaname[i]\n",
    "    x_trace.append(pitcher_name)\n",
    "    y_before.append(stats_df.ix[stats_df.aaname == pitcher_name, 'before_fip'][i])\n",
    "    y_after.append(stats_df.ix[stats_df.aaname == pitcher_name, 'after_fip'][i])\n",
    "trace1 = Bar(x = x_trace, y = y_before, name = 'Before TTO', marker = dict(color = 'rgb(49,130,189)'))\n",
    "trace2 = Bar(x = x_trace, y = y_after, name = 'After TTO', marker = dict(color = 'rgb(150,0,0)'))\n",
    "layout = Layout(title = 'Before and After Thrid Time Through Order FIP',\n",
    "                xaxis = dict(title = 'Pitcher'), yaxis = dict(title = 'FIP'), barmode = 'stack' )\n",
    "data = [trace1, trace2]\n",
    "fig1 = Figure(data = data, layout = layout)\n",
    "# plotly.offline.iplot(fig)\n",
    "\n",
    "x_trace = []\n",
    "y_before = []\n",
    "y_after = []\n",
    "for i in range(20):\n",
    "    pitcher_name = stats_df.aaname[i]\n",
    "    x_trace.append(pitcher_name)\n",
    "    y_before.append(stats_df.ix[stats_df.aaname == pitcher_name, 'before_whip'][i])\n",
    "    y_after.append(stats_df.ix[stats_df.aaname == pitcher_name, 'after_whip'][i])\n",
    "trace1 = Bar(x = x_trace, y = y_before, name = 'Before TTO', marker = dict(color = 'rgb(49,130,189)'))\n",
    "trace2 = Bar(x = x_trace, y = y_after, name = 'After TTO', marker = dict(color = 'rgb(150,0,0)'))\n",
    "layout = Layout(title = 'Before and After Thrid Time Through Order WHIP',\n",
    "                xaxis = dict(title = 'Pitcher'), yaxis = dict(title = 'WHIP'), barmode = 'stack' )\n",
    "data = [trace1, trace2]\n",
    "fig2 = Figure(data = data, layout = layout)\n"
   ]
  },
  {
   "cell_type": "code",
   "execution_count": 12,
   "metadata": {
    "collapsed": false
   },
   "outputs": [
    {
     "data": {
      "text/html": [
       "<iframe id=\"igraph\" scrolling=\"no\" style=\"border:none;\" seamless=\"seamless\" src=\"https://plot.ly/~ttran0/184.embed\" height=\"525px\" width=\"100%\"></iframe>"
      ],
      "text/plain": [
       "<plotly.tools.PlotlyDisplay object>"
      ]
     },
     "execution_count": 12,
     "metadata": {},
     "output_type": "execute_result"
    }
   ],
   "source": [
    "py.iplot(fig1)"
   ]
  },
  {
   "cell_type": "code",
   "execution_count": 13,
   "metadata": {
    "collapsed": false
   },
   "outputs": [
    {
     "data": {
      "text/html": [
       "<iframe id=\"igraph\" scrolling=\"no\" style=\"border:none;\" seamless=\"seamless\" src=\"https://plot.ly/~ttran0/186.embed\" height=\"525px\" width=\"100%\"></iframe>"
      ],
      "text/plain": [
       "<plotly.tools.PlotlyDisplay object>"
      ]
     },
     "execution_count": 13,
     "metadata": {},
     "output_type": "execute_result"
    }
   ],
   "source": [
    "py.iplot(fig2)"
   ]
  },
  {
   "cell_type": "markdown",
   "metadata": {},
   "source": [
    "## Hidden Markov Model\n",
    "\n",
    "A Hidden Markov Model (HMM) is composed of a sequence of states $s_1, s_2, s_3, ..., s_n$, where each state generates an observation, $y_1, y_2,..., y_n$. The assumption of a hidden markov model is that the next state is only dependent on the previous state. This is considered a <em>first order</em> HMM and the sequence of states is called a <em>Markov Chain.</em> \n",
    "\n",
    "![title](\n",
    "http://sites.stat.psu.edu/~jiali/pictures/hmm.gif)\n",
    "\n",
    "Let's cook up a scenario for an example: The weather (sunny or raining) on a day will influence what I do on that day (go shopping or watch a movie at home). Assuming that the weather condition is the sequence of states, and my action is the sequence of observations. One possible sequence of states can be {raining, sunny, sunny, raining}, and one possible sequence of observations can be {shop, movie, shop, shop}. \n",
    "\n",
    "Notice that each state (raining or sunny) generates an observation (shop or movie). \n",
    "Now, let's say we have no other way of recalling what the weather was the last 4 days, so I told you what I did for the past four days, i.e. {shop, shop, movie, shop}. From there, we are tasked to determine the most likely sequence of weather on each day. The hidden markov model is a method that allows us tackle this task. \n",
    "\n",
    "The hidden markov model assumes we have a sequence of observations and we can infer the most likely sequence of states that correspond. We can also estimate the probabilities of one state transitioning to another. For example, we can determine the probability of transitioning from raining on one day to sunny on the next. Additionally, we can determine the probability of each state emitting a specific observation. For example, the probability that I shop given the weather is in the a sunny state."
   ]
  },
  {
   "cell_type": "markdown",
   "metadata": {},
   "source": [
    "### Applying Hidden Markov Model to Baseball to Make Smarter Decisions"
   ]
  },
  {
   "cell_type": "markdown",
   "metadata": {},
   "source": [
    "We will extend this idea to the problem we are trying to analyze: the third time through the order penalty. I will assume that the pitcher has three states during a game: good pitching state, mediocre pitching state, and bad pitching state. The observation sequence will consist of: the pitch was a strike, the pitch was a ball, and the pitch resulted in a hit (single, double, etc.). For each pitcher, we will apply the hidden markov model to the sequence of observations (strike, ball, hit) to determine the most likely sequence of states that the pitcher was in before each pitch. From here, we can see how often the pitcher was in a good pitching state and so on. Additionally, we can recover the state transitioning probabilities and emission probabilities. \n",
    "\n",
    "As history dictates (2012 Colorado Rockies season), pulling a pitcher as soon as he finishes pitching to his 18th batter (second time through the order) in a game does not produce good results. While a majority of pitchers do suffer from TTOP, there are certain pitchers that actually perform better third time through the order. Thus, applying one strategy to all pitchers proved to be unsuccessful. One possible aid for smart decision-making during the game is to look at the state transitioning probabilities for each pitcher. If John Doe, our starting pitcher has a very low probability of transitioning out of a bad state, then we can come to a conclusion that when John starts to pitch poorly during a game, he is less likely to recover and get back into a state where he is pitching well again. Thus, especially during the third or fourth time through the order, we will take John out of the game if he starts performing poorly. \n",
    "\n",
    "If we are in the middle of the season and our starting pitchers are pitching their 13th game this week, we can take the sequence of observations for their previous 12 games and look at their state transitioning probabilities. This will help us make smarter decisions during this week's games on whether to pull them out of the game if they start to enter a bad pitching state. "
   ]
  },
  {
   "cell_type": "markdown",
   "metadata": {},
   "source": [
    "### Recovering State Sequence and Estimating State Transition Probabilities and Emission Probabilites\n",
    "I will use the hmmlearn package in python to apply the hidden markov model to this data. I actually  experimented with other packages including Pomegranate, HMM in R, the built in HMM for Matlab, and I also wrote my own code in Python and Matlab to recover the state sequence and probabilities. I decided to use the hmmlearn package in Python because of speed and it is very easy to use. I will train our Hidden Markov Model using the entire 2013 season for a specified pitcher. For quick analysis, I will use the Hidden Markov Model to recover transition and emission probabilities for two pitchers, one who had a successful 2013 season, and one who did not have a great season: Adam Wainwright, and Jeremy Guthrie."
   ]
  },
  {
   "cell_type": "code",
   "execution_count": 17,
   "metadata": {
    "collapsed": false
   },
   "outputs": [],
   "source": [
    "index = (stats_df.before_fip - stats_df.after_fip).sort_values().index\n",
    "# stats_df.aaname[index[0]]\n",
    "\n",
    "def hidden_markov(pitcher):\n",
    "    sql_query = '''\n",
    "    SELECT \n",
    "    X.date as date,\n",
    "    X.event as event,\n",
    "    pitch.inning as inning,\n",
    "    X.o as o,\n",
    "    X.s as o,\n",
    "    X.b as b, \n",
    "    X.s as s, \n",
    "    X.pitcher_name as pitcher_name,\n",
    "    X.batter_name as batter,\n",
    "    pitch.type as type,\n",
    "    pitch.x0 as x_location,\n",
    "    pitch.z0 as z_location\n",
    "    FROM (\n",
    "        SELECT *\n",
    "        FROM atbat\n",
    "        WHERE pitcher_name = ? AND (date >  '2013_03_30' AND date < '2013_09_29')\n",
    "    ) AS X\n",
    "    INNER JOIN pitch on X.gameday_link = pitch.gameday_link AND X.num = pitch.num\n",
    "    ORDER BY date,inning, id, o ASC\n",
    "    '''\n",
    "    \n",
    "    player_df = pd.read_sql_query(sql_query, con = conn, params = [pitcher])\n",
    "\n",
    "    stats_df[stats_df.aaname == pitcher][cols]\n",
    "\n",
    "    out_plays = ['Groundout','Strikeout','Lineout','Sac Bunt','Pop Out',\n",
    "                                                     'Flyout','Sac Fly','Forceout',\n",
    "                                                     'Runner Out','Fielders Choice Out','Bunt Groundout',\n",
    "                                                     'Fielders Choice','Bunt Pop Out','Sac Fly',\n",
    "                                                     'Bunt Lineout',\n",
    "                                                     'Double Play','Grounded Into DP','Strikeout - DP',\n",
    "                                                     'Sac Fly DP','Sacrifice Bunt DP', \n",
    "                                                     'Triple Play'\n",
    "                                                    ]\n",
    "    observations = [str(player_df.type[i]) if player_df.type[i] != 'X'\n",
    "                    else 'S' if ((player_df.event[i] in out_plays) & (player_df.type[i] == 'X'))\n",
    "                    else 'X'\n",
    "                    for i in range(len(player_df))\n",
    "                   ]\n",
    "\n",
    "    observations = player_df.type\n",
    "    le = LabelEncoder()\n",
    "    obs = le.fit_transform(observations)\n",
    "    obs = obs.reshape(len(observations), 1)\n",
    "\n",
    "    lengths = [len(player_df[player_df.date == d]) for d in player_df.date.unique()]\n",
    "    dates = player_df.date.unique()\n",
    "\n",
    "    hmm = MultinomialHMM(n_components = 3, n_iter = 1000, tol = 1e-5)\n",
    "    hmm.startprob_ = np.array([1/4., 1/2., 1/4.])\n",
    "    hmm.fit(obs, lengths)\n",
    "    states = hmm.decode(obs, lengths)[1]\n",
    "    joblib.dump(hmm, pitcher + \".pkl\") # Save Model\n",
    "    \n",
    "    hmmdf = pd.DataFrame({'states':states,\n",
    "                          'event':player_df.type,\n",
    "                          'date':player_df.date,\n",
    "                          'batter':player_df.batter, \n",
    "                          'event':player_df.event,\n",
    "                          'inning': player_df.inning\n",
    "                         }).reset_index()\n",
    "    \n",
    "    return player_df, hmmdf, hmm.transmat_, hmm.emissionprob_"
   ]
  },
  {
   "cell_type": "code",
   "execution_count": 18,
   "metadata": {
    "collapsed": false
   },
   "outputs": [],
   "source": [
    "def get_plot(Pitcher):\n",
    "    player_df, hmmdf, A, b = hidden_markov(Pitcher)\n",
    "    df_A = pd.DataFrame(A, columns = ['State 0', 'State 1', 'State 2']) * 100\n",
    "    df_A['States'] = ['State 0', 'State 1', 'State 2']\n",
    "    df_A.set_index('States', drop = True, inplace = True)\n",
    "    table1 = FF.create_table(df_A, index = True, index_title = 'Transition Matrix')\n",
    "#     plotly.offline.iplot(table1)\n",
    "    py.iplot(table1)\n",
    "    \n",
    "    df_b = pd.DataFrame(b, columns = ['Ball', 'Strike', 'Hit']) * 100\n",
    "    df_b['States'] = ['State 0', 'State 1', 'State 2']\n",
    "    df_b.set_index('States', drop = True, inplace = True)\n",
    "    table2 = FF.create_table(df_b, index = True, index_title = 'Emission Matrix')\n",
    "#     plotly.offline.iplot(table2)\n",
    "    py.iplot(table2)\n",
    "    \n",
    "    \n",
    "    data = []\n",
    "    button = []\n",
    "    dates = player_df.date.unique()\n",
    "    n = len(dates)\n",
    "    button.append(dict(args = ['visible', [1] * n], label = 'All', method = 'restyle'))    \n",
    "    for i in range(0, n):\n",
    "        t = Scatter( x = range(1, len(get_game(hmmdf, i)) + 1 ), y = get_game(hmmdf, i).states,\n",
    "                   name = 'Game' + ' ' + str(i + 1))\n",
    "\n",
    "        show = [i == range(n)[j] for j in range(n)]\n",
    "        button.append(dict(args = ['visible', show], label = dates[i] + '/' + ' ' + 'Game' + ' ' + str(i + 1),\n",
    "                           method = 'restyle'))\n",
    "        data.append(t)\n",
    "\n",
    "\n",
    "    layout = Layout(\n",
    "        title = 'States Chain',\n",
    "        xaxis = dict(title = 'Pitch'),\n",
    "        yaxis = dict(title = 'State'),\n",
    "        updatemenus = list([\n",
    "                dict(\n",
    "                    x = -0.05,\n",
    "                    y = 1,\n",
    "                    yanchor = 'top',\n",
    "                    buttons = button  \n",
    "                )\n",
    "            ])\n",
    "    )\n",
    "    fig = Figure(data = data, layout = layout)\n",
    "#     plotly.offline.iplot(fig)\n",
    "    return table1, table2, fig"
   ]
  },
  {
   "cell_type": "markdown",
   "metadata": {},
   "source": [
    "## Decisions Decisions\n",
    "\n",
    "Below are the tables of the transition and emission matrices for Adam Wainwright and Jeremy Guthrie. For the transition matrix, we can view current state by row and the next state is by column. For example, the probability of Adam Wainwright transitioning from State 0 to State 1 is 61.18%. For the emission matrix, the values represent the probability of emitting the indicated column being in each state. For example, if Adam Wainwright is currently in state 0, he has a 60.5% chance of throwing a ball, and a 16.3% chance of giving up a hit. "
   ]
  },
  {
   "cell_type": "markdown",
   "metadata": {},
   "source": [
    "### Adam Wainwright"
   ]
  },
  {
   "cell_type": "code",
   "execution_count": 19,
   "metadata": {
    "collapsed": false
   },
   "outputs": [],
   "source": [
    "table1, table2, fig = get_plot('Adam Wainwright')"
   ]
  },
  {
   "cell_type": "code",
   "execution_count": 20,
   "metadata": {
    "collapsed": false
   },
   "outputs": [
    {
     "data": {
      "text/html": [
       "<iframe id=\"igraph\" scrolling=\"no\" style=\"border:none;\" seamless=\"seamless\" src=\"https://plot.ly/~ttran0/192.embed\" height=\"170px\" width=\"100%\"></iframe>"
      ],
      "text/plain": [
       "<plotly.tools.PlotlyDisplay object>"
      ]
     },
     "execution_count": 20,
     "metadata": {},
     "output_type": "execute_result"
    }
   ],
   "source": [
    "py.iplot(table2)"
   ]
  },
  {
   "cell_type": "code",
   "execution_count": 21,
   "metadata": {
    "collapsed": false
   },
   "outputs": [
    {
     "data": {
      "text/html": [
       "<iframe id=\"igraph\" scrolling=\"no\" style=\"border:none;\" seamless=\"seamless\" src=\"https://plot.ly/~ttran0/194.embed\" height=\"170px\" width=\"100%\"></iframe>"
      ],
      "text/plain": [
       "<plotly.tools.PlotlyDisplay object>"
      ]
     },
     "execution_count": 21,
     "metadata": {},
     "output_type": "execute_result"
    }
   ],
   "source": [
    "py.iplot(table1)"
   ]
  },
  {
   "cell_type": "markdown",
   "metadata": {},
   "source": [
    "Notice that the states here are by number opposed to the assumption we made earlier: good, mediocre, bad. Because the model is a mathematical model, the states had to be encoded to recover the probabilities and sequence of states. However, from the tables, we can infer which state is the bad state, medicore state, and good state. \n",
    "\n",
    "First notice Wainwright's emission matrix, if he is in state 0, he has a 60.5% chance of throwing a ball, which is the highest of all the states. Thus, this state is the medicore state. Next, notice if he is in state 1, he is 68.78% likely to throw a strike, which is the highest percentage of all states; state 1 will be our good state. Finally, if he is  in state 2, he is 58.89% likely to give up a hit, the highest probability of all states so state 2 will be our bad state. So we have established for Wainwright that :\n",
    "\n",
    "State 2 = Bad State\n",
    "\n",
    "State 0 = Mediocre State\n",
    "\n",
    "State 1 = Good State\n",
    "\n",
    "Next, observe his transition matrix. When he is in his bad state (state 2), he has a 0% chance of self-transitioning to state 0. Instead, he is most likely to transition to state 1 (56.03%), which is his good state.  When he is in his medicore state, he also has the highest probability of transitioning to state 1, his good state with 61.18% probability. This tells us that when he goes into a bad or mediocre state during a game, he is most likley to leave that state and is likely to go back into his good state.  \n",
    "\n",
    "Below are the plots of the Markov Chains, the sequence of states for each game in the season. Feel free to use the drop down menu to navigate to any individual game to see the sequence of states for the pitcher. \n"
   ]
  },
  {
   "cell_type": "code",
   "execution_count": 22,
   "metadata": {
    "collapsed": false
   },
   "outputs": [
    {
     "data": {
      "text/html": [
       "<iframe id=\"igraph\" scrolling=\"no\" style=\"border:none;\" seamless=\"seamless\" src=\"https://plot.ly/~ttran0/196.embed\" height=\"525px\" width=\"100%\"></iframe>"
      ],
      "text/plain": [
       "<plotly.tools.PlotlyDisplay object>"
      ]
     },
     "execution_count": 22,
     "metadata": {},
     "output_type": "execute_result"
    }
   ],
   "source": [
    "py.iplot(fig)"
   ]
  },
  {
   "cell_type": "markdown",
   "metadata": {},
   "source": [
    "### Jeremy Guthrie"
   ]
  },
  {
   "cell_type": "code",
   "execution_count": 23,
   "metadata": {
    "collapsed": false
   },
   "outputs": [],
   "source": [
    "table1, table2, fig = get_plot('Jeremy Guthrie')"
   ]
  },
  {
   "cell_type": "code",
   "execution_count": 24,
   "metadata": {
    "collapsed": false
   },
   "outputs": [
    {
     "data": {
      "text/html": [
       "<iframe id=\"igraph\" scrolling=\"no\" style=\"border:none;\" seamless=\"seamless\" src=\"https://plot.ly/~ttran0/202.embed\" height=\"170px\" width=\"100%\"></iframe>"
      ],
      "text/plain": [
       "<plotly.tools.PlotlyDisplay object>"
      ]
     },
     "execution_count": 24,
     "metadata": {},
     "output_type": "execute_result"
    }
   ],
   "source": [
    "py.iplot(table2)"
   ]
  },
  {
   "cell_type": "code",
   "execution_count": 25,
   "metadata": {
    "collapsed": false
   },
   "outputs": [
    {
     "data": {
      "text/html": [
       "<iframe id=\"igraph\" scrolling=\"no\" style=\"border:none;\" seamless=\"seamless\" src=\"https://plot.ly/~ttran0/204.embed\" height=\"170px\" width=\"100%\"></iframe>"
      ],
      "text/plain": [
       "<plotly.tools.PlotlyDisplay object>"
      ]
     },
     "execution_count": 25,
     "metadata": {},
     "output_type": "execute_result"
    }
   ],
   "source": [
    "py.iplot(table1)"
   ]
  },
  {
   "cell_type": "markdown",
   "metadata": {},
   "source": [
    "If we do the same analysis for Jeremy Guthrie, we can conclude that his corresponding states are:\n",
    "\n",
    "State 2 = Bad State\n",
    "\n",
    "State 0 = Mediocre State\n",
    "\n",
    "State 1 = Good State\n",
    "\n",
    "Looking at his transition matrix, we can see that when Guthrie is in his bad state (state 2), he has a 17.69% chance of returning to his bad state. The biggest difference between Guthrie and Weinwright is that when he is in either a good state or mediocre state, he has the highest probability to transition back into his bad state. In fact, when Guthrie is in his good state, he only has a 17.8% chance of staying in his good state. Additionally, unlike Weinwright who has 0% chance of staying in his bad state, Guthrie still has a 17.69% chance of staying in his bad state. We can see the distinction between these two pitchers in terms of their transition and emission matrices. "
   ]
  },
  {
   "cell_type": "code",
   "execution_count": 26,
   "metadata": {
    "collapsed": false
   },
   "outputs": [
    {
     "data": {
      "text/html": [
       "<iframe id=\"igraph\" scrolling=\"no\" style=\"border:none;\" seamless=\"seamless\" src=\"https://plot.ly/~ttran0/206.embed\" height=\"525px\" width=\"100%\"></iframe>"
      ],
      "text/plain": [
       "<plotly.tools.PlotlyDisplay object>"
      ]
     },
     "execution_count": 26,
     "metadata": {},
     "output_type": "execute_result"
    }
   ],
   "source": [
    "py.iplot(fig)"
   ]
  },
  {
   "cell_type": "markdown",
   "metadata": {},
   "source": [
    "## Results\n",
    "\n",
    "We can see from running the HMM on Adam Wainwright and Jeremy Guthrie that there is a distinction on their transitioning and emission matrices. Adam Wainwright had transitioning probabilites that favored going back into his good state. Jeremy Guthrie matrices did not establish the same feature. We see from Guthrie's transitioning matrix that he can struggle and transition to his bad state often. The differences between their HMM results can be an explantion for their season results. Wainwright had a 2.55 FIP and 2.94 ERA (Earned Run Average) while Guthrie had a 4.79 FIP and 4.04 ERA in 2013 .\n"
   ]
  },
  {
   "cell_type": "markdown",
   "metadata": {},
   "source": [
    "## More Analysis:\n",
    "\n",
    "I will do more analysis soon. We still need to look at more pitchers to see if their transitioning and emission matrices provide indication of their season results. As time permits, I will do more comparisons and produce more charts to show results. I am actually excited about these results as it shows promise in a method to aid smarter decisions during the game. I am actually interested in extending this analysis to relievers to measure their effectiveness."
   ]
  }
 ],
 "metadata": {
  "kernelspec": {
   "display_name": "Python 2",
   "language": "python",
   "name": "python2"
  },
  "language_info": {
   "codemirror_mode": {
    "name": "ipython",
    "version": 2
   },
   "file_extension": ".py",
   "mimetype": "text/x-python",
   "name": "python",
   "nbconvert_exporter": "python",
   "pygments_lexer": "ipython2",
   "version": "2.7.12"
  }
 },
 "nbformat": 4,
 "nbformat_minor": 0
}
